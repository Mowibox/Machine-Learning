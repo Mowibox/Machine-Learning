{
  "nbformat": 4,
  "nbformat_minor": 0,
  "metadata": {
    "colab": {
      "name": "MLEx5_LinearRegression",
      "provenance": [],
      "collapsed_sections": []
    },
    "kernelspec": {
      "name": "python3",
      "display_name": "Python 3"
    }
  },
  "cells": [
    {
      "cell_type": "markdown",
      "metadata": {
        "id": "K1Ldrsw3gyYK"
      },
      "source": [
        "# Machine Learning - Exercise 5\n",
        "# Linear/kernel regression\n",
        "\n",
        "Example adapted from \n",
        "https://scikit-learn.org/stable/auto_examples/linear_model/plot_ols.html#sphx-glr-auto-examples-linear-model-plot-ols-py"
      ]
    },
    {
      "cell_type": "markdown",
      "metadata": {
        "id": "4HDgIK66g8oc"
      },
      "source": [
        "## Import libraries and load data set"
      ]
    },
    {
      "cell_type": "code",
      "metadata": {
        "id": "vGM7ZZulbRfT",
        "outputId": "e1f33149-ba5a-4613-b567-1a51b355da66",
        "colab": {
          "base_uri": "https://localhost:8080/",
          "height": 110
        }
      },
      "source": [
        "import matplotlib.pyplot as plt\n",
        "import numpy as np\n",
        "from sklearn import datasets, linear_model\n",
        "from sklearn.metrics import mean_squared_error, r2_score\n",
        "from sklearn.svm import SVR\n",
        "\n",
        "\n",
        "# Load the diabetes dataset\n",
        "diabetes = datasets.load_diabetes()\n",
        "\n",
        "print('Dataset: diabetes')\n",
        "print('Number of features: %d' %diabetes.data.shape[1])\n",
        "print('Number of samples: %d' %diabetes.data.shape[0])\n",
        "\n",
        "# Use only one feature\n",
        "diabetes_X = diabetes.data[:, np.newaxis, 2]\n",
        "\n",
        "\n",
        "# Split the data into training/testing sets\n",
        "diabetes_X_train = diabetes_X[:-20]\n",
        "diabetes_X_test = diabetes_X[-20:]\n",
        "\n",
        "# Split the targets into training/testing sets\n",
        "diabetes_y_train = diabetes.target[:-20]\n",
        "diabetes_y_test = diabetes.target[-20:]\n",
        "\n",
        "print('Training set size: %d' %len(diabetes_X_train))\n",
        "print('Test set size: %d' %len(diabetes_X_test))"
      ],
      "execution_count": null,
      "outputs": [
        {
          "output_type": "stream",
          "text": [
            "Dataset: diabetes\n",
            "Number of features: 10\n",
            "Number of samples: 442\n",
            "Training set size: 422\n",
            "Test set size: 20\n"
          ],
          "name": "stdout"
        }
      ]
    },
    {
      "cell_type": "markdown",
      "metadata": {
        "id": "me8_rH3ahELo"
      },
      "source": [
        "## Linear regression\n"
      ]
    },
    {
      "cell_type": "code",
      "metadata": {
        "id": "k3b_tqSabpU9",
        "outputId": "13358672-c52c-4204-a593-3c734e24d90e",
        "colab": {
          "base_uri": "https://localhost:8080/",
          "height": 56
        }
      },
      "source": [
        "# Create linear regression object\n",
        "model = linear_model.LinearRegression()\n",
        "\n",
        "# Train the model using the training sets\n",
        "model.fit(diabetes_X_train, diabetes_y_train)\n",
        "\n"
      ],
      "execution_count": null,
      "outputs": [
        {
          "output_type": "execute_result",
          "data": {
            "text/plain": [
              "LinearRegression(copy_X=True, fit_intercept=True, n_jobs=None, normalize=False)"
            ]
          },
          "metadata": {
            "tags": []
          },
          "execution_count": 2
        }
      ]
    },
    {
      "cell_type": "markdown",
      "metadata": {
        "id": "7WGtnOsZhMzO"
      },
      "source": [
        "## SVM regression"
      ]
    },
    {
      "cell_type": "code",
      "metadata": {
        "id": "FWmUEywHeZIN",
        "outputId": "d100ba31-777e-42ef-ae8f-ece301f343ac",
        "colab": {
          "base_uri": "https://localhost:8080/",
          "height": 74
        }
      },
      "source": [
        "# SVM regression\n",
        "\n",
        "model = SVR(kernel='linear', C=1.5, degree=3, gamma='scale')\n",
        "\n",
        "# Train the model using the training sets\n",
        "model.fit(diabetes_X_train, diabetes_y_train)\n",
        "\n"
      ],
      "execution_count": null,
      "outputs": [
        {
          "output_type": "execute_result",
          "data": {
            "text/plain": [
              "SVR(C=1.5, cache_size=200, coef0=0.0, degree=3, epsilon=0.1, gamma='scale',\n",
              "    kernel='linear', max_iter=-1, shrinking=True, tol=0.001, verbose=False)"
            ]
          },
          "metadata": {
            "tags": []
          },
          "execution_count": 35
        }
      ]
    },
    {
      "cell_type": "markdown",
      "metadata": {
        "id": "FZBE0gClhWRM"
      },
      "source": [
        "## Prediction"
      ]
    },
    {
      "cell_type": "code",
      "metadata": {
        "id": "nkM89Q6ehYWG",
        "outputId": "ddb03261-1fcd-464b-cffb-b749a89f647e",
        "colab": {
          "base_uri": "https://localhost:8080/",
          "height": 111
        }
      },
      "source": [
        "# Make predictions using the testing set\n",
        "diabetes_y_pred = model.predict(diabetes_X_test)\n",
        "\n",
        "print(model)\n",
        "\n",
        "# The mean squared error\n",
        "print(\"Mean squared error: %.2f\"\n",
        "      % mean_squared_error(diabetes_y_test, diabetes_y_pred))\n",
        "\n",
        "# Explained variance score: 1 is perfect prediction\n",
        "print('Variance score: %.2f' % r2_score(diabetes_y_test, diabetes_y_pred))\n"
      ],
      "execution_count": null,
      "outputs": [
        {
          "output_type": "stream",
          "text": [
            "SVR(C=1.5, cache_size=200, coef0=0.0, degree=3, epsilon=0.1, gamma='scale',\n",
            "    kernel='linear', max_iter=-1, shrinking=True, tol=0.001, verbose=False)\n",
            "Mean squared error: 4988.16\n",
            "Variance score: -0.03\n"
          ],
          "name": "stdout"
        }
      ]
    },
    {
      "cell_type": "markdown",
      "metadata": {
        "id": "dGhr0v7ohRnj"
      },
      "source": [
        "## Plot results"
      ]
    },
    {
      "cell_type": "code",
      "metadata": {
        "id": "sRsKTn2cbkre",
        "outputId": "7ca06502-0940-4eee-8de0-5922d4d1934e",
        "colab": {
          "base_uri": "https://localhost:8080/",
          "height": 252
        }
      },
      "source": [
        "# Plot outputs\n",
        "plt.scatter(diabetes_X_test, diabetes_y_test,  color='black')\n",
        "plt.scatter(diabetes_X_test, diabetes_y_pred, color='red', linewidth=3)\n",
        "\n",
        "plt.xticks(())\n",
        "plt.yticks(())\n",
        "\n",
        "plt.show()"
      ],
      "execution_count": null,
      "outputs": [
        {
          "output_type": "display_data",
          "data": {
            "image/png": "[encoded data removed]",
            "text/plain": [
              "<Figure size 432x288 with 1 Axes>"
            ]
          },
          "metadata": {
            "tags": []
          }
        }
      ]
    }
  ]
}