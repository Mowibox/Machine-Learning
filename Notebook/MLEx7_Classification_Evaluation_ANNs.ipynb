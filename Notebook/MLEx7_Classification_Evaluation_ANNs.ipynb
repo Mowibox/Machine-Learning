{
  "nbformat": 4,
  "nbformat_minor": 0,
  "metadata": {
    "colab": {
      "name": "MLEx7.Classification_Evaluation_ANNs",
      "provenance": [],
      "collapsed_sections": [],
      "toc_visible": true
    },
    "kernelspec": {
      "name": "python3",
      "display_name": "Python 3"
    },
    "accelerator": "GPU"
  },
  "cells": [
    {
      "cell_type": "markdown",
      "metadata": {
        "id": "Z3GYzNWONtju"
      },
      "source": [
        "# Machine Learning - Exercise 7\n",
        "# Classification Evaluation with ANNs\n",
        "\n",
        "This exercise illustrates examples of evaluation of solutions of classification problems using ANNs."
      ]
    },
    {
      "cell_type": "markdown",
      "metadata": {
        "id": "eDEJU1RwoIlv"
      },
      "source": [
        "##Import \n",
        "\n",
        "Import libraries that contains the implementations of the functions used in the rest of the program.\n",
        "\n"
      ]
    },
    {
      "cell_type": "code",
      "metadata": {
        "id": "BSKuPnIXNoq2",
        "outputId": "6346b02d-4e10-447f-c3dd-7148f32f79c0",
        "colab": {
          "base_uri": "https://localhost:8080/",
          "height": 35
        }
      },
      "source": [
        "import random\n",
        "import numpy as np\n",
        "import keras\n",
        "import sklearn.metrics \n",
        "from sklearn import datasets\n",
        "from sklearn.model_selection import train_test_split, cross_val_score, ShuffleSplit, GridSearchCV\n",
        "from sklearn import svm\n",
        "from sklearn.naive_bayes import GaussianNB\n",
        "from sklearn.linear_model import LogisticRegression\n",
        "from sklearn.metrics import classification_report, confusion_matrix\n",
        "from sklearn.utils.multiclass import unique_labels\n",
        "import matplotlib.pyplot as plt\n",
        "\n",
        "def plot_confusion_matrix(y_true, y_pred, classes,\n",
        "                          normalize=False,\n",
        "                          title=None,\n",
        "                          cmap=plt.cm.Blues):\n",
        "    \"\"\"\n",
        "    This function prints and plots the confusion matrix.\n",
        "    Normalization can be applied by setting `normalize=True`.\n",
        "    \"\"\"\n",
        "    if not title:\n",
        "        if normalize:\n",
        "            title = 'Normalized confusion matrix'\n",
        "        else:\n",
        "            title = 'Confusion matrix, without normalization'\n",
        "\n",
        "    # Compute confusion matrix\n",
        "    cm = confusion_matrix(y_true, y_pred)\n",
        "    # Only use the labels that appear in the data\n",
        "    classes = classes[unique_labels(y_true, y_pred)]\n",
        "    if normalize:\n",
        "        cm = cm.astype('float') / cm.sum(axis=1)[:, np.newaxis]\n",
        "        #print(\"Normalized confusion matrix\")\n",
        "    else:\n",
        "        pass\n",
        "        #print('Confusion matrix, without normalization')\n",
        "\n",
        "    #print(cm)\n",
        "\n",
        "    fig, ax = plt.subplots()\n",
        "    im = ax.imshow(cm, interpolation='nearest', cmap=cmap)\n",
        "    ax.figure.colorbar(im, ax=ax)\n",
        "    # We want to show all ticks...\n",
        "    ax.set(xticks=np.arange(cm.shape[1]),\n",
        "           yticks=np.arange(cm.shape[0]),\n",
        "           # ... and label them with the respective list entries\n",
        "           xticklabels=classes, yticklabels=classes,\n",
        "           title=title,\n",
        "           ylabel='True label',\n",
        "           xlabel='Predicted label')\n",
        "\n",
        "    ax.set_ylim(len(classes)-0.5, -0.5)\n",
        "\n",
        "    # Rotate the tick labels and set their alignment.\n",
        "    plt.setp(ax.get_xticklabels(), rotation=45, ha=\"right\",\n",
        "             rotation_mode=\"anchor\")\n",
        "\n",
        "    # Loop over data dimensions and create text annotations.\n",
        "    fmt = '.2f' if normalize else 'd'\n",
        "    thresh = cm.max() / 2.\n",
        "    for i in range(cm.shape[0]):\n",
        "        for j in range(cm.shape[1]):\n",
        "            ax.text(j, i, format(cm[i, j], fmt),\n",
        "                    ha=\"center\", va=\"center\",\n",
        "                    color=\"white\" if cm[i, j] > thresh else \"black\")\n",
        "    fig.tight_layout()\n",
        "    return ax\n",
        "\n",
        "print(\"Libraries imported.\")"
      ],
      "execution_count": null,
      "outputs": [
        {
          "output_type": "stream",
          "text": [
            "Libraries imported.\n"
          ],
          "name": "stdout"
        }
      ]
    },
    {
      "cell_type": "markdown",
      "metadata": {
        "id": "KaeLRpWIfO1m"
      },
      "source": [
        "## Load data\n",
        "\n",
        "Load training data.\n",
        "\n",
        "Choose one of the datasets described in the next subsections.\n",
        "\n",
        "More details on these datasets are available in https://scikit-learn.org/stable/datasets/index.html\n"
      ]
    },
    {
      "cell_type": "markdown",
      "metadata": {
        "id": "w8_6LSAHa6Vb"
      },
      "source": [
        "### IRIS dataset"
      ]
    },
    {
      "cell_type": "code",
      "metadata": {
        "id": "0nHa8mpWbAEp"
      },
      "source": [
        "DB = datasets.load_iris()\n",
        "dataset_name = \"Iris\""
      ],
      "execution_count": null,
      "outputs": []
    },
    {
      "cell_type": "markdown",
      "metadata": {
        "id": "rVA8XiMvbDBc"
      },
      "source": [
        "### Wine dataset"
      ]
    },
    {
      "cell_type": "code",
      "metadata": {
        "id": "JkazgPcGbJhT"
      },
      "source": [
        "DB = datasets.load_wine()\n",
        "dataset_name = \"Wines\""
      ],
      "execution_count": null,
      "outputs": []
    },
    {
      "cell_type": "markdown",
      "metadata": {
        "id": "6jVsMFO3bNji"
      },
      "source": [
        "###Digits dataset"
      ]
    },
    {
      "cell_type": "code",
      "metadata": {
        "id": "Virn0LFUbSVn"
      },
      "source": [
        "DB = datasets.load_digits()\n",
        "dataset_name = \"Digits\""
      ],
      "execution_count": null,
      "outputs": []
    },
    {
      "cell_type": "markdown",
      "metadata": {
        "id": "w-FjcBe_bVSm"
      },
      "source": [
        "###Summary of the dataset\n",
        "\n",
        "Print some information about the dataset"
      ]
    },
    {
      "cell_type": "code",
      "metadata": {
        "id": "7kECuF5cgxxW",
        "outputId": "62abbd4c-93b9-4a31-d2c2-a2634fdfeb66",
        "colab": {
          "base_uri": "https://localhost:8080/",
          "height": 126
        }
      },
      "source": [
        "class_names = np.array([str(c) for c in DB.target_names])\n",
        "X_all = DB.data\n",
        "y_all = DB.target\n",
        "\n",
        "print(X_all.shape)\n",
        "print(y_all.shape)\n",
        "\n",
        "ninput = X_all.shape[1]\n",
        "nsamples = X_all.shape[0]\n",
        "\n",
        "print(\"Dataset: %s\" %(dataset_name))\n",
        "print(\"Number of attributes/features: %d\" %(ninput))\n",
        "print(\"Number of classes: %d %s\" %(len(class_names), str(class_names)))\n",
        "print(\"Number of samples: %d\" %(nsamples))"
      ],
      "execution_count": null,
      "outputs": [
        {
          "output_type": "stream",
          "text": [
            "(1797, 64)\n",
            "(1797,)\n",
            "Dataset: Digits\n",
            "Number of attributes/features: 64\n",
            "Number of classes: 10 ['0' '1' '2' '3' '4' '5' '6' '7' '8' '9']\n",
            "Number of samples: 1797\n"
          ],
          "name": "stdout"
        }
      ]
    },
    {
      "cell_type": "markdown",
      "metadata": {
        "id": "aJrwXXvsrEHn"
      },
      "source": [
        "### Show an example\n",
        "\n",
        "Display a random sample."
      ]
    },
    {
      "cell_type": "code",
      "metadata": {
        "id": "-m2VMd9YrSBS",
        "outputId": "e2b51f90-99d0-496f-eff8-a16aece0319c",
        "colab": {
          "base_uri": "https://localhost:8080/",
          "height": 126
        }
      },
      "source": [
        "id = random.randrange(0,X_all.shape[0])\n",
        "\n",
        "print(\"x%d = %r\" %(id,X_all[id]))\n",
        "print(\"y%d = %r ['%s']\" %(id,y_all[id],class_names[y_all[id]]))"
      ],
      "execution_count": null,
      "outputs": [
        {
          "output_type": "stream",
          "text": [
            "x903 = array([ 0.,  0.,  0., 10., 13.,  5.,  0.,  0.,  0.,  3., 14., 16., 12.,\n",
            "       15.,  0.,  0.,  0., 10., 16.,  8., 11., 16.,  0.,  0.,  0.,  8.,\n",
            "       14.,  5., 14.,  9.,  0.,  0.,  0.,  0.,  7., 14., 16.,  5.,  0.,\n",
            "        0.,  0.,  0.,  0., 11., 16., 16.,  1.,  0.,  0.,  0.,  0., 14.,\n",
            "       16., 16.,  4.,  0.,  0.,  0.,  0., 11., 16., 11.,  0.,  0.])\n",
            "y903 = 8 ['8']\n"
          ],
          "name": "stdout"
        }
      ]
    },
    {
      "cell_type": "markdown",
      "metadata": {
        "id": "eJ2bbJe8txnH"
      },
      "source": [
        "##Split data"
      ]
    },
    {
      "cell_type": "code",
      "metadata": {
        "id": "IWKwFR-It1-D",
        "outputId": "68010342-7b7d-4478-cbcf-733156e0f9b4",
        "colab": {
          "base_uri": "https://localhost:8080/",
          "height": 53
        }
      },
      "source": [
        "X_train, X_test, y_train, y_test = train_test_split(X_all, y_all, test_size=0.333, \n",
        "                                                    random_state=14)\n",
        "\n",
        "print(\"Size of training set: %d\" %X_train.shape[0])\n",
        "print(\"Size of test set: %d\" %X_test.shape[0])"
      ],
      "execution_count": null,
      "outputs": [
        {
          "output_type": "stream",
          "text": [
            "Size of training set: 1198\n",
            "Size of test set: 599\n"
          ],
          "name": "stdout"
        }
      ]
    },
    {
      "cell_type": "markdown",
      "metadata": {
        "id": "R6DMvR8TzJiK"
      },
      "source": [
        "##Create a Model \n",
        "\n",
        "Model fitting = finding a solution that is stored in the model.\n",
        "\n",
        "IMPORTANT: solution depends on data split"
      ]
    },
    {
      "cell_type": "markdown",
      "metadata": {
        "id": "RHDjaQl3koeF"
      },
      "source": [
        "**Neural Network**"
      ]
    },
    {
      "cell_type": "code",
      "metadata": {
        "id": "ISdg7nIpkw14",
        "outputId": "a8822400-3318-45e9-a027-4bec09a5b2cc",
        "colab": {
          "base_uri": "https://localhost:8080/",
          "height": 289
        }
      },
      "source": [
        "model = keras.models.Sequential([\n",
        "  keras.layers.Dense(64, input_dim=ninput, activation='relu'),\n",
        "  keras.layers.Dense(32, activation='relu'),\n",
        "  # keras.layers.Dropout(0.2),\n",
        "  keras.layers.Dense(len(class_names), activation='softmax')\n",
        "])\n",
        "\n",
        "optimizers = [keras.optimizers.SGD(lr = 0.01, momentum = 1.0), 'adadelta', 'adam']\n",
        "\n",
        "model.compile(optimizer=optimizers[1],\n",
        "              loss='sparse_categorical_crossentropy',\n",
        "              metrics=['accuracy'])\n",
        "\n",
        "print(model.summary())\n"
      ],
      "execution_count": null,
      "outputs": [
        {
          "output_type": "stream",
          "text": [
            "Model: \"sequential_2\"\n",
            "_________________________________________________________________\n",
            "Layer (type)                 Output Shape              Param #   \n",
            "=================================================================\n",
            "dense_4 (Dense)              (None, 64)                4160      \n",
            "_________________________________________________________________\n",
            "dense_5 (Dense)              (None, 32)                2080      \n",
            "_________________________________________________________________\n",
            "dense_6 (Dense)              (None, 10)                330       \n",
            "=================================================================\n",
            "Total params: 6,570\n",
            "Trainable params: 6,570\n",
            "Non-trainable params: 0\n",
            "_________________________________________________________________\n",
            "None\n"
          ],
          "name": "stdout"
        }
      ]
    },
    {
      "cell_type": "markdown",
      "metadata": {
        "id": "PmorfnRhHaw8"
      },
      "source": [
        "## Fit the model"
      ]
    },
    {
      "cell_type": "code",
      "metadata": {
        "id": "vaBApsjDHxrY",
        "outputId": "59bd757f-abb5-440c-a979-594dba85d53b",
        "colab": {
          "base_uri": "https://localhost:8080/",
          "height": 760
        }
      },
      "source": [
        "model.fit(X_train, y_train, batch_size=128, epochs=20)"
      ],
      "execution_count": null,
      "outputs": [
        {
          "output_type": "stream",
          "text": [
            "Epoch 1/20\n",
            "1198/1198 [==============================] - 0s 192us/step - loss: 3.3186 - acc: 0.2421\n",
            "Epoch 2/20\n",
            "1198/1198 [==============================] - 0s 29us/step - loss: 1.4319 - acc: 0.5543\n",
            "Epoch 3/20\n",
            "1198/1198 [==============================] - 0s 31us/step - loss: 0.8530 - acc: 0.7462\n",
            "Epoch 4/20\n",
            "1198/1198 [==============================] - 0s 30us/step - loss: 0.5870 - acc: 0.8381\n",
            "Epoch 5/20\n",
            "1198/1198 [==============================] - 0s 28us/step - loss: 0.4348 - acc: 0.8840\n",
            "Epoch 6/20\n",
            "1198/1198 [==============================] - 0s 32us/step - loss: 0.3505 - acc: 0.9073\n",
            "Epoch 7/20\n",
            "1198/1198 [==============================] - 0s 35us/step - loss: 0.2790 - acc: 0.9290\n",
            "Epoch 8/20\n",
            "1198/1198 [==============================] - 0s 34us/step - loss: 0.2347 - acc: 0.9391\n",
            "Epoch 9/20\n",
            "1198/1198 [==============================] - 0s 33us/step - loss: 0.2075 - acc: 0.9533\n",
            "Epoch 10/20\n",
            "1198/1198 [==============================] - 0s 37us/step - loss: 0.1740 - acc: 0.9591\n",
            "Epoch 11/20\n",
            "1198/1198 [==============================] - 0s 36us/step - loss: 0.1578 - acc: 0.9658\n",
            "Epoch 12/20\n",
            "1198/1198 [==============================] - 0s 36us/step - loss: 0.1413 - acc: 0.9674\n",
            "Epoch 13/20\n",
            "1198/1198 [==============================] - 0s 44us/step - loss: 0.1261 - acc: 0.9674\n",
            "Epoch 14/20\n",
            "1198/1198 [==============================] - 0s 30us/step - loss: 0.1082 - acc: 0.9725\n",
            "Epoch 15/20\n",
            "1198/1198 [==============================] - 0s 30us/step - loss: 0.0967 - acc: 0.9783\n",
            "Epoch 16/20\n",
            "1198/1198 [==============================] - 0s 28us/step - loss: 0.0879 - acc: 0.9808\n",
            "Epoch 17/20\n",
            "1198/1198 [==============================] - 0s 30us/step - loss: 0.0828 - acc: 0.9775\n",
            "Epoch 18/20\n",
            "1198/1198 [==============================] - 0s 28us/step - loss: 0.0757 - acc: 0.9808\n",
            "Epoch 19/20\n",
            "1198/1198 [==============================] - 0s 29us/step - loss: 0.0652 - acc: 0.9858\n",
            "Epoch 20/20\n",
            "1198/1198 [==============================] - 0s 30us/step - loss: 0.0595 - acc: 0.9883\n"
          ],
          "name": "stdout"
        },
        {
          "output_type": "execute_result",
          "data": {
            "text/plain": [
              "<keras.callbacks.History at 0x7f200834a518>"
            ]
          },
          "metadata": {
            "tags": []
          },
          "execution_count": 24
        }
      ]
    },
    {
      "cell_type": "markdown",
      "metadata": {
        "id": "MEiAh78A24DZ"
      },
      "source": [
        "##Predict on test set\n",
        "\n",
        "Use test set for prediction."
      ]
    },
    {
      "cell_type": "code",
      "metadata": {
        "id": "ZsEXCZ0A20C8"
      },
      "source": [
        "y_pred_sm = model.predict(X_test)\n",
        "y_pred = np.argmax(y_pred_sm, axis=1)"
      ],
      "execution_count": null,
      "outputs": []
    },
    {
      "cell_type": "markdown",
      "metadata": {
        "id": "LfDeJb0Juofu"
      },
      "source": [
        "##Evaluate the Model\n",
        "\n",
        "Evaluation of a specific solution."
      ]
    },
    {
      "cell_type": "markdown",
      "metadata": {
        "id": "NKD7632rv-xZ"
      },
      "source": [
        "### Accuracy"
      ]
    },
    {
      "cell_type": "code",
      "metadata": {
        "id": "9_ja03zgvyeF",
        "outputId": "dd3bb0dc-d489-4ed3-8476-89c09a78534d",
        "colab": {
          "base_uri": "https://localhost:8080/",
          "height": 53
        }
      },
      "source": [
        "acc = model.evaluate(X_test, y_test)    \n",
        "print(\"Accuracy %.3f\" %acc[-1])"
      ],
      "execution_count": null,
      "outputs": [
        {
          "output_type": "stream",
          "text": [
            "599/599 [==============================] - 0s 112us/step\n",
            "Accuracy 0.943\n"
          ],
          "name": "stdout"
        }
      ]
    },
    {
      "cell_type": "markdown",
      "metadata": {
        "id": "4zY5aEGWwMj1"
      },
      "source": [
        "###Precision & Recall"
      ]
    },
    {
      "cell_type": "code",
      "metadata": {
        "id": "G2bdFwMhwLJN",
        "outputId": "3cee9e32-4ca4-4966-9e69-4603c179081f",
        "colab": {
          "base_uri": "https://localhost:8080/",
          "height": 325
        }
      },
      "source": [
        "print(classification_report(y_test, y_pred, labels=None, target_names=class_names, digits=3))\n"
      ],
      "execution_count": null,
      "outputs": [
        {
          "output_type": "stream",
          "text": [
            "              precision    recall  f1-score   support\n",
            "\n",
            "           0      0.982     0.982     0.982        55\n",
            "           1      0.734     1.000     0.847        47\n",
            "           2      0.962     1.000     0.981        51\n",
            "           3      0.947     0.982     0.964        55\n",
            "           4      1.000     0.952     0.976        63\n",
            "           5      0.947     0.964     0.956        56\n",
            "           6      0.968     1.000     0.984        61\n",
            "           7      0.941     0.970     0.955        66\n",
            "           8      1.000     0.697     0.821        66\n",
            "           9      0.974     0.937     0.955        79\n",
            "\n",
            "    accuracy                          0.943       599\n",
            "   macro avg      0.946     0.948     0.942       599\n",
            "weighted avg      0.951     0.943     0.942       599\n",
            "\n"
          ],
          "name": "stdout"
        }
      ]
    },
    {
      "cell_type": "markdown",
      "metadata": {
        "id": "XiSF0GcGs2lK"
      },
      "source": [
        ""
      ]
    },
    {
      "cell_type": "markdown",
      "metadata": {
        "id": "q1EwWO9m3bGg"
      },
      "source": [
        "### Confusion Matrix"
      ]
    },
    {
      "cell_type": "code",
      "metadata": {
        "id": "IGOYxPNzy3vy",
        "outputId": "ee3bb7a1-73ef-44e0-8814-b4081ada0253",
        "colab": {
          "base_uri": "https://localhost:8080/",
          "height": 496
        }
      },
      "source": [
        "cm = confusion_matrix(y_test, y_pred, labels=None, sample_weight=None)\n",
        "print(cm)\n",
        "plot_confusion_matrix(y_test, y_pred, classes=class_names, normalize=False)"
      ],
      "execution_count": null,
      "outputs": [
        {
          "output_type": "stream",
          "text": [
            "[[54  0  0  0  0  0  1  0  0  0]\n",
            " [ 0 47  0  0  0  0  0  0  0  0]\n",
            " [ 0  0 51  0  0  0  0  0  0  0]\n",
            " [ 0  0  1 54  0  0  0  0  0  0]\n",
            " [ 0  1  0  0 60  0  0  2  0  0]\n",
            " [ 0  1  0  1  0 54  0  0  0  0]\n",
            " [ 0  0  0  0  0  0 61  0  0  0]\n",
            " [ 1  0  0  0  0  1  0 64  0  0]\n",
            " [ 0 13  1  1  0  1  1  1 46  2]\n",
            " [ 0  2  0  1  0  1  0  1  0 74]]\n"
          ],
          "name": "stdout"
        },
        {
          "output_type": "execute_result",
          "data": {
            "text/plain": [
              "<matplotlib.axes._subplots.AxesSubplot at 0x7f200013beb8>"
            ]
          },
          "metadata": {
            "tags": []
          },
          "execution_count": 32
        },
        {
          "output_type": "display_data",
          "data": {
            "image/png": "[encoded data removed]",
            "text/plain": [
              "<Figure size 432x288 with 2 Axes>"
            ]
          },
          "metadata": {
            "tags": []
          }
        }
      ]
    },
    {
      "cell_type": "code",
      "metadata": {
        "id": "rIFijWnPrc2L",
        "outputId": "e47794c2-12b8-4d8b-d249-c89d4dc73f42",
        "colab": {
          "base_uri": "https://localhost:8080/",
          "height": 108
        }
      },
      "source": [
        "if dataset_name == \"Iris\":\n",
        "  xnew = np.array([8.5, 2.6, 9.2, 0.3])\n",
        "elif dataset_name == \"Wines\":\n",
        "  xnew = np.array([12, 2.5, 2.6, 15, 186, 1.5, 9.1,\n",
        "                   0.44, 2.2, 5.6, 2.9, 3.7, 380])\n",
        "elif dataset_name == \"Digits\":\n",
        "   xnew = np.array([  \n",
        "        0,  0,  8, 13, 18, 13, 11,  1,  0, 10,  9,  4,  6,\n",
        "       16,  3,  0,  0,  0,  0, 10,  1, 13,  0,  0,  0,  0,\n",
        "        0,  7, 14,  2,  0,  0,  0,  0,  0,  7, 13,  1,  0,\n",
        "        0,  0,  0,  0,  0,  8, 13,  1,  0,  0,  0,  0,  0,\n",
        "       13,  6,  7,  1,  0,  0, 14, 12, 13,  1,  0,  0])\n",
        "\n",
        "xnew = xnew.reshape(1,-1)\n",
        "\n",
        "print(\"x_new = %r\" %(xnew))\n",
        "ynew = np.argmax(model.predict(xnew))\n",
        "print(\"y_pred = %d %s\" %(ynew, class_names[ynew]))\n"
      ],
      "execution_count": null,
      "outputs": [
        {
          "output_type": "stream",
          "text": [
            "x_new = array([[ 0,  0,  8, 13, 18, 13, 11,  1,  0, 10,  9,  4,  6, 16,  3,  0,\n",
            "         0,  0,  0, 10,  1, 13,  0,  0,  0,  0,  0,  7, 14,  2,  0,  0,\n",
            "         0,  0,  0,  7, 13,  1,  0,  0,  0,  0,  0,  0,  8, 13,  1,  0,\n",
            "         0,  0,  0,  0, 13,  6,  7,  1,  0,  0, 14, 12, 13,  1,  0,  0]])\n",
            "y_pred = 3 3\n"
          ],
          "name": "stdout"
        }
      ]
    },
    {
      "cell_type": "markdown",
      "metadata": {
        "id": "66VfEN_m6lVJ"
      },
      "source": [
        "##Common Mistake\n",
        "\n",
        "Evaluate solution on data used for training!!!\n"
      ]
    },
    {
      "cell_type": "code",
      "metadata": {
        "id": "R1PgiDeh6j4m",
        "outputId": "89217b6d-6547-4e2f-8302-dc6c28cc743d",
        "colab": {
          "base_uri": "https://localhost:8080/",
          "height": 53
        }
      },
      "source": [
        "scores = model.evaluate(X_all,y_all)\n",
        "acc = scores[1]\n",
        "print('Accuracy: %f' %acc)"
      ],
      "execution_count": null,
      "outputs": [
        {
          "output_type": "stream",
          "text": [
            "1797/1797 [==============================] - 0s 48us/step\n",
            "Accuracy: 0.966055\n"
          ],
          "name": "stdout"
        }
      ]
    },
    {
      "cell_type": "code",
      "metadata": {
        "id": "eNVKlE181NUB"
      },
      "source": [
        ""
      ],
      "execution_count": null,
      "outputs": []
    }
  ]
}