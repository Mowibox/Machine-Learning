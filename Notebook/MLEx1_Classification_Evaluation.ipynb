{
  "nbformat": 4,
  "nbformat_minor": 0,
  "metadata": {
    "colab": {
      "name": "MLEx1.Classification_Evaluation",
      "provenance": [],
      "collapsed_sections": [],
      "toc_visible": true
    },
    "kernelspec": {
      "name": "python3",
      "display_name": "Python 3"
    },
    "accelerator": "GPU"
  },
  "cells": [
    {
      "cell_type": "markdown",
      "metadata": {
        "id": "Z3GYzNWONtju"
      },
      "source": [
        "# Machine Learning - Exercise 1\n",
        "# Classification Evaluation\n",
        "\n",
        "This exercise illustrates examples of evaluation of solutions of classification problems."
      ]
    },
    {
      "cell_type": "markdown",
      "metadata": {
        "id": "eDEJU1RwoIlv"
      },
      "source": [
        "##Import \n",
        "\n",
        "Import libraries that contains the implementations of the functions used in the rest of the program.\n",
        "\n"
      ]
    },
    {
      "cell_type": "code",
      "metadata": {
        "id": "BSKuPnIXNoq2",
        "outputId": "79201dda-100c-4215-bd83-faea459d60eb",
        "colab": {
          "base_uri": "https://localhost:8080/",
          "height": 35
        }
      },
      "source": [
        "import random\n",
        "import numpy as np\n",
        "import sklearn.metrics \n",
        "from sklearn import datasets\n",
        "from sklearn.model_selection import train_test_split, cross_val_score, ShuffleSplit, GridSearchCV\n",
        "from sklearn import svm\n",
        "from sklearn.naive_bayes import GaussianNB\n",
        "from sklearn.linear_model import LogisticRegression\n",
        "from sklearn.metrics import classification_report, confusion_matrix\n",
        "from sklearn.utils.multiclass import unique_labels\n",
        "import matplotlib.pyplot as plt\n",
        "\n",
        "def plot_confusion_matrix(y_true, y_pred, classes,\n",
        "                          normalize=False,\n",
        "                          title=None,\n",
        "                          cmap=plt.cm.Blues):\n",
        "    \"\"\"\n",
        "    This function prints and plots the confusion matrix.\n",
        "    Normalization can be applied by setting `normalize=True`.\n",
        "    \"\"\"\n",
        "    if not title:\n",
        "        if normalize:\n",
        "            title = 'Normalized confusion matrix'\n",
        "        else:\n",
        "            title = 'Confusion matrix, without normalization'\n",
        "\n",
        "    # Compute confusion matrix\n",
        "    cm = confusion_matrix(y_true, y_pred)\n",
        "    # Only use the labels that appear in the data\n",
        "    classes = classes[unique_labels(y_true, y_pred)]\n",
        "    if normalize:\n",
        "        cm = cm.astype('float') / cm.sum(axis=1)[:, np.newaxis]\n",
        "        #print(\"Normalized confusion matrix\")\n",
        "    else:\n",
        "        pass\n",
        "        #print('Confusion matrix, without normalization')\n",
        "\n",
        "    #print(cm)\n",
        "\n",
        "    fig, ax = plt.subplots()\n",
        "    im = ax.imshow(cm, interpolation='nearest', cmap=cmap)\n",
        "    ax.figure.colorbar(im, ax=ax)\n",
        "    # We want to show all ticks...\n",
        "    ax.set(xticks=np.arange(cm.shape[1]),\n",
        "           yticks=np.arange(cm.shape[0]),\n",
        "           # ... and label them with the respective list entries\n",
        "           xticklabels=classes, yticklabels=classes,\n",
        "           title=title,\n",
        "           ylabel='True label',\n",
        "           xlabel='Predicted label')\n",
        "\n",
        "    ax.set_ylim(len(classes)-0.5, -0.5)\n",
        "\n",
        "    # Rotate the tick labels and set their alignment.\n",
        "    plt.setp(ax.get_xticklabels(), rotation=45, ha=\"right\",\n",
        "             rotation_mode=\"anchor\")\n",
        "\n",
        "    # Loop over data dimensions and create text annotations.\n",
        "    fmt = '.2f' if normalize else 'd'\n",
        "    thresh = cm.max() / 2.\n",
        "    for i in range(cm.shape[0]):\n",
        "        for j in range(cm.shape[1]):\n",
        "            ax.text(j, i, format(cm[i, j], fmt),\n",
        "                    ha=\"center\", va=\"center\",\n",
        "                    color=\"white\" if cm[i, j] > thresh else \"black\")\n",
        "    fig.tight_layout()\n",
        "    return ax\n",
        "\n",
        "print(\"Libraries imported.\")"
      ],
      "execution_count": null,
      "outputs": [
        {
          "output_type": "stream",
          "text": [
            "Libraries imported.\n"
          ],
          "name": "stdout"
        }
      ]
    },
    {
      "cell_type": "markdown",
      "metadata": {
        "id": "KaeLRpWIfO1m"
      },
      "source": [
        "## Load data\n",
        "\n",
        "Load training data.\n",
        "\n",
        "Choose one of the datasets described in the next subsections.\n",
        "\n",
        "More details on these datasets are available in https://scikit-learn.org/stable/datasets/index.html\n"
      ]
    },
    {
      "cell_type": "markdown",
      "metadata": {
        "id": "w8_6LSAHa6Vb"
      },
      "source": [
        "### IRIS dataset"
      ]
    },
    {
      "cell_type": "code",
      "metadata": {
        "id": "0nHa8mpWbAEp"
      },
      "source": [
        "DB = datasets.load_iris()\n",
        "dataset_name = \"Iris\""
      ],
      "execution_count": null,
      "outputs": []
    },
    {
      "cell_type": "markdown",
      "metadata": {
        "id": "rVA8XiMvbDBc"
      },
      "source": [
        "### Wine dataset"
      ]
    },
    {
      "cell_type": "code",
      "metadata": {
        "id": "JkazgPcGbJhT"
      },
      "source": [
        "DB = datasets.load_wine()\n",
        "dataset_name = \"Wines\""
      ],
      "execution_count": null,
      "outputs": []
    },
    {
      "cell_type": "markdown",
      "metadata": {
        "id": "6jVsMFO3bNji"
      },
      "source": [
        "###Digits dataset"
      ]
    },
    {
      "cell_type": "code",
      "metadata": {
        "id": "Virn0LFUbSVn"
      },
      "source": [
        "DB = datasets.load_digits()\n",
        "dataset_name = \"Digits\""
      ],
      "execution_count": null,
      "outputs": []
    },
    {
      "cell_type": "markdown",
      "metadata": {
        "id": "w-FjcBe_bVSm"
      },
      "source": [
        "###Summary of the dataset\n",
        "\n",
        "Print some information about the dataset"
      ]
    },
    {
      "cell_type": "code",
      "metadata": {
        "id": "7kECuF5cgxxW",
        "outputId": "c8bafee7-d886-4d1d-ec43-f10333599c40",
        "colab": {
          "base_uri": "https://localhost:8080/",
          "height": 126
        }
      },
      "source": [
        "class_names = np.array([str(c) for c in DB.target_names])\n",
        "X_all = DB.data\n",
        "y_all = DB.target\n",
        "\n",
        "print(X_all.shape)\n",
        "print(y_all.shape)\n",
        "\n",
        "print(\"Dataset: %s\" %(dataset_name))\n",
        "print(\"Number of attributes/features: %d\" %(X_all.shape[1]))\n",
        "print(\"Number of classes: %d %s\" %(len(class_names), str(class_names)))\n",
        "print(\"Number of samples: %d\" %(X_all.shape[0]))"
      ],
      "execution_count": null,
      "outputs": [
        {
          "output_type": "stream",
          "text": [
            "(178, 13)\n",
            "(178,)\n",
            "Dataset: Wines\n",
            "Number of attributes/features: 13\n",
            "Number of classes: 3 ['class_0' 'class_1' 'class_2']\n",
            "Number of samples: 178\n"
          ],
          "name": "stdout"
        }
      ]
    },
    {
      "cell_type": "markdown",
      "metadata": {
        "id": "aJrwXXvsrEHn"
      },
      "source": [
        "### Show an example\n",
        "\n",
        "Display a random sample."
      ]
    },
    {
      "cell_type": "code",
      "metadata": {
        "id": "-m2VMd9YrSBS",
        "outputId": "9eff47af-35e5-4b23-8f4e-0d58dc4199da",
        "colab": {
          "base_uri": "https://localhost:8080/",
          "height": 89
        }
      },
      "source": [
        "id = random.randrange(0,X_all.shape[0])\n",
        "\n",
        "print(\"x%d = %r\" %(id,X_all[id]))\n",
        "print(\"y%d = %r ['%s']\" %(id,y_all[id],class_names[y_all[id]]))"
      ],
      "execution_count": null,
      "outputs": [
        {
          "output_type": "stream",
          "text": [
            "x85 = array([1.267e+01, 9.800e-01, 2.240e+00, 1.800e+01, 9.900e+01, 2.200e+00,\n",
            "       1.940e+00, 3.000e-01, 1.460e+00, 2.620e+00, 1.230e+00, 3.160e+00,\n",
            "       4.500e+02])\n",
            "y85 = 1 ['class_1']\n"
          ],
          "name": "stdout"
        }
      ]
    },
    {
      "cell_type": "markdown",
      "metadata": {
        "id": "eJ2bbJe8txnH"
      },
      "source": [
        "##Split data"
      ]
    },
    {
      "cell_type": "code",
      "metadata": {
        "id": "IWKwFR-It1-D",
        "outputId": "c21bf1a6-1806-4d1f-8112-6aa32de3a65c",
        "colab": {
          "base_uri": "https://localhost:8080/",
          "height": 53
        }
      },
      "source": [
        "X_train, X_test, y_train, y_test = train_test_split(X_all, y_all, test_size=0.333, \n",
        "                                                    random_state=14)\n",
        "\n",
        "print(\"Size of training set: %d\" %X_train.shape[0])\n",
        "print(\"Size of test set: %d\" %X_test.shape[0])"
      ],
      "execution_count": null,
      "outputs": [
        {
          "output_type": "stream",
          "text": [
            "Size of training set: 118\n",
            "Size of test set: 60\n"
          ],
          "name": "stdout"
        }
      ]
    },
    {
      "cell_type": "markdown",
      "metadata": {
        "id": "R6DMvR8TzJiK"
      },
      "source": [
        "##Create a Model \n",
        "\n",
        "Model fitting = finding a solution that is stored in the model.\n",
        "\n",
        "IMPORTANT: solution depends on data split"
      ]
    },
    {
      "cell_type": "markdown",
      "metadata": {
        "id": "y7dPHeFNH_mI"
      },
      "source": [
        "**Support Vector Machines**"
      ]
    },
    {
      "cell_type": "code",
      "metadata": {
        "id": "FDioTwgArEH7"
      },
      "source": [
        "model = svm.SVC(kernel='linear', C=1)\n"
      ],
      "execution_count": null,
      "outputs": []
    },
    {
      "cell_type": "markdown",
      "metadata": {
        "id": "T9EuWXAhGxw-"
      },
      "source": [
        "Probabilistic generative model \n",
        "\n",
        "**Gaussian Naive Bayes**"
      ]
    },
    {
      "cell_type": "code",
      "metadata": {
        "id": "Ul0R20-HGPjD"
      },
      "source": [
        "model = GaussianNB()\n"
      ],
      "execution_count": null,
      "outputs": []
    },
    {
      "cell_type": "markdown",
      "metadata": {
        "id": "21sijhYOHa0q"
      },
      "source": [
        "Probabilistic discriminative model\n",
        "\n",
        "**Logistic regression**"
      ]
    },
    {
      "cell_type": "code",
      "metadata": {
        "id": "cFR5WkyKHzB4"
      },
      "source": [
        "model = LogisticRegression()"
      ],
      "execution_count": null,
      "outputs": []
    },
    {
      "cell_type": "markdown",
      "metadata": {
        "id": "PmorfnRhHaw8"
      },
      "source": [
        "## Fit the model"
      ]
    },
    {
      "cell_type": "code",
      "metadata": {
        "id": "vaBApsjDHxrY",
        "outputId": "fdc26172-a87a-4974-e7fe-8edfde9febaf",
        "colab": {
          "base_uri": "https://localhost:8080/",
          "height": 200
        }
      },
      "source": [
        "model.fit(X_train, y_train)"
      ],
      "execution_count": null,
      "outputs": [
        {
          "output_type": "stream",
          "text": [
            "/usr/local/lib/python3.6/dist-packages/sklearn/linear_model/logistic.py:432: FutureWarning: Default solver will be changed to 'lbfgs' in 0.22. Specify a solver to silence this warning.\n",
            "  FutureWarning)\n",
            "/usr/local/lib/python3.6/dist-packages/sklearn/linear_model/logistic.py:469: FutureWarning: Default multi_class will be changed to 'auto' in 0.22. Specify the multi_class option to silence this warning.\n",
            "  \"this warning.\", FutureWarning)\n"
          ],
          "name": "stderr"
        },
        {
          "output_type": "execute_result",
          "data": {
            "text/plain": [
              "LogisticRegression(C=1.0, class_weight=None, dual=False, fit_intercept=True,\n",
              "                   intercept_scaling=1, l1_ratio=None, max_iter=100,\n",
              "                   multi_class='warn', n_jobs=None, penalty='l2',\n",
              "                   random_state=None, solver='warn', tol=0.0001, verbose=0,\n",
              "                   warm_start=False)"
            ]
          },
          "metadata": {
            "tags": []
          },
          "execution_count": 48
        }
      ]
    },
    {
      "cell_type": "markdown",
      "metadata": {
        "id": "MEiAh78A24DZ"
      },
      "source": [
        "##Predict on test set\n",
        "\n",
        "Use test set for prediction."
      ]
    },
    {
      "cell_type": "code",
      "metadata": {
        "id": "ZsEXCZ0A20C8"
      },
      "source": [
        "y_pred = model.predict(X_test)"
      ],
      "execution_count": null,
      "outputs": []
    },
    {
      "cell_type": "markdown",
      "metadata": {
        "id": "LfDeJb0Juofu"
      },
      "source": [
        "##Evaluate the Model\n",
        "\n",
        "Evaluation of a specific solution."
      ]
    },
    {
      "cell_type": "markdown",
      "metadata": {
        "id": "NKD7632rv-xZ"
      },
      "source": [
        "### Accuracy"
      ]
    },
    {
      "cell_type": "code",
      "metadata": {
        "id": "P0N3cUSazRcJ",
        "outputId": "042f6449-fee6-425c-953a-175e4837f631",
        "colab": {
          "base_uri": "https://localhost:8080/",
          "height": 35
        }
      },
      "source": [
        "acc = model.score(X_test, y_test)    \n",
        "print(\"Accuracy %.3f\" %acc)\n",
        "\n"
      ],
      "execution_count": null,
      "outputs": [
        {
          "output_type": "stream",
          "text": [
            "Accuracy 0.933\n"
          ],
          "name": "stdout"
        }
      ]
    },
    {
      "cell_type": "markdown",
      "metadata": {
        "id": "4zY5aEGWwMj1"
      },
      "source": [
        "###Precision & Recall"
      ]
    },
    {
      "cell_type": "code",
      "metadata": {
        "id": "G2bdFwMhwLJN",
        "outputId": "c79d81e3-57a7-457c-d513-5bd47079ab30",
        "colab": {
          "base_uri": "https://localhost:8080/",
          "height": 198
        }
      },
      "source": [
        "print(classification_report(y_test, y_pred, labels=None, target_names=class_names, digits=3))\n"
      ],
      "execution_count": null,
      "outputs": [
        {
          "output_type": "stream",
          "text": [
            "              precision    recall  f1-score   support\n",
            "\n",
            "     class_0      0.958     0.958     0.958        24\n",
            "     class_1      0.909     0.909     0.909        22\n",
            "     class_2      0.929     0.929     0.929        14\n",
            "\n",
            "    accuracy                          0.933        60\n",
            "   macro avg      0.932     0.932     0.932        60\n",
            "weighted avg      0.933     0.933     0.933        60\n",
            "\n"
          ],
          "name": "stdout"
        }
      ]
    },
    {
      "cell_type": "markdown",
      "metadata": {
        "id": "q1EwWO9m3bGg"
      },
      "source": [
        "### Confusion Matrix"
      ]
    },
    {
      "cell_type": "code",
      "metadata": {
        "id": "IGOYxPNzy3vy",
        "outputId": "814a80a6-64b6-43ca-ae19-1ac061d162f1",
        "colab": {
          "base_uri": "https://localhost:8080/",
          "height": 369
        }
      },
      "source": [
        "cm = confusion_matrix(y_test, y_pred, labels=None, sample_weight=None)\n",
        "print(cm)\n",
        "plot_confusion_matrix(y_test, y_pred, classes=class_names, normalize=False)"
      ],
      "execution_count": null,
      "outputs": [
        {
          "output_type": "stream",
          "text": [
            "[[23  1  0]\n",
            " [ 1 20  1]\n",
            " [ 0  1 13]]\n"
          ],
          "name": "stdout"
        },
        {
          "output_type": "execute_result",
          "data": {
            "text/plain": [
              "<matplotlib.axes._subplots.AxesSubplot at 0x7f40572066d8>"
            ]
          },
          "metadata": {
            "tags": []
          },
          "execution_count": 52
        },
        {
          "output_type": "display_data",
          "data": {
            "image/png": "[encoded data removed]",
            "text/plain": [
              "<Figure size 432x288 with 2 Axes>"
            ]
          },
          "metadata": {
            "tags": []
          }
        }
      ]
    },
    {
      "cell_type": "markdown",
      "metadata": {
        "id": "xFH2OgGotJ76"
      },
      "source": [
        "## Evaluate a specific instance of a method\n",
        "\n",
        "Evaluation of a specific method with instantiated hyper-parameters\n",
        "through Cross Validation\n",
        "\n"
      ]
    },
    {
      "cell_type": "code",
      "metadata": {
        "id": "IrxPaAovtV3z",
        "outputId": "2b7d1fd5-f69f-4b2c-d1ff-fbf47e2f960e",
        "colab": {
          "base_uri": "https://localhost:8080/",
          "height": 53
        }
      },
      "source": [
        "newmodel = svm.SVC(kernel='linear', C=1)\n",
        "cv = ShuffleSplit(n_splits=5, test_size=0.333, random_state=120)\n",
        "scores = cross_val_score(newmodel, X_all, y_all, cv=cv)\n",
        "print(scores)\n",
        "print(\"Accuracy: %0.3f (+/- %0.2f)\" % (scores.mean(), scores.std() * 2))\n",
        "  "
      ],
      "execution_count": null,
      "outputs": [
        {
          "output_type": "stream",
          "text": [
            "[0.96666667 0.93333333 0.96666667 0.95       0.96666667]\n",
            "Accuracy: 0.957 (+/- 0.03)\n"
          ],
          "name": "stdout"
        }
      ]
    },
    {
      "cell_type": "markdown",
      "metadata": {
        "id": "GPagHH6ieBdo"
      },
      "source": [
        "## Search for best hyper-parameters\n",
        "\n",
        "Tuning of hyper-parameters.\n",
        "\n",
        "Grid search tries multiple configurations of hyper-prameters."
      ]
    },
    {
      "cell_type": "code",
      "metadata": {
        "id": "ANXWkvuWeIHL",
        "outputId": "557dd446-1365-4c2d-f95c-724e49ec4c22",
        "colab": {
          "base_uri": "https://localhost:8080/",
          "height": 216
        }
      },
      "source": [
        "parameters = {'kernel':['linear', 'poly', 'rbf'], 'C':[0.01, 0.1, 1, 10, 100]  }\n",
        "modelclass = svm.SVC(gamma='scale') \n",
        "gridmodel = GridSearchCV(modelclass, parameters, cv=5, iid=False)\n",
        "gridmodel.fit(X_all, y_all)"
      ],
      "execution_count": null,
      "outputs": [
        {
          "output_type": "execute_result",
          "data": {
            "text/plain": [
              "GridSearchCV(cv=5, error_score='raise-deprecating',\n",
              "             estimator=SVC(C=1.0, cache_size=200, class_weight=None, coef0=0.0,\n",
              "                           decision_function_shape='ovr', degree=3,\n",
              "                           gamma='scale', kernel='rbf', max_iter=-1,\n",
              "                           probability=False, random_state=None, shrinking=True,\n",
              "                           tol=0.001, verbose=False),\n",
              "             iid=False, n_jobs=None,\n",
              "             param_grid={'C': [0.01, 0.1, 1, 10, 100],\n",
              "                         'kernel': ['linear', 'poly', 'rbf']},\n",
              "             pre_dispatch='2*n_jobs', refit=True, return_train_score=False,\n",
              "             scoring=None, verbose=0)"
            ]
          },
          "metadata": {
            "tags": []
          },
          "execution_count": 54
        }
      ]
    },
    {
      "cell_type": "markdown",
      "metadata": {
        "id": "kcv0w2yRiHO5"
      },
      "source": [
        "Check the results of grid search"
      ]
    },
    {
      "cell_type": "code",
      "metadata": {
        "id": "LZtwe6wzf_CB",
        "outputId": "0cd9c0bc-f6ad-47d7-934d-e307be33b2eb",
        "colab": {
          "base_uri": "https://localhost:8080/",
          "height": 343
        }
      },
      "source": [
        "#print(gridmodel.cv_results_)\n",
        "\n",
        "for i in range(0,len(gridmodel.cv_results_['params'])):\n",
        "    print(\"[%2d] params: %s  \\tscore: %.3f +/- %.3f\" %(i,\n",
        "        gridmodel.cv_results_['params'][i],\n",
        "        gridmodel.cv_results_['mean_test_score'][i],\n",
        "        gridmodel.cv_results_['std_test_score'][i] ))\n",
        "\n",
        "a = np.argmax(gridmodel.cv_results_['mean_test_score'])\n",
        "bestparams = gridmodel.cv_results_['params'][a]\n",
        "bestscore = gridmodel.cv_results_['mean_test_score'][a]\n",
        "\n",
        "print(\"Best configuration [%d] %r  %.3f\" %(a,bestparams,bestscore))\n",
        "print(\"Best kernel: %s\" %(bestparams['kernel']))\n",
        "print(\"Best C: %s\" %(bestparams['C']))"
      ],
      "execution_count": null,
      "outputs": [
        {
          "output_type": "stream",
          "text": [
            "[ 0] params: {'C': 0.01, 'kernel': 'linear'}  \tscore: 0.905 +/- 0.035\n",
            "[ 1] params: {'C': 0.01, 'kernel': 'poly'}  \tscore: 0.629 +/- 0.059\n",
            "[ 2] params: {'C': 0.01, 'kernel': 'rbf'}  \tscore: 0.399 +/- 0.009\n",
            "[ 3] params: {'C': 0.1, 'kernel': 'linear'}  \tscore: 0.978 +/- 0.020\n",
            "[ 4] params: {'C': 0.1, 'kernel': 'poly'}  \tscore: 0.647 +/- 0.048\n",
            "[ 5] params: {'C': 0.1, 'kernel': 'rbf'}  \tscore: 0.675 +/- 0.036\n",
            "[ 6] params: {'C': 1, 'kernel': 'linear'}  \tscore: 0.962 +/- 0.050\n",
            "[ 7] params: {'C': 1, 'kernel': 'poly'}  \tscore: 0.664 +/- 0.036\n",
            "[ 8] params: {'C': 1, 'kernel': 'rbf'}  \tscore: 0.664 +/- 0.039\n",
            "[ 9] params: {'C': 10, 'kernel': 'linear'}  \tscore: 0.962 +/- 0.053\n",
            "[10] params: {'C': 10, 'kernel': 'poly'}  \tscore: 0.664 +/- 0.053\n",
            "[11] params: {'C': 10, 'kernel': 'rbf'}  \tscore: 0.726 +/- 0.049\n",
            "[12] params: {'C': 100, 'kernel': 'linear'}  \tscore: 0.962 +/- 0.053\n",
            "[13] params: {'C': 100, 'kernel': 'poly'}  \tscore: 0.703 +/- 0.058\n",
            "[14] params: {'C': 100, 'kernel': 'rbf'}  \tscore: 0.743 +/- 0.043\n",
            "Best configuration [3] {'C': 0.1, 'kernel': 'linear'}  0.978\n",
            "Best kernel: linear\n",
            "Best C: 0.1\n"
          ],
          "name": "stdout"
        }
      ]
    },
    {
      "cell_type": "markdown",
      "metadata": {
        "id": "Now-_f1i5u1E"
      },
      "source": [
        "## Final Model"
      ]
    },
    {
      "cell_type": "code",
      "metadata": {
        "id": "LZCFPri_5xgY",
        "outputId": "c2d4161f-ce68-4821-ed3e-ae633b44467e",
        "colab": {
          "base_uri": "https://localhost:8080/",
          "height": 89
        }
      },
      "source": [
        "bestmodel = svm.SVC(kernel=bestparams['kernel'], C=bestparams['C'], gamma='scale', probability=True)\n",
        "bestmodel.fit(X_all, y_all)\n"
      ],
      "execution_count": null,
      "outputs": [
        {
          "output_type": "execute_result",
          "data": {
            "text/plain": [
              "SVC(C=0.1, cache_size=200, class_weight=None, coef0=0.0,\n",
              "    decision_function_shape='ovr', degree=3, gamma='scale', kernel='linear',\n",
              "    max_iter=-1, probability=True, random_state=None, shrinking=True, tol=0.001,\n",
              "    verbose=False)"
            ]
          },
          "metadata": {
            "tags": []
          },
          "execution_count": 56
        }
      ]
    },
    {
      "cell_type": "markdown",
      "metadata": {
        "id": "0hVbM8WLrXMh"
      },
      "source": [
        "## Prediction of a new sample"
      ]
    },
    {
      "cell_type": "code",
      "metadata": {
        "id": "rIFijWnPrc2L",
        "outputId": "e293dfea-d318-4eeb-b8d7-0468763c392a",
        "colab": {
          "base_uri": "https://localhost:8080/",
          "height": 89
        }
      },
      "source": [
        "if dataset_name == \"Iris\":\n",
        "  xnew = np.array([8.5, 2.6, 9.2, 0.3])\n",
        "elif dataset_name == \"Wines\":\n",
        "  xnew = np.array([12, 2.5, 2.6, 15, 186, 1.5, 9.1,\n",
        "                   0.44, 2.2, 5.6, 2.9, 3.7, 380])\n",
        "elif dataset_name == \"Digits\":\n",
        "   xnew = np.array([  \n",
        "        0,  0,  8, 13, 18, 13, 11,  1,  0, 10,  9,  4,  6,\n",
        "       16,  3,  0,  0,  0,  0, 10,  1, 13,  0,  0,  0,  0,\n",
        "        0,  7, 14,  2,  0,  0,  0,  0,  0,  7, 13,  1,  0,\n",
        "        0,  0,  0,  0,  0,  8, 13,  1,  0,  0,  0,  0,  0,\n",
        "       13,  6,  7,  1,  0,  0, 14, 12, 13,  1,  0,  0])\n",
        "\n",
        "xnew = xnew.reshape(1,-1)\n",
        "\n",
        "print(\"x_new = %r\" %(xnew))\n",
        "ynew = bestmodel.predict(xnew)\n",
        "print(\"y_pred = %d %s\" %(ynew,class_names[ynew]))\n",
        "\n",
        "mconf = np.max(bestmodel.predict_proba(xnew))\n",
        "print(\"Confidence: %.2f\" %(mconf))\n"
      ],
      "execution_count": null,
      "outputs": [
        {
          "output_type": "stream",
          "text": [
            "x_new = array([[ 12.  ,   2.5 ,   2.6 ,  15.  , 186.  ,   1.5 ,   9.1 ,   0.44,\n",
            "          2.2 ,   5.6 ,   2.9 ,   3.7 , 380.  ]])\n",
            "y_pred = 1 ['class_1']\n",
            "Confidence: 0.84\n"
          ],
          "name": "stdout"
        }
      ]
    },
    {
      "cell_type": "markdown",
      "metadata": {
        "id": "66VfEN_m6lVJ"
      },
      "source": [
        "##Common Mistake\n",
        "\n",
        "Evaluate solution on data used for training!!!\n"
      ]
    },
    {
      "cell_type": "code",
      "metadata": {
        "id": "R1PgiDeh6j4m",
        "outputId": "18156f58-f366-4d03-91a9-601575930b72",
        "colab": {
          "base_uri": "https://localhost:8080/",
          "height": 35
        }
      },
      "source": [
        "bestmodel.score(X_all,y_all)"
      ],
      "execution_count": null,
      "outputs": [
        {
          "output_type": "execute_result",
          "data": {
            "text/plain": [
              "0.9775280898876404"
            ]
          },
          "metadata": {
            "tags": []
          },
          "execution_count": 58
        }
      ]
    }
  ]
}