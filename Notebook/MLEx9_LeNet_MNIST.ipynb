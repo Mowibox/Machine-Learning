{
  "nbformat": 4,
  "nbformat_minor": 0,
  "metadata": {
    "colab": {
      "name": "MLEx9.LeNet_MNIST",
      "provenance": [],
      "collapsed_sections": [],
      "toc_visible": true
    },
    "kernelspec": {
      "name": "python3",
      "display_name": "Python 3"
    },
    "accelerator": "GPU"
  },
  "cells": [
    {
      "cell_type": "markdown",
      "metadata": {
        "id": "Z3GYzNWONtju"
      },
      "source": [
        "# Machine Learning Exercise 9\n",
        "\n",
        "# LeNet - MNIST \n",
        "\n"
      ]
    },
    {
      "cell_type": "markdown",
      "metadata": {
        "id": "eDEJU1RwoIlv"
      },
      "source": [
        "##Import \n",
        "\n",
        "Import libraries and print some versions.\n",
        "\n",
        "To use GPU, set `Edit / Notebook settings / Hardware accelerator` to **GPU**."
      ]
    },
    {
      "cell_type": "code",
      "metadata": {
        "id": "BSKuPnIXNoq2",
        "outputId": "59ce7b21-a217-4316-e345-04b686a94a7c",
        "colab": {
          "base_uri": "https://localhost:8080/",
          "height": 67
        }
      },
      "source": [
        "%tensorflow_version 1.x\n",
        "\n",
        "import numpy as np\n",
        "import tensorflow as tf\n",
        "import keras\n",
        "\n",
        "print(\"Tensorflow version %s\" %tf.__version__)\n",
        "\n",
        "device_name = tf.test.gpu_device_name()\n",
        "if device_name != '/device:GPU:0':\n",
        "  raise SystemError('GPU device not found')\n",
        "print('Found GPU at: {}'.format(device_name))"
      ],
      "execution_count": null,
      "outputs": [
        {
          "output_type": "stream",
          "text": [
            "Using TensorFlow backend.\n"
          ],
          "name": "stderr"
        },
        {
          "output_type": "stream",
          "text": [
            "Tensorflow version 1.15.0\n",
            "Found GPU at: /device:GPU:0\n"
          ],
          "name": "stdout"
        }
      ]
    },
    {
      "cell_type": "markdown",
      "metadata": {
        "id": "KaeLRpWIfO1m"
      },
      "source": [
        "## Load data\n",
        "\n",
        "Load training data from Keras library\n",
        "\n",
        "\n"
      ]
    },
    {
      "cell_type": "code",
      "metadata": {
        "id": "7kECuF5cgxxW",
        "outputId": "e2aa562e-cd24-490f-c831-0990602d66e4",
        "colab": {
          "base_uri": "https://localhost:8080/",
          "height": 168
        }
      },
      "source": [
        "def load_data():\n",
        "    # load data\n",
        "    (Xtrain,Ytrain), (Xtest, Ytest) = keras.datasets.mnist.load_data()\n",
        "    # get information\n",
        "    ninput = Xtrain.shape[0]\n",
        "    imgsize = (Xtrain.shape[1], Xtrain.shape[2])\n",
        "    input_shape = (Xtrain.shape[1], Xtrain.shape[2], 1)\n",
        "    ntest = Xtest.shape[0]\n",
        "    num_classes = max(Ytrain) + 1\n",
        "    print(\"Training input %s\" %str(Xtrain.shape))\n",
        "    print(\"Training output %s\" %str(Ytrain.shape))\n",
        "    print(\"Test input %s\" %str(Xtest.shape))\n",
        "    print(\"Test output %s\" %str(Ytest.shape))\n",
        "    print(\"Input shape: %s\" %str(input_shape))\n",
        "    print(\"Number of classes: %d\" %num_classes)\n",
        "\n",
        "    # normalize input to [0,1]\n",
        "    Xtrain = Xtrain / 255.0\n",
        "    Xtest = Xtest / 255.0\n",
        "    # reshape input in 4D array\n",
        "    Xtrain = Xtrain.reshape(ninput,imgsize[0],imgsize[1],1)\n",
        "    Xtest = Xtest.reshape(ntest,imgsize[0],imgsize[1],1)\n",
        "    \n",
        "    # Transform output to one-out-of-n encoding\n",
        "    Ytrain = keras.utils.to_categorical(Ytrain, num_classes)\n",
        "    Ytest = keras.utils.to_categorical(Ytest, num_classes)\n",
        "    \n",
        "    return [Xtrain,Ytrain,Xtest,Ytest,input_shape,num_classes]\n",
        "  \n",
        "\n",
        "[Xtrain,Ytrain,Xtest,Ytest,input_shape,num_classes] = load_data()"
      ],
      "execution_count": null,
      "outputs": [
        {
          "output_type": "stream",
          "text": [
            "Downloading data from https://s3.amazonaws.com/img-datasets/mnist.npz\n",
            "11493376/11490434 [==============================] - 2s 0us/step\n",
            "Training input (60000, 28, 28)\n",
            "Training output (60000,)\n",
            "Test input (10000, 28, 28)\n",
            "Test output (10000,)\n",
            "Input shape: (28, 28, 1)\n",
            "Number of classes: 10\n",
            "10\n"
          ],
          "name": "stdout"
        }
      ]
    },
    {
      "cell_type": "markdown",
      "metadata": {
        "id": "R6DMvR8TzJiK"
      },
      "source": [
        "## Show random image\n",
        "\n"
      ]
    },
    {
      "cell_type": "code",
      "metadata": {
        "id": "P0N3cUSazRcJ",
        "outputId": "01c7f7d5-1619-4326-8801-5e0ea4ac46af",
        "colab": {
          "base_uri": "https://localhost:8080/",
          "height": 283
        }
      },
      "source": [
        "import matplotlib.pyplot as plt\n",
        "import random\n",
        "\n",
        "i = random.randrange(0,Xtrain.shape[0])\n",
        "image = Xtrain[i]\n",
        "image = np.array(image, dtype='float')\n",
        "pixels = image.reshape((28, 28))\n",
        "\n",
        "label = Ytrain[i].argmax()  # categorical from one-hot-encoding\n",
        "print(label)\n",
        "\n",
        "plt.imshow(pixels, cmap='gray')\n",
        "plt.show()\n"
      ],
      "execution_count": null,
      "outputs": [
        {
          "output_type": "stream",
          "text": [
            "8\n"
          ],
          "name": "stdout"
        },
        {
          "output_type": "display_data",
          "data": {
            "image/png": "[encoded data removed]",
            "text/plain": [
              "<Figure size 432x288 with 1 Axes>"
            ]
          },
          "metadata": {
            "tags": []
          }
        }
      ]
    },
    {
      "cell_type": "markdown",
      "metadata": {
        "id": "q1EwWO9m3bGg"
      },
      "source": [
        "##LeNet model\n"
      ]
    },
    {
      "cell_type": "code",
      "metadata": {
        "id": "1DTCwfVg3jRX",
        "outputId": "496e4bf6-6c7b-434e-b603-8d0ca2f3dcaa",
        "colab": {
          "base_uri": "https://localhost:8080/",
          "height": 615
        }
      },
      "source": [
        "from keras.models import Sequential\n",
        "from keras.layers import Dense, Activation, Dropout, Flatten,\\\n",
        "                         Conv2D, MaxPooling2D, AveragePooling2D\n",
        "from keras.layers.normalization import BatchNormalization\n",
        "from keras import regularizers\n",
        "from keras import optimizers\n",
        "\n",
        "def LeNet(input_shape, num_classes):\n",
        "    \n",
        "    print('\\nLeNet model')\n",
        "    model = Sequential()\n",
        "    \n",
        "    print('\\tC1: Convolutional 6 kernels 5x5')\n",
        "    model.add(Conv2D(6, kernel_size=(5, 5), strides=(1, 1), activation='tanh', input_shape=input_shape, padding=\"same\"))\n",
        "    print('\\tS2: Average Pooling 2x2 stride 2x2')\n",
        "    model.add(AveragePooling2D(pool_size=(2, 2), strides=(2, 2), padding='valid'))\n",
        "    print('\\tC3: Convolutional 16 kernels 5x5')\n",
        "    model.add(Conv2D(16, kernel_size=(5, 5), strides=(1, 1), activation='tanh', padding='valid'))\n",
        "    print('\\tS4: Average Pooling 2x2 stride 2x2')\n",
        "    model.add(AveragePooling2D(pool_size=(2, 2), strides=(2, 2), padding='valid'))\n",
        "    print('\\tC5: Convolutional 120 kernels 5x5')\n",
        "    model.add(Conv2D(120, kernel_size=(5, 5), strides=(1, 1), activation='tanh', padding='valid'))\n",
        "    model.add(Flatten())\n",
        "    print('\\tF6: Fully connected, 84 units')\n",
        "    model.add(Dense(84, activation='tanh'))\n",
        "    print('\\tF7: Fully connected, 10 units')\n",
        "    model.add(Dense(num_classes, activation='softmax'))\n",
        "\n",
        "    optimizer = 'adam' #alternative 'SGD'\n",
        "    model.compile(loss=keras.losses.categorical_crossentropy, optimizer=optimizer, metrics=['accuracy'])\n",
        "    \n",
        "    return model\n",
        " \n",
        "# create the model\n",
        "model = LeNet(input_shape,num_classes)\n",
        "model.summary()"
      ],
      "execution_count": null,
      "outputs": [
        {
          "output_type": "stream",
          "text": [
            "\n",
            "LeNet model\n",
            "\tC1: Convolutional 6 kernels 5x5\n",
            "\tS2: Average Pooling 2x2 stride 2x2\n",
            "\tC3: Convolutional 16 kernels 5x5\n",
            "\tS4: Average Pooling 2x2 stride 2x2\n",
            "\tC5: Convolutional 120 kernels 5x5\n",
            "\tF6: Fully connected, 84 units\n",
            "\tF7: Fully connected, 10 units\n",
            "Model: \"sequential_2\"\n",
            "_________________________________________________________________\n",
            "Layer (type)                 Output Shape              Param #   \n",
            "=================================================================\n",
            "conv2d_4 (Conv2D)            (None, 28, 28, 6)         156       \n",
            "_________________________________________________________________\n",
            "average_pooling2d_3 (Average (None, 14, 14, 6)         0         \n",
            "_________________________________________________________________\n",
            "conv2d_5 (Conv2D)            (None, 10, 10, 16)        2416      \n",
            "_________________________________________________________________\n",
            "average_pooling2d_4 (Average (None, 5, 5, 16)          0         \n",
            "_________________________________________________________________\n",
            "conv2d_6 (Conv2D)            (None, 1, 1, 120)         48120     \n",
            "_________________________________________________________________\n",
            "flatten_2 (Flatten)          (None, 120)               0         \n",
            "_________________________________________________________________\n",
            "dense_3 (Dense)              (None, 84)                10164     \n",
            "_________________________________________________________________\n",
            "dense_4 (Dense)              (None, 10)                850       \n",
            "=================================================================\n",
            "Total params: 61,706\n",
            "Trainable params: 61,706\n",
            "Non-trainable params: 0\n",
            "_________________________________________________________________\n"
          ],
          "name": "stdout"
        }
      ]
    },
    {
      "cell_type": "markdown",
      "metadata": {
        "id": "egL15iQztTDH"
      },
      "source": [
        "## Train"
      ]
    },
    {
      "cell_type": "code",
      "metadata": {
        "id": "EKOdDvgf5YlZ",
        "outputId": "a4f88edf-5bed-4a54-9175-5a4538bdb927",
        "colab": {
          "base_uri": "https://localhost:8080/",
          "height": 581
        }
      },
      "source": [
        "\n",
        "history = model.fit(Xtrain, Ytrain, batch_size=32, epochs=5, validation_data = (Xtest,Ytest))\n",
        "\n"
      ],
      "execution_count": null,
      "outputs": [
        {
          "output_type": "stream",
          "text": [
            "WARNING:tensorflow:From /usr/local/lib/python3.6/dist-packages/tensorflow_core/python/ops/math_grad.py:1424: where (from tensorflow.python.ops.array_ops) is deprecated and will be removed in a future version.\n",
            "Instructions for updating:\n",
            "Use tf.where in 2.0, which has the same broadcast rule as np.where\n",
            "WARNING:tensorflow:From /usr/local/lib/python3.6/dist-packages/keras/backend/tensorflow_backend.py:1033: The name tf.assign_add is deprecated. Please use tf.compat.v1.assign_add instead.\n",
            "\n",
            "WARNING:tensorflow:From /usr/local/lib/python3.6/dist-packages/keras/backend/tensorflow_backend.py:1020: The name tf.assign is deprecated. Please use tf.compat.v1.assign instead.\n",
            "\n",
            "WARNING:tensorflow:From /usr/local/lib/python3.6/dist-packages/keras/backend/tensorflow_backend.py:3005: The name tf.Session is deprecated. Please use tf.compat.v1.Session instead.\n",
            "\n",
            "Train on 60000 samples, validate on 10000 samples\n",
            "Epoch 1/5\n",
            "WARNING:tensorflow:From /usr/local/lib/python3.6/dist-packages/keras/backend/tensorflow_backend.py:190: The name tf.get_default_session is deprecated. Please use tf.compat.v1.get_default_session instead.\n",
            "\n",
            "WARNING:tensorflow:From /usr/local/lib/python3.6/dist-packages/keras/backend/tensorflow_backend.py:197: The name tf.ConfigProto is deprecated. Please use tf.compat.v1.ConfigProto instead.\n",
            "\n",
            "WARNING:tensorflow:From /usr/local/lib/python3.6/dist-packages/keras/backend/tensorflow_backend.py:207: The name tf.global_variables is deprecated. Please use tf.compat.v1.global_variables instead.\n",
            "\n",
            "WARNING:tensorflow:From /usr/local/lib/python3.6/dist-packages/keras/backend/tensorflow_backend.py:216: The name tf.is_variable_initialized is deprecated. Please use tf.compat.v1.is_variable_initialized instead.\n",
            "\n",
            "WARNING:tensorflow:From /usr/local/lib/python3.6/dist-packages/keras/backend/tensorflow_backend.py:223: The name tf.variables_initializer is deprecated. Please use tf.compat.v1.variables_initializer instead.\n",
            "\n",
            "60000/60000 [==============================] - 16s 259us/step - loss: 0.2263 - acc: 0.9324 - val_loss: 0.1102 - val_acc: 0.9661\n",
            "Epoch 2/5\n",
            "60000/60000 [==============================] - 13s 214us/step - loss: 0.0848 - acc: 0.9745 - val_loss: 0.0845 - val_acc: 0.9754\n",
            "Epoch 3/5\n",
            "60000/60000 [==============================] - 13s 210us/step - loss: 0.0564 - acc: 0.9827 - val_loss: 0.0540 - val_acc: 0.9824\n",
            "Epoch 4/5\n",
            "60000/60000 [==============================] - 13s 211us/step - loss: 0.0460 - acc: 0.9857 - val_loss: 0.0491 - val_acc: 0.9847\n",
            "Epoch 5/5\n",
            "60000/60000 [==============================] - 13s 209us/step - loss: 0.0357 - acc: 0.9886 - val_loss: 0.0486 - val_acc: 0.9837\n"
          ],
          "name": "stdout"
        }
      ]
    },
    {
      "cell_type": "markdown",
      "metadata": {
        "id": "YPtbelKYHy4K"
      },
      "source": [
        "##Evaluate the model"
      ]
    },
    {
      "cell_type": "markdown",
      "metadata": {
        "id": "fkx4x2M3vFpk"
      },
      "source": [
        "## Print scores\n",
        "\n",
        "Overall accuracy, precision, recall and F-score "
      ]
    },
    {
      "cell_type": "code",
      "metadata": {
        "id": "aLfiWAMGHxkH",
        "outputId": "86128dea-520c-4229-fbe6-fac895acca79",
        "colab": {
          "base_uri": "https://localhost:8080/",
          "height": 452
        }
      },
      "source": [
        "import sklearn.metrics \n",
        "from sklearn.metrics import classification_report, confusion_matrix\n",
        "\n",
        "# accuracy\n",
        "score = model.evaluate(Xtest, Ytest)\n",
        "print(\"Test loss: %f\" %score[0])\n",
        "print(\"Test accuracy: %f\" %score[1])\n",
        "\n",
        "preds = model.predict(Xtest,verbose=1)\n",
        "Ypred = np.argmax(preds, axis=1)\n",
        "\n",
        "Ypred = keras.utils.to_categorical(Ypred, num_classes)\n",
        "\n",
        "print('%s' %str(Ypred.shape))\n",
        "print('%s' %str(Ytest.shape))\n",
        "\n",
        "print(classification_report(Ytest, Ypred, digits=3))\n",
        "\n",
        "\n",
        "  "
      ],
      "execution_count": null,
      "outputs": [
        {
          "output_type": "stream",
          "text": [
            "10000/10000 [==============================] - 1s 68us/step\n",
            "Test loss: 0.048557\n",
            "Test accuracy: 0.983700\n",
            "10000/10000 [==============================] - 0s 50us/step\n",
            "(10000, 10)\n",
            "(10000, 10)\n",
            "              precision    recall  f1-score   support\n",
            "\n",
            "           0      0.981     0.994     0.987       980\n",
            "           1      0.990     0.996     0.993      1135\n",
            "           2      0.986     0.987     0.987      1032\n",
            "           3      0.982     0.979     0.981      1010\n",
            "           4      0.988     0.971     0.979       982\n",
            "           5      0.988     0.984     0.986       892\n",
            "           6      0.991     0.984     0.987       958\n",
            "           7      0.977     0.982     0.979      1028\n",
            "           8      0.988     0.978     0.983       974\n",
            "           9      0.968     0.978     0.973      1009\n",
            "\n",
            "   micro avg      0.984     0.984     0.984     10000\n",
            "   macro avg      0.984     0.984     0.984     10000\n",
            "weighted avg      0.984     0.984     0.984     10000\n",
            " samples avg      0.984     0.984     0.984     10000\n",
            "\n"
          ],
          "name": "stdout"
        }
      ]
    },
    {
      "cell_type": "markdown",
      "metadata": {
        "id": "k6bNy-J9u-l6"
      },
      "source": [
        "##Plot results"
      ]
    },
    {
      "cell_type": "code",
      "metadata": {
        "id": "nGcvKLXpvjDu",
        "outputId": "157599cc-6ef3-49e8-965a-ac2f8347e594",
        "colab": {
          "base_uri": "https://localhost:8080/",
          "height": 573
        }
      },
      "source": [
        "import matplotlib.pyplot as plt\n",
        "\n",
        "# summarize history for accuracy\n",
        "plt.plot(history.history['acc'])\n",
        "plt.plot(history.history['val_acc'])\n",
        "plt.title('model accuracy')\n",
        "plt.ylabel('accuracy')\n",
        "plt.xlabel('epoch')\n",
        "plt.legend(['train', 'test'], loc='upper left')\n",
        "plt.show()\n",
        "# summarize history for loss\n",
        "plt.plot(history.history['loss'])\n",
        "plt.plot(history.history['val_loss'])\n",
        "plt.title('model loss')\n",
        "plt.ylabel('loss')\n",
        "plt.xlabel('epoch')\n",
        "plt.legend(['train', 'test'], loc='upper left')\n",
        "plt.show()"
      ],
      "execution_count": null,
      "outputs": [
        {
          "output_type": "display_data",
          "data": {
            "image/png": "[encoded data removed]",
            "text/plain": [
              "<Figure size 432x288 with 1 Axes>"
            ]
          },
          "metadata": {
            "tags": []
          }
        },
        {
          "output_type": "display_data",
          "data": {
            "image/png": "[encoded data removed]",
            "text/plain": [
              "<Figure size 432x288 with 1 Axes>"
            ]
          },
          "metadata": {
            "tags": []
          }
        }
      ]
    }
  ]
}