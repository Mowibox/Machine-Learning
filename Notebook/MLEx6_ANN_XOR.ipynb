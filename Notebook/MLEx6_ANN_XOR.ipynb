{
  "nbformat": 4,
  "nbformat_minor": 0,
  "metadata": {
    "colab": {
      "name": "MLEx6_ANN_XOR",
      "provenance": [],
      "collapsed_sections": [],
      "toc_visible": true
    },
    "kernelspec": {
      "name": "python3",
      "display_name": "Python 3"
    }
  },
  "cells": [
    {
      "cell_type": "markdown",
      "metadata": {
        "id": "K1Ldrsw3gyYK"
      },
      "source": [
        "# Machine Learning - Exercise 6\n",
        "# Artificial Neural Networks for XOR problem\n",
        "\n",
        "XOR function: f(x1,x2) -> {0,1}\n",
        "\n",
        "D = {(0,0,0), (0,1,1), (1,0,1), (1,1,0)}\n",
        "\n",
        "Non linearly separable.\n"
      ]
    },
    {
      "cell_type": "markdown",
      "metadata": {
        "id": "4HDgIK66g8oc"
      },
      "source": [
        "## Import libraries"
      ]
    },
    {
      "cell_type": "code",
      "metadata": {
        "id": "vGM7ZZulbRfT",
        "outputId": "eee5b945-10f5-4210-c78c-a965ec831796",
        "colab": {
          "base_uri": "https://localhost:8080/",
          "height": 54
        }
      },
      "source": [
        "import random\n",
        "import matplotlib\n",
        "import matplotlib.pyplot as plt\n",
        "import numpy as np\n",
        "\n",
        "\n",
        "#import tensorflow.compat.v1 as tf\n",
        "#tf.disable_v2_behavior()\n",
        "import tensorflow as tf\n",
        "import keras\n",
        "from keras.models import Sequential, load_model\n",
        "from keras.layers.core import Dense, Dropout, Activation\n",
        "from keras.optimizers import SGD, RMSprop, Adagrad, Adam, Nadam\n",
        "\n",
        "print('Tensorflow ',tf.__version__)\n",
        "print('Keras ',keras.__version__)\n"
      ],
      "execution_count": null,
      "outputs": [
        {
          "output_type": "stream",
          "text": [
            "Tensorflow  1.15.0\n",
            "Keras  2.2.5\n"
          ],
          "name": "stdout"
        }
      ]
    },
    {
      "cell_type": "markdown",
      "metadata": {
        "id": "nOa7QmaDlSBm"
      },
      "source": [
        "## Create data set\n",
        "\n",
        "Enable the noise flag to create a noisy XOR data set.\n",
        "\n",
        "Fix random seed to repeat experiments."
      ]
    },
    {
      "cell_type": "code",
      "metadata": {
        "id": "8_56HRZylWV4",
        "outputId": "4bd771fc-f14a-4d5c-da50-610daea0317d",
        "colab": {
          "base_uri": "https://localhost:8080/",
          "height": 337
        }
      },
      "source": [
        "# Define the XOR dataset\n",
        "xor_db = np.array([[0,0,0], [0,1,1], [1,0,1], [1,1,0]], dtype=float)\n",
        "\n",
        "noise = False # generate noisy data\n",
        "\n",
        "# random seed\n",
        "rs = 20191111 # OK \n",
        "np.random.seed(rs)\n",
        "\n",
        "if (noise):\n",
        "  for i in range(4):\n",
        "    for k in range(10):\n",
        "      d = xor_db[i]\n",
        "      d[0] += np.random.random()*0.2 - 0.1\n",
        "      d[1] += np.random.random()*0.2 - 0.1\n",
        "      xor_db = np.vstack([xor_db, d])\n",
        "\n",
        "X = xor_db[:,0:-1]\n",
        "t = xor_db[:,-1]\n",
        "\n",
        "ninput = X.shape[1]\n",
        "nsamples = X.shape[0]\n",
        "\n",
        "print('Dataset: XOR')\n",
        "print('Number of features: %d' %ninput)\n",
        "print('Number of samples: %d' %nsamples)\n",
        "\n",
        "# print options\n",
        "np.set_printoptions(precision=3, formatter={'float':lambda x: '%6.3f' %x}, suppress=True)\n",
        "\n",
        "# plot dataset\n",
        "\n",
        "plt.title(\"Data set\")\n",
        "plt.xlim(xmin = -0.5, xmax = 1.5)\n",
        "plt.ylim(ymin = -0.5, ymax = 1.5)\n",
        "\n",
        "cm = plt.cm.get_cmap('rainbow')\n",
        "plt.scatter(X[:,0], X[:,1], c=t, cmap=cm)\n",
        "\n",
        "plt.show()"
      ],
      "execution_count": null,
      "outputs": [
        {
          "output_type": "stream",
          "text": [
            "Dataset: XOR\n",
            "Number of features: 2\n",
            "Number of samples: 4\n"
          ],
          "name": "stdout"
        },
        {
          "output_type": "display_data",
          "data": {
            "image/png": "[encoded data removed]",
            "text/plain": [
              "<Figure size 432x288 with 1 Axes>"
            ]
          },
          "metadata": {
            "tags": []
          }
        }
      ]
    },
    {
      "cell_type": "markdown",
      "metadata": {
        "id": "me8_rH3ahELo"
      },
      "source": [
        "## ANN for XOR dataset\n",
        "\n",
        "Create model with 2 layers:\n",
        "\n",
        "hidden layer with two ReLU unites, \n",
        "\n",
        "output layer with 1 linear unit.\n",
        "\n",
        "Fix random seed to repreat experiments. Two values are given showing convergence to global vs. local minimum."
      ]
    },
    {
      "cell_type": "code",
      "metadata": {
        "id": "k3b_tqSabpU9",
        "outputId": "ea2832ba-0a11-41bc-c3ca-50eb73588a5b",
        "colab": {
          "base_uri": "https://localhost:8080/",
          "height": 259
        }
      },
      "source": [
        "nh = 2 # nr. of hidden units\n",
        "acth = 'relu' # activation function for hidden units\n",
        "no = 1 # nr. of output units\n",
        "acto = 'linear' # activation function for output unit\n",
        "lossfn = 'mean_squared_error' # loss function\n",
        "lrate = 0.001 # learning rate\n",
        "#opt = SGD(lr=lrate) # SGD optimizer\n",
        "opt = RMSprop(lr=lrate) # RMSprop optimizer\n",
        "\n",
        "# random seed\n",
        "rs = 20191111 # OK \n",
        "#rs = 20191112 # NO\n",
        "np.random.seed(rs)\n",
        "tf.set_random_seed(rs)\n",
        "\n",
        "# Create ANN model\n",
        "model = Sequential()\n",
        "model.add(Dense(nh, input_dim=ninput, activation=acth))\n",
        "model.add(Dense(no, activation=acto))\n",
        "\n",
        "model.compile(loss=lossfn, optimizer=opt, metrics=['accuracy'])\n",
        "\n",
        "print(model.summary())\n",
        "\n",
        "# Training setup\n",
        "\n",
        "nepochs = 100     # nr. of learning steps\n",
        "batch_size = 16   # batch_size\n",
        "niter = 0         # iteration counter\n",
        "hv = []           # history vector (for plotting)"
      ],
      "execution_count": null,
      "outputs": [
        {
          "output_type": "stream",
          "text": [
            "Model: \"sequential_54\"\n",
            "_________________________________________________________________\n",
            "Layer (type)                 Output Shape              Param #   \n",
            "=================================================================\n",
            "dense_107 (Dense)            (None, 2)                 6         \n",
            "_________________________________________________________________\n",
            "dense_108 (Dense)            (None, 1)                 3         \n",
            "=================================================================\n",
            "Total params: 9\n",
            "Trainable params: 9\n",
            "Non-trainable params: 0\n",
            "_________________________________________________________________\n",
            "None\n"
          ],
          "name": "stdout"
        }
      ]
    },
    {
      "cell_type": "markdown",
      "metadata": {
        "id": "7WGtnOsZhMzO"
      },
      "source": [
        "## Training"
      ]
    },
    {
      "cell_type": "code",
      "metadata": {
        "id": "4zqXyBhEzvcB",
        "outputId": "c73fa87e-63b2-4f85-8962-1febbb43f23e",
        "colab": {
          "base_uri": "https://localhost:8080/",
          "height": 762
        }
      },
      "source": [
        "for i in range(10):\n",
        "  h = model.fit(X, t, batch_size=batch_size, epochs=nepochs, verbose=0)\n",
        "  hv.append(h)\n",
        "  niter += nepochs\n",
        "  current_loss = h.history['loss'][len(h.history['loss'])-1]\n",
        "  current_acc = h.history['acc'][len(h.history['acc'])-1]\n",
        "  print(\"Iteration %d - Accuracy %.2f Loss %f\" \n",
        "      %(niter,current_acc,current_loss))\n",
        "  yp = model.predict(X)\n",
        "  if (X.shape[0]==4):\n",
        "    print(\"Test\\n%s\" %(np.transpose(yp)))\n",
        "    print(\"-----------------------------------------------------\")"
      ],
      "execution_count": null,
      "outputs": [
        {
          "output_type": "stream",
          "text": [
            "Iteration 100 - Accuracy 0.75 Loss 0.267505\n",
            "Test\n",
            "[[ 0.185  0.544  0.097  0.088]]\n",
            "-----------------------------------------------------\n",
            "Iteration 200 - Accuracy 0.75 Loss 0.193589\n",
            "Test\n",
            "[[ 0.282  0.808  0.238  0.274]]\n",
            "-----------------------------------------------------\n",
            "Iteration 300 - Accuracy 0.75 Loss 0.162881\n",
            "Test\n",
            "[[ 0.269  0.949  0.368  0.422]]\n",
            "-----------------------------------------------------\n",
            "Iteration 400 - Accuracy 0.75 Loss 0.153965\n",
            "Test\n",
            "[[ 0.186  0.998  0.378  0.441]]\n",
            "-----------------------------------------------------\n",
            "Iteration 500 - Accuracy 0.75 Loss 0.143263\n",
            "Test\n",
            "[[ 0.114  0.999  0.419  0.471]]\n",
            "-----------------------------------------------------\n",
            "Iteration 600 - Accuracy 0.75 Loss 0.131080\n",
            "Test\n",
            "[[ 0.042  0.999  0.471  0.492]]\n",
            "-----------------------------------------------------\n",
            "Iteration 700 - Accuracy 1.00 Loss 0.117979\n",
            "Test\n",
            "[[-0.001  0.998  0.515  0.486]]\n",
            "-----------------------------------------------------\n",
            "Iteration 800 - Accuracy 1.00 Loss 0.101271\n",
            "Test\n",
            "[[-0.001  0.998  0.550  0.449]]\n",
            "-----------------------------------------------------\n",
            "Iteration 900 - Accuracy 1.00 Loss 0.081708\n",
            "Test\n",
            "[[-0.001  0.998  0.595  0.403]]\n",
            "-----------------------------------------------------\n",
            "Iteration 1000 - Accuracy 1.00 Loss 0.060768\n",
            "Test\n",
            "[[-0.001  0.998  0.651  0.347]]\n",
            "-----------------------------------------------------\n"
          ],
          "name": "stdout"
        }
      ]
    },
    {
      "cell_type": "markdown",
      "metadata": {
        "id": "FZBE0gClhWRM"
      },
      "source": [
        "## Plot results"
      ]
    },
    {
      "cell_type": "code",
      "metadata": {
        "id": "nkM89Q6ehYWG",
        "outputId": "8a55e7f1-1a9e-4049-a355-c58f1022c657",
        "colab": {
          "base_uri": "https://localhost:8080/",
          "height": 564
        }
      },
      "source": [
        "ploss = []\n",
        "pacc = []\n",
        "\n",
        "for i in range(len(hv)):\n",
        "  ploss += hv[i].history['loss']\n",
        "  pacc  += hv[i].history['acc']\n",
        "print(len(ploss))\n",
        "\n",
        "plt.title(\"Loss\")\n",
        "plt.ylim(-0.1,max(ploss))\n",
        "plt.plot(ploss, color='red')\n",
        "plt.show()\n",
        "\n",
        "plt.title(\"Accuracy\")\n",
        "plt.ylim(min(pacc),1.1)\n",
        "plt.plot(pacc, color='blue')\n",
        "plt.show()\n"
      ],
      "execution_count": null,
      "outputs": [
        {
          "output_type": "stream",
          "text": [
            "1000\n"
          ],
          "name": "stdout"
        },
        {
          "output_type": "display_data",
          "data": {
            "image/png": "[encoded data removed]",
            "text/plain": [
              "<Figure size 432x288 with 1 Axes>"
            ]
          },
          "metadata": {
            "tags": []
          }
        },
        {
          "output_type": "display_data",
          "data": {
            "image/png": "[encoded data removed]",
            "text/plain": [
              "<Figure size 432x288 with 1 Axes>"
            ]
          },
          "metadata": {
            "tags": []
          }
        }
      ]
    },
    {
      "cell_type": "markdown",
      "metadata": {
        "id": "dGhr0v7ohRnj"
      },
      "source": [
        "## Analysis of the model"
      ]
    },
    {
      "cell_type": "code",
      "metadata": {
        "id": "sRsKTn2cbkre",
        "outputId": "e506538a-2f10-47b6-d6f9-85ca16242fde",
        "colab": {
          "base_uri": "https://localhost:8080/",
          "height": 431
        }
      },
      "source": [
        "W = model.get_weights()\n",
        "print('W = ',W)\n",
        "\n",
        "H = []\n",
        "\n",
        "for x in X:\n",
        "  v = np.transpose(W[0]).dot(x) + W[1]\n",
        "  h = max([0,0],list(v))  # relu\n",
        "  H += [h]\n",
        "\n",
        "H = np.array(H)\n",
        "if H.shape[0]==4:\n",
        "  print('H = ',H)\n",
        "\n",
        "# plot h values\n",
        "\n",
        "plt.title(\"Hidden layer values\")\n",
        "#plt.xlim(xmin = -0.5, xmax = 1.5)\n",
        "#plt.ylim(ymin = -0.5, ymax = 1.5)\n",
        "\n",
        "cm = plt.cm.get_cmap('rainbow')\n",
        "plt.scatter(H[:,0], H[:,1], c=t, cmap=cm)\n",
        "\n",
        "plt.show()\n"
      ],
      "execution_count": null,
      "outputs": [
        {
          "output_type": "stream",
          "text": [
            "W =  [array([[ 0.909, -1.030],\n",
            "       [-0.355,  0.847]], dtype=float32), array([-0.109,  0.027], dtype=float32), array([[ 0.856],\n",
            "       [ 1.179]], dtype=float32), array([-0.033], dtype=float32)]\n",
            "H =  [[ 0.000  0.000]\n",
            " [ 0.000  0.000]\n",
            " [ 0.799 -1.002]\n",
            " [ 0.444 -0.155]]\n"
          ],
          "name": "stdout"
        },
        {
          "output_type": "display_data",
          "data": {
            "image/png": "[encoded data removed]",
            "text/plain": [
              "<Figure size 432x288 with 1 Axes>"
            ]
          },
          "metadata": {
            "tags": []
          }
        }
      ]
    }
  ]
}