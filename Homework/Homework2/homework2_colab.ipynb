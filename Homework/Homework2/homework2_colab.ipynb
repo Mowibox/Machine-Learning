{
  "nbformat": 4,
  "nbformat_minor": 0,
  "metadata": {
    "colab": {
      "name": "Homework2.ipynb",
      "provenance": [],
      "collapsed_sections": [],
      "toc_visible": true
    },
    "kernelspec": {
      "name": "python3",
      "display_name": "Python 3"
    },
    "accelerator": "GPU"
  },
  "cells": [
    {
      "cell_type": "markdown",
      "metadata": {
        "id": "vO5yo7oSSmI-",
        "colab_type": "text"
      },
      "source": [
        "# Homework 2 - Test MWI"
      ]
    },
    {
      "cell_type": "markdown",
      "metadata": {
        "id": "Ku6tq8ehSwn0",
        "colab_type": "text"
      },
      "source": [
        "## Import Libraries"
      ]
    },
    {
      "cell_type": "markdown",
      "metadata": {
        "id": "8Emax2sKS3_4",
        "colab_type": "text"
      },
      "source": [
        "Import some libraries"
      ]
    },
    {
      "cell_type": "code",
      "metadata": {
        "id": "lqvCIfE_RY0i",
        "colab_type": "code",
        "outputId": "da3b9647-b5f7-4d2b-ed11-5cde696175cf",
        "colab": {
          "base_uri": "https://localhost:8080/",
          "height": 54
        }
      },
      "source": [
        "%tensorflow_version 1.x\n",
        "\n",
        "import pandas as pd\n",
        "import numpy as np\n",
        "import tensorflow as tf\n",
        "import keras\n",
        "from keras.preprocessing.image import ImageDataGenerator\n",
        "from sklearn.model_selection import train_test_split\n",
        "print(\"Tensorflow version %s\" %tf.__version__)\n",
        "\n",
        "device_name = tf.test.gpu_device_name()\n",
        "if device_name != '/device:GPU:0':\n",
        "  raise SystemError('GPU device not found')\n",
        "print('Found GPU at: {}'.format(device_name))"
      ],
      "execution_count": 6,
      "outputs": [
        {
          "output_type": "stream",
          "text": [
            "Tensorflow version 1.15.0\n",
            "Found GPU at: /device:GPU:0\n"
          ],
          "name": "stdout"
        }
      ]
    },
    {
      "cell_type": "markdown",
      "metadata": {
        "id": "yKmFDsgFY-Aj",
        "colab_type": "text"
      },
      "source": [
        "## Load data"
      ]
    },
    {
      "cell_type": "code",
      "metadata": {
        "id": "Rff_ObYzZrKk",
        "colab_type": "code",
        "outputId": "7ab9616b-5cda-4145-c929-356927ffd4d1",
        "colab": {
          "base_uri": "https://localhost:8080/",
          "height": 166
        }
      },
      "source": [
        "import os\n",
        "from google.colab import drive\n",
        "from keras.preprocessing.image import ImageDataGenerator\n",
        "drive.mount('/content/drive')\n",
        "\n",
        "trainingset = '/content/drive/My Drive/MWI-Dataset1/MWI-Dataset1'\n",
        "\n",
        "batch_size = 64\n",
        "input_shape = ()\n",
        "train_datagen = ImageDataGenerator(\n",
        "    rescale = 1. / 255,\\\n",
        "    zoom_range=0.1,\\\n",
        "    rotation_range=10,\\\n",
        "    width_shift_range=0.1,\\\n",
        "    height_shift_range=0.1,\\\n",
        "    horizontal_flip=True,\\\n",
        "    vertical_flip=False,\n",
        "    validation_split=0.2\n",
        "    )\n",
        "\n",
        "\n",
        "train_generator = train_datagen.flow_from_directory(\n",
        "    directory=trainingset,\n",
        "    target_size=(118, 224),\n",
        "    color_mode=\"rgb\",\n",
        "    batch_size=batch_size,\n",
        "    class_mode=\"categorical\",\n",
        "    shuffle=True,\n",
        "    subset='training'\n",
        ")\n",
        "\n",
        "validation_generator = train_datagen.flow_from_directory(\n",
        "    trainingset, # same directory as training data\n",
        "    target_size=(118, 224),\n",
        "    batch_size=batch_size,\n",
        "    shuffle=False,\n",
        "    class_mode='categorical',\n",
        "    subset='validation') # set as validation data\n",
        "\n",
        "num_samples = train_generator.n\n",
        "num_classes = train_generator.num_classes\n",
        "input_shape = train_generator.image_shape\n",
        "\n",
        "classnames = [k for k,v in train_generator.class_indices.items()]\n",
        "img_h=input_shape[0]\n",
        "img_w=input_shape[1]\n",
        "print(\"Image input %s\" %str(input_shape))\n",
        "print(\"Classes: %r\" %classnames)\n",
        "print('Loaded %d training samples from  %d classes.' %(num_samples,num_classes))\n",
        "print('Loaded %d test samples from %d classes.' %(validation_generator.n,validation_generator.num_classes))\n"
      ],
      "execution_count": 7,
      "outputs": [
        {
          "output_type": "stream",
          "text": [
            "Drive already mounted at /content/drive; to attempt to forcibly remount, call drive.mount(\"/content/drive\", force_remount=True).\n",
            "Found 1604 images belonging to 4 classes.\n",
            "Found 401 images belonging to 4 classes.\n",
            "Image input (118, 224, 3)\n",
            "Classes: ['HAZE', 'RAINY', 'SNOWY', 'SUNNY']\n",
            "Loaded 1604 training samples from  4 classes.\n",
            "Loaded 401 test samples from 4 classes.\n"
          ],
          "name": "stdout"
        }
      ]
    },
    {
      "cell_type": "markdown",
      "metadata": {
        "id": "rI2fhp3ldPsy",
        "colab_type": "text"
      },
      "source": [
        "## Model"
      ]
    },
    {
      "cell_type": "markdown",
      "metadata": {
        "id": "5hj5AsQ_daRr",
        "colab_type": "text"
      },
      "source": [
        "### SvevaNet - MyCnn"
      ]
    },
    {
      "cell_type": "markdown",
      "metadata": {
        "id": "YC8-F6KHeyNz",
        "colab_type": "text"
      },
      "source": [
        "Libraries for Net"
      ]
    },
    {
      "cell_type": "code",
      "metadata": {
        "id": "pfGXMEpEehmp",
        "colab_type": "code",
        "outputId": "874cd07f-6fd6-4a12-f9a3-afd59663336b",
        "colab": {
          "base_uri": "https://localhost:8080/",
          "height": 1000
        }
      },
      "source": [
        "from keras.models import Sequential\n",
        "from keras.layers import Dense, Activation, Dropout, Flatten,\\\n",
        "                         Conv2D, MaxPooling2D\n",
        "from keras.layers.normalization import BatchNormalization\n",
        "from keras import regularizers\n",
        "from keras import optimizers\n",
        "\n",
        "def SvevaNet(input_shape, num_classes):\n",
        "\n",
        "    model = Sequential(name=\"SvevaNet\")\n",
        "\n",
        "    # C1 Convolutional Layer \n",
        "    model.add(Conv2D(filters=15, input_shape=input_shape, kernel_size=(5,5)))\n",
        "    model.add(Activation('relu'))\n",
        "\n",
        "    # C2 Convolutional Layer\n",
        "    model.add(Conv2D(filters=20, kernel_size=(5,5)))\n",
        "    model.add(Activation('relu'))\n",
        "    # Pooling\n",
        "    model.add(MaxPooling2D(pool_size=(2,2)))\n",
        "\n",
        "    # C3 Convolutional Layer\n",
        "    model.add(Conv2D(filters=30, kernel_size=(3,3)))\n",
        "    model.add(Activation('relu'))\n",
        "    # Pooling\n",
        "    model.add(MaxPooling2D(pool_size=(2,2)))\n",
        "\n",
        "    # Flatten\n",
        "    model.add(Flatten())\n",
        "\n",
        "\n",
        "    # D1 Dense Layer\n",
        "    model.add(Dense(128))\n",
        "    model.add(Activation('relu'))\n",
        "    # Dropout\n",
        "    model.add(Dropout(0.4))\n",
        "    # D2 Dense Layer\n",
        "    model.add(Dense(96))\n",
        "    model.add(Activation('relu'))\n",
        "    # Dropout\n",
        "    model.add(Dropout(0.4))\n",
        "\n",
        "    # Output Layer\n",
        "    model.add(Dense(num_classes))\n",
        "    model.add(Activation('softmax'))\n",
        "\n",
        "    # Compile\n",
        "\n",
        "    optimizer = optimizers.rmsprop(lr=0.0001)\n",
        "    model.compile(loss='categorical_crossentropy', optimizer=optimizer, metrics=['accuracy'])\n",
        "\n",
        "    return model\n",
        " \n",
        "# create the model\n",
        "model = SvevaNet(input_shape,num_classes)\n",
        "model.summary()"
      ],
      "execution_count": 2,
      "outputs": [
        {
          "output_type": "stream",
          "text": [
            "WARNING:tensorflow:From /usr/local/lib/python3.6/dist-packages/keras/backend/tensorflow_backend.py:66: The name tf.get_default_graph is deprecated. Please use tf.compat.v1.get_default_graph instead.\n",
            "\n",
            "WARNING:tensorflow:From /usr/local/lib/python3.6/dist-packages/keras/backend/tensorflow_backend.py:541: The name tf.placeholder is deprecated. Please use tf.compat.v1.placeholder instead.\n",
            "\n",
            "WARNING:tensorflow:From /usr/local/lib/python3.6/dist-packages/keras/backend/tensorflow_backend.py:4432: The name tf.random_uniform is deprecated. Please use tf.random.uniform instead.\n",
            "\n",
            "WARNING:tensorflow:From /usr/local/lib/python3.6/dist-packages/keras/backend/tensorflow_backend.py:4267: The name tf.nn.max_pool is deprecated. Please use tf.nn.max_pool2d instead.\n",
            "\n",
            "WARNING:tensorflow:From /usr/local/lib/python3.6/dist-packages/keras/backend/tensorflow_backend.py:148: The name tf.placeholder_with_default is deprecated. Please use tf.compat.v1.placeholder_with_default instead.\n",
            "\n",
            "WARNING:tensorflow:From /usr/local/lib/python3.6/dist-packages/keras/backend/tensorflow_backend.py:3733: calling dropout (from tensorflow.python.ops.nn_ops) with keep_prob is deprecated and will be removed in a future version.\n",
            "Instructions for updating:\n",
            "Please use `rate` instead of `keep_prob`. Rate should be set to `rate = 1 - keep_prob`.\n",
            "WARNING:tensorflow:From /usr/local/lib/python3.6/dist-packages/keras/optimizers.py:793: The name tf.train.Optimizer is deprecated. Please use tf.compat.v1.train.Optimizer instead.\n",
            "\n",
            "WARNING:tensorflow:From /usr/local/lib/python3.6/dist-packages/keras/backend/tensorflow_backend.py:3576: The name tf.log is deprecated. Please use tf.math.log instead.\n",
            "\n",
            "Model: \"SvevaNet\"\n",
            "_________________________________________________________________\n",
            "Layer (type)                 Output Shape              Param #   \n",
            "=================================================================\n",
            "conv2d_1 (Conv2D)            (None, 114, 220, 15)      1140      \n",
            "_________________________________________________________________\n",
            "activation_1 (Activation)    (None, 114, 220, 15)      0         \n",
            "_________________________________________________________________\n",
            "conv2d_2 (Conv2D)            (None, 110, 216, 20)      7520      \n",
            "_________________________________________________________________\n",
            "activation_2 (Activation)    (None, 110, 216, 20)      0         \n",
            "_________________________________________________________________\n",
            "max_pooling2d_1 (MaxPooling2 (None, 55, 108, 20)       0         \n",
            "_________________________________________________________________\n",
            "conv2d_3 (Conv2D)            (None, 53, 106, 30)       5430      \n",
            "_________________________________________________________________\n",
            "activation_3 (Activation)    (None, 53, 106, 30)       0         \n",
            "_________________________________________________________________\n",
            "max_pooling2d_2 (MaxPooling2 (None, 26, 53, 30)        0         \n",
            "_________________________________________________________________\n",
            "flatten_1 (Flatten)          (None, 41340)             0         \n",
            "_________________________________________________________________\n",
            "dense_1 (Dense)              (None, 128)               5291648   \n",
            "_________________________________________________________________\n",
            "activation_4 (Activation)    (None, 128)               0         \n",
            "_________________________________________________________________\n",
            "dropout_1 (Dropout)          (None, 128)               0         \n",
            "_________________________________________________________________\n",
            "dense_2 (Dense)              (None, 96)                12384     \n",
            "_________________________________________________________________\n",
            "activation_5 (Activation)    (None, 96)                0         \n",
            "_________________________________________________________________\n",
            "dropout_2 (Dropout)          (None, 96)                0         \n",
            "_________________________________________________________________\n",
            "dense_3 (Dense)              (None, 4)                 388       \n",
            "_________________________________________________________________\n",
            "activation_6 (Activation)    (None, 4)                 0         \n",
            "=================================================================\n",
            "Total params: 5,318,510\n",
            "Trainable params: 5,318,510\n",
            "Non-trainable params: 0\n",
            "_________________________________________________________________\n"
          ],
          "name": "stdout"
        }
      ]
    },
    {
      "cell_type": "markdown",
      "metadata": {
        "id": "YhxhRH8iOQ__",
        "colab_type": "text"
      },
      "source": [
        "Plot Model with layers and weights"
      ]
    },
    {
      "cell_type": "code",
      "metadata": {
        "id": "935WUJKQOJ3b",
        "colab_type": "code",
        "colab": {}
      },
      "source": [
        "from keras.utils.vis_utils import plot_model\n",
        "plot_model(model, to_file='model_plot.png', show_shapes=True, show_layer_names=True)"
      ],
      "execution_count": 0,
      "outputs": []
    },
    {
      "cell_type": "markdown",
      "metadata": {
        "id": "yrrKHwInJPbm",
        "colab_type": "text"
      },
      "source": [
        "### Pre-Trained Model - Transfer Learning"
      ]
    },
    {
      "cell_type": "code",
      "metadata": {
        "id": "ReVp1CxhJYoj",
        "colab_type": "code",
        "outputId": "0bffdbef-34a0-4abe-d5a4-2178e00cd3eb",
        "colab": {
          "base_uri": "https://localhost:8080/",
          "height": 74
        }
      },
      "source": [
        "from keras import applications\n",
        "from keras.models import Model, Input\n",
        "from keras.models import Sequential\n",
        "from keras.layers import Dense, Activation, Dropout, Flatten,\\\n",
        "                         Conv2D, MaxPooling2D\n",
        "from keras.layers.normalization import BatchNormalization\n",
        "from keras import regularizers\n",
        "from keras import optimizers\n",
        "\n",
        "# Create the base model from the pre-trained model\n",
        "model_transfer = applications.ResNet101V2(weights = \"imagenet\", include_top=False, input_shape = input_shape)\n",
        "print(len(model_transfer.layers))\n",
        "not_trainable=len(model_transfer.layers)-1\n",
        "for layer in model_transfer.layers[:not_trainable]:\n",
        "  layer.trainable= False\n",
        "\n",
        "#Adding custom Layers \n",
        "x = model_transfer.output\n",
        "x = Flatten()(x)\n",
        "x = BatchNormalization()(x)\n",
        "x = Dropout(0.4)(x)\n",
        "x = Dense(100, activation=\"relu\")(x)\n",
        "x = BatchNormalization()(x)\n",
        "x = Dropout(0.4)(x)\n",
        "x = Dense(40, activation=\"relu\")(x)\n",
        "x = BatchNormalization()(x)\n",
        "predictions = Dense(num_classes, activation=\"softmax\")(x)\n",
        "\n",
        "# creating the final model \n",
        "model_final = Model(input = model_transfer.input, output = predictions, name=\"transferLearning\")\n",
        "\n",
        "# compile the model \n",
        "model_final.compile(loss = \"categorical_crossentropy\", optimizer = optimizers.SGD(lr=0.001, momentum=0.09), metrics=[\"accuracy\"])"
      ],
      "execution_count": 0,
      "outputs": [
        {
          "output_type": "stream",
          "text": [
            "377\n"
          ],
          "name": "stdout"
        },
        {
          "output_type": "stream",
          "text": [
            "/usr/local/lib/python3.6/dist-packages/ipykernel_launcher.py:29: UserWarning: Update your `Model` call to the Keras 2 API: `Model(name=\"transferLearning\", inputs=Tensor(\"in..., outputs=Tensor(\"de...)`\n"
          ],
          "name": "stderr"
        }
      ]
    },
    {
      "cell_type": "markdown",
      "metadata": {
        "id": "0E3C7GbruZi3",
        "colab_type": "text"
      },
      "source": [
        "## Save the model"
      ]
    },
    {
      "cell_type": "code",
      "metadata": {
        "id": "QgMXoqGBugwF",
        "colab_type": "code",
        "outputId": "2d06f5ca-7c50-4f3a-a3ec-0a686ac2d15b",
        "colab": {
          "base_uri": "https://localhost:8080/",
          "height": 69
        }
      },
      "source": [
        "import os\n",
        "models_dir = '/content/drive/My Drive/MWI-Dataset1/models'\n",
        "\n",
        "def savemodel(model,problem):\n",
        "    filename = os.path.join(models_dir, '%s.h5' %problem)\n",
        "    model.save(filename)\n",
        "    print(\"\\nModel saved successfully on file %s\\n\" %filename)\n",
        "\n",
        "# Save the model\n",
        "savemodel(model,'best_model')"
      ],
      "execution_count": 0,
      "outputs": [
        {
          "output_type": "stream",
          "text": [
            "\n",
            "Model saved successfully on file /content/drive/My Drive/MWI-Dataset1/models/best_model.h5\n",
            "\n"
          ],
          "name": "stdout"
        }
      ]
    },
    {
      "cell_type": "markdown",
      "metadata": {
        "id": "l8k4yWnPKNM1",
        "colab_type": "text"
      },
      "source": [
        "## Load a trained model"
      ]
    },
    {
      "cell_type": "code",
      "metadata": {
        "id": "WTKQYP9xKPl0",
        "colab_type": "code",
        "outputId": "43857496-b080-492d-b104-098f4171957d",
        "colab": {
          "base_uri": "https://localhost:8080/",
          "height": 72
        }
      },
      "source": [
        "import os\n",
        "from keras.models import load_model\n",
        "\n",
        "models_dir = '/content/drive/My Drive/MWI-Dataset1/models'\n",
        "\n",
        "def loadmodel(problem):\n",
        "    filename = os.path.join(models_dir, '%s.h5' %problem)\n",
        "    try:\n",
        "        model = load_model(filename)\n",
        "        print(\"\\nModel loaded successfully from file %s\\n\" %filename)\n",
        "    except OSError:    \n",
        "        print(\"\\nModel file %s not found!!!\\n\" %filename)\n",
        "        model = None\n",
        "    return model\n",
        "\n",
        "model = loadmodel('best_model')"
      ],
      "execution_count": 8,
      "outputs": [
        {
          "output_type": "stream",
          "text": [
            "\n",
            "Model loaded successfully from file /content/drive/My Drive/MWI-Dataset1/models/best_model.h5\n",
            "\n"
          ],
          "name": "stdout"
        }
      ]
    },
    {
      "cell_type": "markdown",
      "metadata": {
        "id": "GSCQcMA5swwB",
        "colab_type": "text"
      },
      "source": [
        "## Train"
      ]
    },
    {
      "cell_type": "markdown",
      "metadata": {
        "id": "BvfIgX4dNmGJ",
        "colab_type": "text"
      },
      "source": [
        "#### Train of SvevaNet "
      ]
    },
    {
      "cell_type": "code",
      "metadata": {
        "id": "hMf51l0HtamH",
        "colab_type": "code",
        "outputId": "8a26cc39-5591-4ed0-afa5-9cb8ed155e5d",
        "colab": {
          "base_uri": "https://localhost:8080/",
          "height": 1000
        }
      },
      "source": [
        "from keras import callbacks\n",
        "\n",
        "steps_per_epoch=train_generator.n//train_generator.batch_size\n",
        "val_steps=validation_generator.n//validation_generator.batch_size+1\n",
        "\n",
        "try:\n",
        "    history = model.fit_generator(train_generator, epochs=100,\\\n",
        "                    steps_per_epoch=steps_per_epoch,\\\n",
        "                    validation_data=validation_generator,\\\n",
        "                    validation_steps=val_steps)\n",
        "except KeyboardInterrupt:\n",
        "    pass"
      ],
      "execution_count": 0,
      "outputs": [
        {
          "output_type": "stream",
          "text": [
            "Epoch 1/100\n",
            " 3/25 [==>...........................] - ETA: 52s - loss: 1.6320 - acc: 0.3542"
          ],
          "name": "stdout"
        },
        {
          "output_type": "stream",
          "text": [
            "/usr/local/lib/python3.6/dist-packages/PIL/TiffImagePlugin.py:725: UserWarning: Possibly corrupt EXIF data.  Expecting to read 8 bytes but only got 4. Skipping tag 41486\n",
            "  \" Skipping tag %s\" % (size, len(data), tag))\n",
            "/usr/local/lib/python3.6/dist-packages/PIL/TiffImagePlugin.py:725: UserWarning: Possibly corrupt EXIF data.  Expecting to read 8 bytes but only got 0. Skipping tag 41487\n",
            "  \" Skipping tag %s\" % (size, len(data), tag))\n"
          ],
          "name": "stderr"
        },
        {
          "output_type": "stream",
          "text": [
            "\b\b\b\b\b\b\b\b\b\b\b\b\b\b\b\b\b\b\b\b\b\b\b\b\b\b\b\b\b\b\b\b\b\b\b\b\b\b\b\b\b\b\b\b\b\b\b\b\b\b\b\b\b\b\b\b\b\b\b\b\b\b\b\b\b\b\b\b\b\b\b\b\b\b\b\b\b\b\r 4/25 [===>..........................] - ETA: 50s - loss: 1.5950 - acc: 0.3359"
          ],
          "name": "stdout"
        },
        {
          "output_type": "stream",
          "text": [
            "/usr/local/lib/python3.6/dist-packages/PIL/TiffImagePlugin.py:725: UserWarning: Possibly corrupt EXIF data.  Expecting to read 8 bytes but only got 2. Skipping tag 41486\n",
            "  \" Skipping tag %s\" % (size, len(data), tag))\n"
          ],
          "name": "stderr"
        },
        {
          "output_type": "stream",
          "text": [
            "\b\b\b\b\b\b\b\b\b\b\b\b\b\b\b\b\b\b\b\b\b\b\b\b\b\b\b\b\b\b\b\b\b\b\b\b\b\b\b\b\b\b\b\b\b\b\b\b\b\b\b\b\b\b\b\b\b\b\b\b\b\b\b\b\b\b\b\b\b\b\b\b\b\b\b\b\b\b\r 5/25 [=====>........................] - ETA: 45s - loss: 1.5983 - acc: 0.3063"
          ],
          "name": "stdout"
        },
        {
          "output_type": "stream",
          "text": [
            "/usr/local/lib/python3.6/dist-packages/PIL/TiffImagePlugin.py:742: UserWarning: Corrupt EXIF data.  Expecting to read 4 bytes but only got 0. \n",
            "  warnings.warn(str(msg))\n"
          ],
          "name": "stderr"
        },
        {
          "output_type": "stream",
          "text": [
            "16/25 [==================>...........] - ETA: 15s - loss: 1.4264 - acc: 0.3330"
          ],
          "name": "stdout"
        },
        {
          "output_type": "stream",
          "text": [
            "/usr/local/lib/python3.6/dist-packages/PIL/TiffImagePlugin.py:725: UserWarning: Possibly corrupt EXIF data.  Expecting to read 4718592 bytes but only got 0. Skipping tag 0\n",
            "  \" Skipping tag %s\" % (size, len(data), tag))\n",
            "/usr/local/lib/python3.6/dist-packages/PIL/TiffImagePlugin.py:725: UserWarning: Possibly corrupt EXIF data.  Expecting to read 131072 bytes but only got 0. Skipping tag 0\n",
            "  \" Skipping tag %s\" % (size, len(data), tag))\n",
            "/usr/local/lib/python3.6/dist-packages/PIL/TiffImagePlugin.py:725: UserWarning: Possibly corrupt EXIF data.  Expecting to read 1048576 bytes but only got 0. Skipping tag 0\n",
            "  \" Skipping tag %s\" % (size, len(data), tag))\n"
          ],
          "name": "stderr"
        },
        {
          "output_type": "stream",
          "text": [
            "25/25 [==============================] - 40s 2s/step - loss: 1.3713 - acc: 0.3470 - val_loss: 1.1723 - val_acc: 0.5511\n",
            "Epoch 2/100\n",
            "25/25 [==============================] - 40s 2s/step - loss: 1.1452 - acc: 0.5031 - val_loss: 1.0057 - val_acc: 0.5860\n",
            "Epoch 3/100\n",
            "25/25 [==============================] - 39s 2s/step - loss: 1.0152 - acc: 0.5666 - val_loss: 0.8386 - val_acc: 0.6708\n",
            "Epoch 4/100\n",
            "25/25 [==============================] - 40s 2s/step - loss: 0.9727 - acc: 0.5770 - val_loss: 0.8191 - val_acc: 0.6783\n",
            "Epoch 5/100\n",
            "25/25 [==============================] - 39s 2s/step - loss: 0.8912 - acc: 0.6207 - val_loss: 0.7633 - val_acc: 0.6509\n",
            "Epoch 6/100\n",
            "25/25 [==============================] - 41s 2s/step - loss: 0.8827 - acc: 0.6200 - val_loss: 0.7912 - val_acc: 0.6733\n",
            "Epoch 7/100\n",
            "25/25 [==============================] - 37s 1s/step - loss: 0.8698 - acc: 0.6106 - val_loss: 0.6996 - val_acc: 0.6858\n",
            "Epoch 8/100\n",
            "25/25 [==============================] - 40s 2s/step - loss: 0.8003 - acc: 0.6570 - val_loss: 0.6971 - val_acc: 0.6983\n",
            "Epoch 9/100\n",
            "25/25 [==============================] - 39s 2s/step - loss: 0.8015 - acc: 0.6358 - val_loss: 0.6525 - val_acc: 0.7406\n",
            "Epoch 10/100\n",
            "25/25 [==============================] - 41s 2s/step - loss: 0.7994 - acc: 0.6500 - val_loss: 0.6821 - val_acc: 0.6808\n",
            "Epoch 11/100\n",
            "25/25 [==============================] - 40s 2s/step - loss: 0.8470 - acc: 0.6423 - val_loss: 0.6668 - val_acc: 0.7032\n",
            "Epoch 12/100\n",
            "25/25 [==============================] - 39s 2s/step - loss: 0.7961 - acc: 0.6773 - val_loss: 0.6667 - val_acc: 0.7357\n",
            "Epoch 13/100\n",
            "25/25 [==============================] - 39s 2s/step - loss: 0.7735 - acc: 0.6700 - val_loss: 0.6353 - val_acc: 0.7357\n",
            "Epoch 14/100\n",
            "25/25 [==============================] - 38s 2s/step - loss: 0.7905 - acc: 0.6458 - val_loss: 0.6273 - val_acc: 0.7282\n",
            "Epoch 15/100\n",
            "25/25 [==============================] - 38s 2s/step - loss: 0.8037 - acc: 0.6565 - val_loss: 0.6689 - val_acc: 0.7157\n",
            "Epoch 16/100\n",
            "25/25 [==============================] - 40s 2s/step - loss: 0.7730 - acc: 0.6625 - val_loss: 0.6434 - val_acc: 0.7232\n",
            "Epoch 17/100\n",
            "25/25 [==============================] - 39s 2s/step - loss: 0.7258 - acc: 0.7096 - val_loss: 0.6513 - val_acc: 0.7332\n",
            "Epoch 18/100\n",
            "25/25 [==============================] - 40s 2s/step - loss: 0.7169 - acc: 0.6924 - val_loss: 0.6101 - val_acc: 0.6933\n",
            "Epoch 19/100\n",
            "25/25 [==============================] - 40s 2s/step - loss: 0.7649 - acc: 0.6671 - val_loss: 0.6182 - val_acc: 0.7307\n",
            "Epoch 20/100\n",
            "25/25 [==============================] - 38s 2s/step - loss: 0.7174 - acc: 0.6827 - val_loss: 0.5998 - val_acc: 0.7182\n",
            "Epoch 21/100\n",
            "25/25 [==============================] - 41s 2s/step - loss: 0.7214 - acc: 0.6806 - val_loss: 0.6163 - val_acc: 0.7481\n",
            "Epoch 22/100\n",
            "25/25 [==============================] - 40s 2s/step - loss: 0.6862 - acc: 0.7143 - val_loss: 0.6480 - val_acc: 0.7182\n",
            "Epoch 23/100\n",
            "25/25 [==============================] - 40s 2s/step - loss: 0.7052 - acc: 0.7052 - val_loss: 0.6361 - val_acc: 0.7107\n",
            "Epoch 24/100\n",
            "25/25 [==============================] - 40s 2s/step - loss: 0.6862 - acc: 0.7221 - val_loss: 0.7606 - val_acc: 0.6658\n",
            "Epoch 25/100\n",
            "25/25 [==============================] - 40s 2s/step - loss: 0.7164 - acc: 0.6900 - val_loss: 0.6490 - val_acc: 0.7307\n",
            "Epoch 26/100\n",
            "25/25 [==============================] - 39s 2s/step - loss: 0.7019 - acc: 0.7049 - val_loss: 0.6142 - val_acc: 0.7431\n",
            "Epoch 27/100\n",
            "25/25 [==============================] - 39s 2s/step - loss: 0.6862 - acc: 0.7225 - val_loss: 0.6664 - val_acc: 0.7007\n",
            "Epoch 28/100\n",
            "25/25 [==============================] - 38s 2s/step - loss: 0.6833 - acc: 0.7396 - val_loss: 0.6914 - val_acc: 0.6883\n",
            "Epoch 29/100\n",
            "25/25 [==============================] - 38s 2s/step - loss: 0.6874 - acc: 0.7218 - val_loss: 0.5848 - val_acc: 0.7531\n",
            "Epoch 30/100\n",
            "25/25 [==============================] - 39s 2s/step - loss: 0.6472 - acc: 0.7444 - val_loss: 0.6189 - val_acc: 0.7282\n",
            "Epoch 31/100\n",
            "25/25 [==============================] - 37s 1s/step - loss: 0.6432 - acc: 0.7258 - val_loss: 0.5797 - val_acc: 0.7506\n",
            "Epoch 32/100\n",
            "25/25 [==============================] - 38s 2s/step - loss: 0.6855 - acc: 0.7128 - val_loss: 0.5900 - val_acc: 0.7531\n",
            "Epoch 33/100\n",
            "25/25 [==============================] - 37s 1s/step - loss: 0.6832 - acc: 0.7185 - val_loss: 0.5915 - val_acc: 0.7332\n",
            "Epoch 34/100\n",
            "25/25 [==============================] - 38s 2s/step - loss: 0.6754 - acc: 0.7260 - val_loss: 0.6087 - val_acc: 0.7506\n",
            "Epoch 35/100\n",
            "25/25 [==============================] - 38s 2s/step - loss: 0.6175 - acc: 0.7490 - val_loss: 0.5835 - val_acc: 0.7531\n",
            "Epoch 36/100\n",
            "25/25 [==============================] - 40s 2s/step - loss: 0.6504 - acc: 0.7450 - val_loss: 0.5656 - val_acc: 0.7606\n",
            "Epoch 37/100\n",
            "25/25 [==============================] - 37s 1s/step - loss: 0.6179 - acc: 0.7578 - val_loss: 0.6023 - val_acc: 0.7581\n",
            "Epoch 38/100\n",
            "25/25 [==============================] - 37s 1s/step - loss: 0.6095 - acc: 0.7391 - val_loss: 0.5480 - val_acc: 0.7830\n",
            "Epoch 39/100\n",
            "25/25 [==============================] - 40s 2s/step - loss: 0.6297 - acc: 0.7437 - val_loss: 0.5450 - val_acc: 0.7481\n",
            "Epoch 40/100\n",
            "25/25 [==============================] - 38s 2s/step - loss: 0.5649 - acc: 0.7866 - val_loss: 0.5842 - val_acc: 0.7406\n",
            "Epoch 41/100\n",
            "25/25 [==============================] - 35s 1s/step - loss: 0.6248 - acc: 0.7385 - val_loss: 0.6113 - val_acc: 0.7357\n",
            "Epoch 42/100\n",
            "25/25 [==============================] - 41s 2s/step - loss: 0.6001 - acc: 0.7625 - val_loss: 0.5558 - val_acc: 0.7506\n",
            "Epoch 43/100\n",
            "25/25 [==============================] - 37s 1s/step - loss: 0.5849 - acc: 0.7728 - val_loss: 0.6020 - val_acc: 0.7406\n",
            "Epoch 44/100\n",
            "25/25 [==============================] - 38s 2s/step - loss: 0.5583 - acc: 0.7797 - val_loss: 0.5526 - val_acc: 0.7656\n",
            "Epoch 45/100\n",
            "25/25 [==============================] - 36s 1s/step - loss: 0.5758 - acc: 0.7981 - val_loss: 0.5597 - val_acc: 0.7481\n",
            "Epoch 46/100\n",
            "25/25 [==============================] - 39s 2s/step - loss: 0.5943 - acc: 0.7625 - val_loss: 0.5624 - val_acc: 0.7756\n",
            "Epoch 47/100\n",
            "25/25 [==============================] - 38s 2s/step - loss: 0.5854 - acc: 0.7700 - val_loss: 0.5256 - val_acc: 0.7781\n",
            "Epoch 48/100\n",
            "25/25 [==============================] - 38s 2s/step - loss: 0.5891 - acc: 0.7550 - val_loss: 0.6291 - val_acc: 0.7382\n",
            "Epoch 49/100\n",
            "25/25 [==============================] - 37s 1s/step - loss: 0.5595 - acc: 0.7959 - val_loss: 0.5539 - val_acc: 0.7556\n",
            "Epoch 50/100\n",
            "25/25 [==============================] - 38s 2s/step - loss: 0.5837 - acc: 0.7610 - val_loss: 0.5382 - val_acc: 0.7731\n",
            "Epoch 51/100\n",
            "25/25 [==============================] - 40s 2s/step - loss: 0.5438 - acc: 0.7854 - val_loss: 0.5536 - val_acc: 0.7706\n",
            "Epoch 52/100\n",
            "25/25 [==============================] - 39s 2s/step - loss: 0.5665 - acc: 0.7800 - val_loss: 0.5990 - val_acc: 0.7357\n",
            "Epoch 53/100\n",
            "25/25 [==============================] - 39s 2s/step - loss: 0.5393 - acc: 0.7784 - val_loss: 0.5035 - val_acc: 0.7880\n",
            "Epoch 54/100\n",
            "25/25 [==============================] - 38s 2s/step - loss: 0.5638 - acc: 0.7611 - val_loss: 0.5400 - val_acc: 0.7681\n",
            "Epoch 55/100\n",
            "25/25 [==============================] - 40s 2s/step - loss: 0.5531 - acc: 0.7856 - val_loss: 0.5682 - val_acc: 0.7656\n",
            "Epoch 56/100\n",
            "25/25 [==============================] - 37s 1s/step - loss: 0.5394 - acc: 0.7738 - val_loss: 0.5657 - val_acc: 0.7706\n",
            "Epoch 57/100\n",
            "25/25 [==============================] - 37s 1s/step - loss: 0.5060 - acc: 0.8060 - val_loss: 0.6301 - val_acc: 0.7157\n",
            "Epoch 58/100\n",
            "25/25 [==============================] - 39s 2s/step - loss: 0.5351 - acc: 0.7991 - val_loss: 0.5134 - val_acc: 0.7656\n",
            "Epoch 59/100\n",
            "25/25 [==============================] - 40s 2s/step - loss: 0.5501 - acc: 0.7944 - val_loss: 0.6135 - val_acc: 0.7182\n",
            "Epoch 60/100\n",
            "25/25 [==============================] - 36s 1s/step - loss: 0.5181 - acc: 0.8113 - val_loss: 0.5568 - val_acc: 0.7581\n",
            "Epoch 61/100\n",
            "25/25 [==============================] - 38s 2s/step - loss: 0.5306 - acc: 0.7906 - val_loss: 0.6447 - val_acc: 0.7332\n",
            "Epoch 62/100\n",
            "25/25 [==============================] - 36s 1s/step - loss: 0.5311 - acc: 0.8098 - val_loss: 0.5109 - val_acc: 0.7855\n",
            "Epoch 63/100\n",
            "25/25 [==============================] - 38s 2s/step - loss: 0.5384 - acc: 0.7800 - val_loss: 0.5194 - val_acc: 0.7706\n",
            "Epoch 64/100\n",
            "25/25 [==============================] - 37s 1s/step - loss: 0.5870 - acc: 0.7752 - val_loss: 0.5436 - val_acc: 0.7531\n",
            "Epoch 65/100\n",
            "25/25 [==============================] - 38s 2s/step - loss: 0.5320 - acc: 0.7907 - val_loss: 0.5454 - val_acc: 0.7681\n",
            "Epoch 66/100\n",
            "25/25 [==============================] - 39s 2s/step - loss: 0.5261 - acc: 0.7975 - val_loss: 0.5404 - val_acc: 0.7681\n",
            "Epoch 67/100\n",
            "25/25 [==============================] - 38s 2s/step - loss: 0.5112 - acc: 0.8051 - val_loss: 0.5258 - val_acc: 0.7606\n",
            "Epoch 68/100\n",
            "25/25 [==============================] - 36s 1s/step - loss: 0.5211 - acc: 0.8176 - val_loss: 0.5067 - val_acc: 0.7905\n",
            "Epoch 69/100\n",
            "25/25 [==============================] - 38s 2s/step - loss: 0.4883 - acc: 0.8181 - val_loss: 0.5532 - val_acc: 0.7756\n",
            "Epoch 70/100\n",
            "25/25 [==============================] - 37s 1s/step - loss: 0.5218 - acc: 0.7963 - val_loss: 0.5351 - val_acc: 0.7905\n",
            "Epoch 71/100\n",
            "25/25 [==============================] - 37s 1s/step - loss: 0.4881 - acc: 0.8110 - val_loss: 0.5538 - val_acc: 0.7656\n",
            "Epoch 72/100\n",
            "25/25 [==============================] - 37s 1s/step - loss: 0.4950 - acc: 0.8070 - val_loss: 0.5691 - val_acc: 0.7606\n",
            "Epoch 73/100\n",
            "25/25 [==============================] - 38s 2s/step - loss: 0.5075 - acc: 0.8107 - val_loss: 0.5232 - val_acc: 0.7631\n",
            "Epoch 74/100\n",
            "25/25 [==============================] - 38s 2s/step - loss: 0.4735 - acc: 0.8172 - val_loss: 0.5017 - val_acc: 0.7805\n",
            "Epoch 75/100\n",
            "25/25 [==============================] - 38s 2s/step - loss: 0.5027 - acc: 0.8032 - val_loss: 0.5804 - val_acc: 0.7631\n",
            "Epoch 76/100\n",
            "25/25 [==============================] - 38s 2s/step - loss: 0.4757 - acc: 0.8070 - val_loss: 0.5511 - val_acc: 0.7656\n",
            "Epoch 77/100\n",
            "25/25 [==============================] - 38s 2s/step - loss: 0.5165 - acc: 0.8026 - val_loss: 0.5147 - val_acc: 0.8030\n",
            "Epoch 78/100\n",
            "25/25 [==============================] - 39s 2s/step - loss: 0.4795 - acc: 0.8210 - val_loss: 0.5595 - val_acc: 0.7805\n",
            "Epoch 79/100\n",
            "25/25 [==============================] - 39s 2s/step - loss: 0.4632 - acc: 0.8204 - val_loss: 0.5115 - val_acc: 0.7756\n",
            "Epoch 80/100\n",
            "25/25 [==============================] - 37s 1s/step - loss: 0.5048 - acc: 0.7996 - val_loss: 0.5055 - val_acc: 0.7756\n",
            "Epoch 81/100\n",
            "25/25 [==============================] - 38s 2s/step - loss: 0.4849 - acc: 0.8147 - val_loss: 0.5274 - val_acc: 0.8005\n",
            "Epoch 82/100\n",
            "25/25 [==============================] - 39s 2s/step - loss: 0.4984 - acc: 0.8050 - val_loss: 0.5439 - val_acc: 0.7656\n",
            "Epoch 83/100\n",
            "25/25 [==============================] - 36s 1s/step - loss: 0.4715 - acc: 0.8114 - val_loss: 0.5502 - val_acc: 0.7681\n",
            "Epoch 84/100\n",
            "25/25 [==============================] - 38s 2s/step - loss: 0.4711 - acc: 0.8216 - val_loss: 0.5393 - val_acc: 0.7631\n",
            "Epoch 85/100\n",
            "25/25 [==============================] - 38s 2s/step - loss: 0.4634 - acc: 0.8279 - val_loss: 0.4944 - val_acc: 0.7980\n",
            "Epoch 86/100\n",
            "25/25 [==============================] - 40s 2s/step - loss: 0.4868 - acc: 0.8107 - val_loss: 0.5104 - val_acc: 0.8080\n",
            "Epoch 87/100\n",
            "25/25 [==============================] - 38s 2s/step - loss: 0.4842 - acc: 0.8145 - val_loss: 0.4683 - val_acc: 0.7980\n",
            "Epoch 88/100\n",
            "25/25 [==============================] - 38s 2s/step - loss: 0.4581 - acc: 0.8295 - val_loss: 0.5639 - val_acc: 0.7706\n",
            "Epoch 89/100\n",
            "25/25 [==============================] - 37s 1s/step - loss: 0.5330 - acc: 0.8132 - val_loss: 0.5157 - val_acc: 0.7805\n",
            "Epoch 90/100\n",
            "25/25 [==============================] - 39s 2s/step - loss: 0.4729 - acc: 0.8188 - val_loss: 0.5362 - val_acc: 0.7731\n",
            "Epoch 91/100\n",
            "25/25 [==============================] - 36s 1s/step - loss: 0.4307 - acc: 0.8357 - val_loss: 0.4751 - val_acc: 0.8005\n",
            "Epoch 92/100\n",
            "25/25 [==============================] - 38s 2s/step - loss: 0.4933 - acc: 0.8041 - val_loss: 0.5344 - val_acc: 0.7980\n",
            "Epoch 93/100\n",
            "25/25 [==============================] - 39s 2s/step - loss: 0.4631 - acc: 0.8231 - val_loss: 0.4941 - val_acc: 0.8030\n",
            "Epoch 94/100\n",
            "25/25 [==============================] - 35s 1s/step - loss: 0.4701 - acc: 0.8265 - val_loss: 0.5223 - val_acc: 0.7830\n",
            "Epoch 95/100\n",
            "25/25 [==============================] - 39s 2s/step - loss: 0.4636 - acc: 0.8237 - val_loss: 0.5540 - val_acc: 0.7731\n",
            "Epoch 96/100\n",
            "25/25 [==============================] - 37s 1s/step - loss: 0.4552 - acc: 0.8279 - val_loss: 0.4984 - val_acc: 0.7955\n",
            "Epoch 97/100\n",
            "25/25 [==============================] - 37s 1s/step - loss: 0.4558 - acc: 0.8245 - val_loss: 0.5147 - val_acc: 0.7830\n",
            "Epoch 98/100\n",
            "25/25 [==============================] - 37s 1s/step - loss: 0.4398 - acc: 0.8360 - val_loss: 0.5160 - val_acc: 0.7980\n",
            "Epoch 99/100\n",
            "25/25 [==============================] - 38s 2s/step - loss: 0.4882 - acc: 0.8272 - val_loss: 0.5457 - val_acc: 0.7880\n",
            "Epoch 100/100\n",
            "25/25 [==============================] - 39s 2s/step - loss: 0.4475 - acc: 0.8264 - val_loss: 0.5312 - val_acc: 0.7756\n"
          ],
          "name": "stdout"
        }
      ]
    },
    {
      "cell_type": "markdown",
      "metadata": {
        "id": "pwMJJzZ3Ns6v",
        "colab_type": "text"
      },
      "source": [
        "#### Train of pre-trained model"
      ]
    },
    {
      "cell_type": "code",
      "metadata": {
        "id": "7ZQXSAsPN591",
        "colab_type": "code",
        "outputId": "2f9f38cc-ecb8-4462-9fc2-0f5237a3d87e",
        "colab": {
          "base_uri": "https://localhost:8080/",
          "height": 1000
        }
      },
      "source": [
        "from keras import callbacks\n",
        "\n",
        "stopping = callbacks.EarlyStopping(monitor='val_acc', patience=20)\n",
        "\n",
        "steps_per_epoch = train_generator.n//train_generator.batch_size\n",
        "val_steps = validation_generator.n//validation_generator.batch_size+1\n",
        "\n",
        "try:\n",
        "    history_transfer = model_final.fit_generator(train_generator, epochs=100, verbose=1, callbacks=[stopping],\\\n",
        "                    steps_per_epoch=steps_per_epoch,\\\n",
        "                    validation_data=validation_generator,\\\n",
        "                    validation_steps=val_steps)\n",
        "except KeyboardInterrupt:\n",
        "    pass"
      ],
      "execution_count": 0,
      "outputs": [
        {
          "output_type": "stream",
          "text": [
            "Epoch 1/100\n",
            " 1/25 [>.............................] - ETA: 6:52 - loss: 1.6783 - acc: 0.2500"
          ],
          "name": "stdout"
        },
        {
          "output_type": "stream",
          "text": [
            "/usr/local/lib/python3.6/dist-packages/PIL/TiffImagePlugin.py:742: UserWarning: Corrupt EXIF data.  Expecting to read 4 bytes but only got 0. \n",
            "  warnings.warn(str(msg))\n"
          ],
          "name": "stderr"
        },
        {
          "output_type": "stream",
          "text": [
            " 7/25 [=======>......................] - ETA: 53s - loss: 1.7299 - acc: 0.2857 "
          ],
          "name": "stdout"
        },
        {
          "output_type": "stream",
          "text": [
            "/usr/local/lib/python3.6/dist-packages/PIL/TiffImagePlugin.py:725: UserWarning: Possibly corrupt EXIF data.  Expecting to read 8 bytes but only got 4. Skipping tag 41486\n",
            "  \" Skipping tag %s\" % (size, len(data), tag))\n",
            "/usr/local/lib/python3.6/dist-packages/PIL/TiffImagePlugin.py:725: UserWarning: Possibly corrupt EXIF data.  Expecting to read 8 bytes but only got 0. Skipping tag 41487\n",
            "  \" Skipping tag %s\" % (size, len(data), tag))\n"
          ],
          "name": "stderr"
        },
        {
          "output_type": "stream",
          "text": [
            "20/25 [=======================>......] - ETA: 9s - loss: 1.6538 - acc: 0.3391 "
          ],
          "name": "stdout"
        },
        {
          "output_type": "stream",
          "text": [
            "/usr/local/lib/python3.6/dist-packages/PIL/TiffImagePlugin.py:725: UserWarning: Possibly corrupt EXIF data.  Expecting to read 8 bytes but only got 2. Skipping tag 41486\n",
            "  \" Skipping tag %s\" % (size, len(data), tag))\n"
          ],
          "name": "stderr"
        },
        {
          "output_type": "stream",
          "text": [
            "22/25 [=========================>....] - ETA: 5s - loss: 1.6424 - acc: 0.3452"
          ],
          "name": "stdout"
        },
        {
          "output_type": "stream",
          "text": [
            "/usr/local/lib/python3.6/dist-packages/PIL/TiffImagePlugin.py:725: UserWarning: Possibly corrupt EXIF data.  Expecting to read 4718592 bytes but only got 0. Skipping tag 0\n",
            "  \" Skipping tag %s\" % (size, len(data), tag))\n",
            "/usr/local/lib/python3.6/dist-packages/PIL/TiffImagePlugin.py:725: UserWarning: Possibly corrupt EXIF data.  Expecting to read 131072 bytes but only got 0. Skipping tag 0\n",
            "  \" Skipping tag %s\" % (size, len(data), tag))\n",
            "/usr/local/lib/python3.6/dist-packages/PIL/TiffImagePlugin.py:725: UserWarning: Possibly corrupt EXIF data.  Expecting to read 1048576 bytes but only got 0. Skipping tag 0\n",
            "  \" Skipping tag %s\" % (size, len(data), tag))\n"
          ],
          "name": "stderr"
        },
        {
          "output_type": "stream",
          "text": [
            "25/25 [==============================] - 53s 2s/step - loss: 1.6366 - acc: 0.3484 - val_loss: 1.5442 - val_acc: 0.4065\n",
            "Epoch 2/100\n",
            "25/25 [==============================] - 43s 2s/step - loss: 1.3959 - acc: 0.4374 - val_loss: 1.2131 - val_acc: 0.5387\n",
            "Epoch 3/100\n",
            "25/25 [==============================] - 42s 2s/step - loss: 1.2309 - acc: 0.5048 - val_loss: 1.0908 - val_acc: 0.5711\n",
            "Epoch 4/100\n",
            "25/25 [==============================] - 43s 2s/step - loss: 1.1530 - acc: 0.5328 - val_loss: 0.9401 - val_acc: 0.6309\n",
            "Epoch 5/100\n",
            "25/25 [==============================] - 43s 2s/step - loss: 1.0425 - acc: 0.5832 - val_loss: 0.9561 - val_acc: 0.6259\n",
            "Epoch 6/100\n",
            "25/25 [==============================] - 42s 2s/step - loss: 0.9252 - acc: 0.6407 - val_loss: 0.9061 - val_acc: 0.6409\n",
            "Epoch 7/100\n",
            "25/25 [==============================] - 44s 2s/step - loss: 0.9501 - acc: 0.6231 - val_loss: 0.8870 - val_acc: 0.6633\n",
            "Epoch 8/100\n",
            "25/25 [==============================] - 42s 2s/step - loss: 0.9909 - acc: 0.6183 - val_loss: 0.8720 - val_acc: 0.6758\n",
            "Epoch 9/100\n",
            "25/25 [==============================] - 43s 2s/step - loss: 0.8464 - acc: 0.6592 - val_loss: 0.8358 - val_acc: 0.7032\n",
            "Epoch 10/100\n",
            "25/25 [==============================] - 44s 2s/step - loss: 0.8639 - acc: 0.6694 - val_loss: 0.8096 - val_acc: 0.6883\n",
            "Epoch 11/100\n",
            "25/25 [==============================] - 44s 2s/step - loss: 0.8175 - acc: 0.6799 - val_loss: 0.7973 - val_acc: 0.7032\n",
            "Epoch 12/100\n",
            "25/25 [==============================] - 43s 2s/step - loss: 0.8125 - acc: 0.6725 - val_loss: 0.7705 - val_acc: 0.7132\n",
            "Epoch 13/100\n",
            "25/25 [==============================] - 41s 2s/step - loss: 0.7697 - acc: 0.6896 - val_loss: 0.7798 - val_acc: 0.7207\n",
            "Epoch 14/100\n",
            "25/25 [==============================] - 43s 2s/step - loss: 0.7218 - acc: 0.7200 - val_loss: 0.7617 - val_acc: 0.7207\n",
            "Epoch 15/100\n",
            "25/25 [==============================] - 43s 2s/step - loss: 0.7338 - acc: 0.7028 - val_loss: 0.7435 - val_acc: 0.7282\n",
            "Epoch 16/100\n",
            "25/25 [==============================] - 42s 2s/step - loss: 0.8032 - acc: 0.6849 - val_loss: 0.7098 - val_acc: 0.7382\n",
            "Epoch 17/100\n",
            "25/25 [==============================] - 43s 2s/step - loss: 0.7399 - acc: 0.7168 - val_loss: 0.6990 - val_acc: 0.7506\n",
            "Epoch 18/100\n",
            "25/25 [==============================] - 43s 2s/step - loss: 0.6995 - acc: 0.7295 - val_loss: 0.7950 - val_acc: 0.7082\n",
            "Epoch 19/100\n",
            "25/25 [==============================] - 45s 2s/step - loss: 0.6830 - acc: 0.7331 - val_loss: 0.7487 - val_acc: 0.7232\n",
            "Epoch 20/100\n",
            "25/25 [==============================] - 43s 2s/step - loss: 0.6789 - acc: 0.7347 - val_loss: 0.7008 - val_acc: 0.7406\n",
            "Epoch 21/100\n",
            "25/25 [==============================] - 42s 2s/step - loss: 0.7273 - acc: 0.7234 - val_loss: 0.6953 - val_acc: 0.7332\n",
            "Epoch 22/100\n",
            "25/25 [==============================] - 44s 2s/step - loss: 0.6442 - acc: 0.7569 - val_loss: 0.6632 - val_acc: 0.7456\n",
            "Epoch 23/100\n",
            "25/25 [==============================] - 43s 2s/step - loss: 0.6326 - acc: 0.7665 - val_loss: 0.7384 - val_acc: 0.7307\n",
            "Epoch 24/100\n",
            "25/25 [==============================] - 43s 2s/step - loss: 0.6612 - acc: 0.7485 - val_loss: 0.6755 - val_acc: 0.7606\n",
            "Epoch 25/100\n",
            "25/25 [==============================] - 43s 2s/step - loss: 0.5978 - acc: 0.7876 - val_loss: 0.7116 - val_acc: 0.7207\n",
            "Epoch 26/100\n",
            "25/25 [==============================] - 43s 2s/step - loss: 0.7147 - acc: 0.7523 - val_loss: 0.7215 - val_acc: 0.7357\n",
            "Epoch 27/100\n",
            "25/25 [==============================] - 43s 2s/step - loss: 0.6285 - acc: 0.7650 - val_loss: 0.6639 - val_acc: 0.7307\n",
            "Epoch 28/100\n",
            "25/25 [==============================] - 44s 2s/step - loss: 0.5925 - acc: 0.7809 - val_loss: 0.6834 - val_acc: 0.7656\n",
            "Epoch 29/100\n",
            "25/25 [==============================] - 43s 2s/step - loss: 0.5896 - acc: 0.7797 - val_loss: 0.6761 - val_acc: 0.7332\n",
            "Epoch 30/100\n",
            "25/25 [==============================] - 43s 2s/step - loss: 0.6212 - acc: 0.7606 - val_loss: 0.6899 - val_acc: 0.7307\n",
            "Epoch 31/100\n",
            "25/25 [==============================] - 42s 2s/step - loss: 0.6269 - acc: 0.7535 - val_loss: 0.7468 - val_acc: 0.7157\n",
            "Epoch 32/100\n",
            "25/25 [==============================] - 43s 2s/step - loss: 0.6229 - acc: 0.7669 - val_loss: 0.6201 - val_acc: 0.7830\n",
            "Epoch 33/100\n",
            "25/25 [==============================] - 43s 2s/step - loss: 0.5996 - acc: 0.7654 - val_loss: 0.7134 - val_acc: 0.7531\n",
            "Epoch 34/100\n",
            "25/25 [==============================] - 42s 2s/step - loss: 0.6275 - acc: 0.7764 - val_loss: 0.6877 - val_acc: 0.7531\n",
            "Epoch 35/100\n",
            "25/25 [==============================] - 44s 2s/step - loss: 0.5774 - acc: 0.7744 - val_loss: 0.6268 - val_acc: 0.7781\n",
            "Epoch 36/100\n",
            "25/25 [==============================] - 42s 2s/step - loss: 0.5227 - acc: 0.8153 - val_loss: 0.6031 - val_acc: 0.7681\n",
            "Epoch 37/100\n",
            "25/25 [==============================] - 42s 2s/step - loss: 0.5323 - acc: 0.8007 - val_loss: 0.6382 - val_acc: 0.7506\n",
            "Epoch 38/100\n",
            "25/25 [==============================] - 42s 2s/step - loss: 0.5570 - acc: 0.8026 - val_loss: 0.6104 - val_acc: 0.7606\n",
            "Epoch 39/100\n",
            "25/25 [==============================] - 41s 2s/step - loss: 0.5618 - acc: 0.7780 - val_loss: 0.6188 - val_acc: 0.7706\n",
            "Epoch 40/100\n",
            "25/25 [==============================] - 44s 2s/step - loss: 0.5503 - acc: 0.8031 - val_loss: 0.6333 - val_acc: 0.7756\n",
            "Epoch 41/100\n",
            "25/25 [==============================] - 40s 2s/step - loss: 0.6038 - acc: 0.7842 - val_loss: 0.6993 - val_acc: 0.7431\n",
            "Epoch 42/100\n",
            "25/25 [==============================] - 42s 2s/step - loss: 0.6048 - acc: 0.7745 - val_loss: 0.6311 - val_acc: 0.7656\n",
            "Epoch 43/100\n",
            "25/25 [==============================] - 43s 2s/step - loss: 0.5273 - acc: 0.8041 - val_loss: 0.5976 - val_acc: 0.7631\n",
            "Epoch 44/100\n",
            "25/25 [==============================] - 44s 2s/step - loss: 0.5242 - acc: 0.7900 - val_loss: 0.6003 - val_acc: 0.7781\n",
            "Epoch 45/100\n",
            "25/25 [==============================] - 42s 2s/step - loss: 0.5050 - acc: 0.8066 - val_loss: 0.6022 - val_acc: 0.7980\n",
            "Epoch 46/100\n",
            "25/25 [==============================] - 42s 2s/step - loss: 0.5560 - acc: 0.8023 - val_loss: 0.6110 - val_acc: 0.7880\n",
            "Epoch 47/100\n",
            "25/25 [==============================] - 42s 2s/step - loss: 0.5413 - acc: 0.8082 - val_loss: 0.6403 - val_acc: 0.7706\n",
            "Epoch 48/100\n",
            "25/25 [==============================] - 43s 2s/step - loss: 0.5868 - acc: 0.7933 - val_loss: 0.6111 - val_acc: 0.7631\n",
            "Epoch 49/100\n",
            "25/25 [==============================] - 42s 2s/step - loss: 0.5515 - acc: 0.7886 - val_loss: 0.6133 - val_acc: 0.7481\n",
            "Epoch 50/100\n",
            "25/25 [==============================] - 43s 2s/step - loss: 0.4805 - acc: 0.8304 - val_loss: 0.6323 - val_acc: 0.7731\n",
            "Epoch 51/100\n",
            "25/25 [==============================] - 42s 2s/step - loss: 0.4653 - acc: 0.8322 - val_loss: 0.5830 - val_acc: 0.7830\n",
            "Epoch 52/100\n",
            "25/25 [==============================] - 42s 2s/step - loss: 0.4806 - acc: 0.8201 - val_loss: 0.5812 - val_acc: 0.8030\n",
            "Epoch 53/100\n",
            "25/25 [==============================] - 43s 2s/step - loss: 0.5678 - acc: 0.7954 - val_loss: 0.5482 - val_acc: 0.7930\n",
            "Epoch 54/100\n",
            "25/25 [==============================] - 43s 2s/step - loss: 0.4911 - acc: 0.8251 - val_loss: 0.5617 - val_acc: 0.7756\n",
            "Epoch 55/100\n",
            "25/25 [==============================] - 43s 2s/step - loss: 0.5789 - acc: 0.7921 - val_loss: 0.6305 - val_acc: 0.7531\n",
            "Epoch 56/100\n",
            "25/25 [==============================] - 42s 2s/step - loss: 0.4794 - acc: 0.8145 - val_loss: 0.6419 - val_acc: 0.7731\n",
            "Epoch 57/100\n",
            "25/25 [==============================] - 43s 2s/step - loss: 0.5184 - acc: 0.8205 - val_loss: 0.5604 - val_acc: 0.7980\n",
            "Epoch 58/100\n",
            "25/25 [==============================] - 45s 2s/step - loss: 0.4583 - acc: 0.8325 - val_loss: 0.6227 - val_acc: 0.7556\n",
            "Epoch 59/100\n",
            "25/25 [==============================] - 41s 2s/step - loss: 0.4528 - acc: 0.8328 - val_loss: 0.5748 - val_acc: 0.7980\n",
            "Epoch 60/100\n",
            "25/25 [==============================] - 45s 2s/step - loss: 0.4890 - acc: 0.8137 - val_loss: 0.5813 - val_acc: 0.7706\n",
            "Epoch 61/100\n",
            "25/25 [==============================] - 41s 2s/step - loss: 0.5008 - acc: 0.8190 - val_loss: 0.5755 - val_acc: 0.8005\n",
            "Epoch 62/100\n",
            "25/25 [==============================] - 43s 2s/step - loss: 0.5040 - acc: 0.8151 - val_loss: 0.6037 - val_acc: 0.7805\n",
            "Epoch 63/100\n",
            "25/25 [==============================] - 44s 2s/step - loss: 0.4935 - acc: 0.8194 - val_loss: 0.6116 - val_acc: 0.7930\n",
            "Epoch 64/100\n",
            "25/25 [==============================] - 42s 2s/step - loss: 0.5066 - acc: 0.8217 - val_loss: 0.5874 - val_acc: 0.7606\n",
            "Epoch 65/100\n",
            "25/25 [==============================] - 41s 2s/step - loss: 0.4898 - acc: 0.8136 - val_loss: 0.6034 - val_acc: 0.7805\n",
            "Epoch 66/100\n",
            "25/25 [==============================] - 42s 2s/step - loss: 0.4418 - acc: 0.8354 - val_loss: 0.5597 - val_acc: 0.7955\n",
            "Epoch 67/100\n",
            "25/25 [==============================] - 41s 2s/step - loss: 0.4431 - acc: 0.8395 - val_loss: 0.5316 - val_acc: 0.7955\n",
            "Epoch 68/100\n",
            "25/25 [==============================] - 40s 2s/step - loss: 0.4919 - acc: 0.8311 - val_loss: 0.5590 - val_acc: 0.7930\n",
            "Epoch 69/100\n",
            "25/25 [==============================] - 40s 2s/step - loss: 0.4902 - acc: 0.7979 - val_loss: 0.6380 - val_acc: 0.7706\n",
            "Epoch 70/100\n",
            "25/25 [==============================] - 43s 2s/step - loss: 0.4364 - acc: 0.8400 - val_loss: 0.5896 - val_acc: 0.8030\n",
            "Epoch 71/100\n",
            "25/25 [==============================] - 41s 2s/step - loss: 0.4409 - acc: 0.8448 - val_loss: 0.6061 - val_acc: 0.7955\n",
            "Epoch 72/100\n",
            "25/25 [==============================] - 41s 2s/step - loss: 0.4294 - acc: 0.8510 - val_loss: 0.5835 - val_acc: 0.7905\n"
          ],
          "name": "stdout"
        }
      ]
    },
    {
      "cell_type": "markdown",
      "metadata": {
        "id": "YPtbelKYHy4K",
        "colab_type": "text"
      },
      "source": [
        "##Evaluate the model"
      ]
    },
    {
      "cell_type": "markdown",
      "metadata": {
        "id": "IjcBSWbliSNg",
        "colab_type": "text"
      },
      "source": [
        "### Accuracy on test set"
      ]
    },
    {
      "cell_type": "markdown",
      "metadata": {
        "id": "gbUwaoalc2ic",
        "colab_type": "text"
      },
      "source": [
        "##### SvevaNet"
      ]
    },
    {
      "cell_type": "code",
      "metadata": {
        "id": "HhBI1_ZOiajn",
        "colab_type": "code",
        "colab": {}
      },
      "source": [
        "val_steps=validation_generator.n//validation_generator.batch_size+1\n",
        "loss, acc = model.evaluate_generator(validation_generator,steps=val_steps)\n",
        "print('Test loss: %f' %loss)\n",
        "print('Test accuracy: %f' %acc)\n",
        "\n"
      ],
      "execution_count": 0,
      "outputs": []
    },
    {
      "cell_type": "markdown",
      "metadata": {
        "id": "WLhEaqAqc73R",
        "colab_type": "text"
      },
      "source": [
        "##### Pre-Trained Model"
      ]
    },
    {
      "cell_type": "code",
      "metadata": {
        "id": "ku0pkatKc8Zi",
        "colab_type": "code",
        "outputId": "1eb9ee95-7cd2-4dc1-845e-800e541985a0",
        "colab": {
          "base_uri": "https://localhost:8080/",
          "height": 112
        }
      },
      "source": [
        "val_steps=validation_generator.n//validation_generator.batch_size+1\n",
        "loss, acc = model_final.evaluate_generator(validation_generator,steps=val_steps)\n",
        "print('Test loss: %f' %loss)\n",
        "print('Test accuracy: %f' %acc)"
      ],
      "execution_count": 0,
      "outputs": [
        {
          "output_type": "stream",
          "text": [
            "/usr/local/lib/python3.6/dist-packages/PIL/TiffImagePlugin.py:742: UserWarning: Corrupt EXIF data.  Expecting to read 4 bytes but only got 0. \n",
            "  warnings.warn(str(msg))\n"
          ],
          "name": "stderr"
        },
        {
          "output_type": "stream",
          "text": [
            "Test loss: 0.609994\n",
            "Test accuracy: 0.760599\n"
          ],
          "name": "stdout"
        }
      ]
    },
    {
      "cell_type": "markdown",
      "metadata": {
        "id": "85shO3Ntiqov",
        "colab_type": "text"
      },
      "source": [
        "#### Precision, recall, F-score"
      ]
    },
    {
      "cell_type": "markdown",
      "metadata": {
        "id": "_Bq240TUdNT6",
        "colab_type": "text"
      },
      "source": [
        "##### SvevaNet"
      ]
    },
    {
      "cell_type": "code",
      "metadata": {
        "id": "aLfiWAMGHxkH",
        "colab_type": "code",
        "outputId": "221747ee-7624-4454-cde0-dcfb6123b232",
        "colab": {
          "base_uri": "https://localhost:8080/",
          "height": 280
        }
      },
      "source": [
        "import sklearn.metrics \n",
        "from sklearn.metrics import classification_report, confusion_matrix\n",
        " \n",
        "preds = model.predict_generator(validation_generator,steps=val_steps)\n",
        "\n",
        "Ypred = np.argmax(preds, axis=1)\n",
        "Ytest = validation_generator.classes  # shuffle=False in test_generator\n",
        "\n",
        "print(classification_report(Ytest, Ypred, labels=None, target_names=classnames, digits=3))\n",
        "\n",
        "\n",
        "  "
      ],
      "execution_count": 0,
      "outputs": [
        {
          "output_type": "stream",
          "text": [
            "/usr/local/lib/python3.6/dist-packages/PIL/TiffImagePlugin.py:742: UserWarning: Corrupt EXIF data.  Expecting to read 4 bytes but only got 0. \n",
            "  warnings.warn(str(msg))\n"
          ],
          "name": "stderr"
        },
        {
          "output_type": "stream",
          "text": [
            "              precision    recall  f1-score   support\n",
            "\n",
            "        HAZE      0.830     0.822     0.826       101\n",
            "       RAINY      0.669     0.790     0.725       100\n",
            "       SNOWY      0.705     0.550     0.618       100\n",
            "       SUNNY      0.914     0.960     0.937       100\n",
            "\n",
            "    accuracy                          0.781       401\n",
            "   macro avg      0.780     0.780     0.776       401\n",
            "weighted avg      0.780     0.781     0.776       401\n",
            "\n"
          ],
          "name": "stdout"
        }
      ]
    },
    {
      "cell_type": "markdown",
      "metadata": {
        "id": "BUD9hZZudTrJ",
        "colab_type": "text"
      },
      "source": [
        "##### Pre-Trained Model"
      ]
    },
    {
      "cell_type": "code",
      "metadata": {
        "id": "5L1NBxAudXBa",
        "colab_type": "code",
        "outputId": "4fe8359d-29f6-47ff-b025-51a737d7847c",
        "colab": {
          "base_uri": "https://localhost:8080/",
          "height": 280
        }
      },
      "source": [
        "import sklearn.metrics \n",
        "from sklearn.metrics import classification_report, confusion_matrix\n",
        " \n",
        "preds = model_final.predict_generator(validation_generator,steps=val_steps)\n",
        "\n",
        "Ypred = np.argmax(preds, axis=1)\n",
        "Ytest = validation_generator.classes  # shuffle=False in test_generator\n",
        "\n",
        "print(classification_report(Ytest, Ypred, labels=None, target_names=classnames, digits=3))"
      ],
      "execution_count": 0,
      "outputs": [
        {
          "output_type": "stream",
          "text": [
            "/usr/local/lib/python3.6/dist-packages/PIL/TiffImagePlugin.py:742: UserWarning: Corrupt EXIF data.  Expecting to read 4 bytes but only got 0. \n",
            "  warnings.warn(str(msg))\n"
          ],
          "name": "stderr"
        },
        {
          "output_type": "stream",
          "text": [
            "              precision    recall  f1-score   support\n",
            "\n",
            "        HAZE      0.780     0.842     0.810       101\n",
            "       RAINY      0.800     0.720     0.758       100\n",
            "       SNOWY      0.726     0.610     0.663       100\n",
            "       SUNNY      0.805     0.950     0.872       100\n",
            "\n",
            "    accuracy                          0.781       401\n",
            "   macro avg      0.778     0.780     0.776       401\n",
            "weighted avg      0.778     0.781     0.776       401\n",
            "\n"
          ],
          "name": "stdout"
        }
      ]
    },
    {
      "cell_type": "markdown",
      "metadata": {
        "id": "R1pDmZkxizx8",
        "colab_type": "text"
      },
      "source": [
        "Confusion matrix analysis"
      ]
    },
    {
      "cell_type": "code",
      "metadata": {
        "id": "BO7lVQiki3bh",
        "colab_type": "code",
        "colab": {}
      },
      "source": [
        "import sklearn.metrics \n",
        "from sklearn.metrics import classification_report, confusion_matrix\n",
        "\n",
        "preds = model.predict_generator(validation_generator,verbose=1,steps=val_steps)\n",
        "\n",
        "Ypred = np.argmax(preds, axis=1)\n",
        "Ytest = validation_generator.classes  # shuffle=False in test_generator\n",
        "\n",
        "cm = confusion_matrix(Ytest, Ypred)\n",
        "\n",
        "conf = [] # data structure for confusions: list of (i,j,cm[i][j])\n",
        "for i in range(0,cm.shape[0]):\n",
        "  for j in range(0,cm.shape[1]):\n",
        "    if (i!=j and cm[i][j]>0):\n",
        "      conf.append([i,j,cm[i][j]])\n",
        "\n",
        "col=2\n",
        "conf = np.array(conf)\n",
        "conf = conf[np.argsort(-conf[:,col])]  # decreasing order by 3-rd column (i.e., cm[i][j])\n",
        "\n",
        "print('%-16s     %-16s  \\t%s \\t%s ' %('True','Predicted','errors','err %'))\n",
        "print('------------------------------------------------------------------')\n",
        "for k in conf:\n",
        "  print('%-16s ->  %-16s  \\t%d \\t%.2f %% ' %(classnames[k[0]],classnames[k[1]],k[2],k[2]*100.0/validation_generator.n))\n",
        "  "
      ],
      "execution_count": 0,
      "outputs": []
    },
    {
      "cell_type": "markdown",
      "metadata": {
        "id": "PuLGrzKowgNO",
        "colab_type": "text"
      },
      "source": [
        "### Plot results"
      ]
    },
    {
      "cell_type": "code",
      "metadata": {
        "id": "Hq0h076yxIB3",
        "colab_type": "code",
        "outputId": "ac4666e9-d597-49f1-c574-20d4272e8c51",
        "colab": {
          "base_uri": "https://localhost:8080/",
          "height": 573
        }
      },
      "source": [
        "import matplotlib.pyplot as plt\n",
        "\n",
        "def plot_history(history,name):\n",
        "\n",
        "    # summarize history for accuracy\n",
        "    plt.plot(history.history['acc'])\n",
        "    plt.plot(history.history['val_acc'])\n",
        "    plt.title(name + ' accuracy')\n",
        "    plt.ylabel('accuracy')\n",
        "    plt.xlabel('epoch')\n",
        "    plt.legend(['train', 'test'], loc='upper left')\n",
        "    plt.show()\n",
        "    # summarize history for loss\n",
        "    plt.plot(history.history['loss'])\n",
        "    plt.plot(history.history['val_loss'])\n",
        "    plt.title(name + ' loss')\n",
        "    plt.ylabel('loss')\n",
        "    plt.xlabel('epoch')\n",
        "    plt.legend(['train', 'test'], loc='upper left')\n",
        "    plt.show()\n",
        "        \n",
        "#name=\"SvevaNet\"\n",
        "#plot_history(history, name)\n",
        "name=\"transferLearning\"\n",
        "plot_history(history_transfer, name)"
      ],
      "execution_count": 0,
      "outputs": [
        {
          "output_type": "display_data",
          "data": {
            "image/png": "[encoded data removed]",
            "text/plain": [
              "<Figure size 432x288 with 1 Axes>"
            ]
          },
          "metadata": {
            "tags": []
          }
        },
        {
          "output_type": "display_data",
          "data": {
            "image/png": "[encoded data removed]",
            "text/plain": [
              "<Figure size 432x288 with 1 Axes>"
            ]
          },
          "metadata": {
            "tags": []
          }
        }
      ]
    },
    {
      "cell_type": "markdown",
      "metadata": {
        "id": "rSrhIv98IZY_",
        "colab_type": "text"
      },
      "source": [
        "##Blind Test"
      ]
    },
    {
      "cell_type": "code",
      "metadata": {
        "id": "MSBs_WVRI0nY",
        "colab_type": "code",
        "outputId": "29a198de-8103-47ef-bf72-cf78658fe97d",
        "colab": {
          "base_uri": "https://localhost:8080/",
          "height": 35
        }
      },
      "source": [
        "blindtest= '/content/drive/My Drive/Blind/WeatherBlindTestSet'\n",
        "\n",
        "blind_generator = train_datagen.flow_from_directory(\n",
        "    directory=blindtest, # same directory as training data\n",
        "    target_size=(118, 224),\n",
        "    batch_size=batch_size,\n",
        "    shuffle=False,\n",
        "    class_mode=None) # set as validation data"
      ],
      "execution_count": 4,
      "outputs": [
        {
          "output_type": "stream",
          "text": [
            "Found 1500 images belonging to 1 classes.\n"
          ],
          "name": "stdout"
        }
      ]
    },
    {
      "cell_type": "code",
      "metadata": {
        "id": "bNDPYgM0I0Q1",
        "colab_type": "code",
        "outputId": "f3c81135-d4a3-4456-bde2-76f2bf212e9e",
        "colab": {
          "base_uri": "https://localhost:8080/",
          "height": 35
        }
      },
      "source": [
        "import sklearn.metrics \n",
        "from sklearn.metrics import classification_report, confusion_matrix\n",
        "preds = model.predict_generator(blind_generator)\n",
        "\n",
        "Ypred = np.argmax(preds, axis=1)\n",
        "print(Ypred)"
      ],
      "execution_count": 9,
      "outputs": [
        {
          "output_type": "stream",
          "text": [
            "[3 3 3 ... 3 3 0]\n"
          ],
          "name": "stdout"
        }
      ]
    },
    {
      "cell_type": "code",
      "metadata": {
        "id": "Z-l1GrBXtZjQ",
        "colab_type": "code",
        "outputId": "17f0715f-0498-43b7-d1b2-92a5820b3028",
        "colab": {
          "base_uri": "https://localhost:8080/",
          "height": 36
        }
      },
      "source": [
        "preds.argmax(-1)"
      ],
      "execution_count": 0,
      "outputs": [
        {
          "output_type": "execute_result",
          "data": {
            "text/plain": [
              "array([3, 3, 3, ..., 3, 3, 0])"
            ]
          },
          "metadata": {
            "tags": []
          },
          "execution_count": 22
        }
      ]
    },
    {
      "cell_type": "code",
      "metadata": {
        "id": "P2pcOHc9Iecq",
        "colab_type": "code",
        "colab": {
          "base_uri": "https://localhost:8080/",
          "height": 165
        },
        "outputId": "480320a4-bb55-49a4-ff76-49078586b351"
      },
      "source": [
        "cH=0\n",
        "cR=0\n",
        "cSN=0\n",
        "cSU=0\n",
        "with open('/content/drive/My Drive/1743997.csv','w') as file:\n",
        "    for i in range (0, len(Ypred)):\n",
        "        if(Ypred[i]==0):\n",
        "          cH= cH+1\n",
        "          file.write(\"HAZE\")\n",
        "          file.write('\\n')\n",
        "        if(Ypred[i]==1):\n",
        "          cR = cR +1\n",
        "          file.write(\"RAINY\")\n",
        "          file.write('\\n')\n",
        "        if(Ypred[i]==2):\n",
        "          cSN= cSN+1\n",
        "          file.write(\"SNOWY\")\n",
        "          file.write('\\n')\n",
        "        if(Ypred[i]==3):\n",
        "          cSU= cSU+1\n",
        "          file.write(\"SUNNY\")\n",
        "          file.write('\\n')\n",
        "file.close()\n",
        "print(\"haze \")\n",
        "print(cH)\n",
        "print(\"rainy \")\n",
        "print(cR)\n",
        "print(\"snowy \")\n",
        "print(cSN)\n",
        "print(\"sunny \")\n",
        "print(cSU)"
      ],
      "execution_count": 16,
      "outputs": [
        {
          "output_type": "stream",
          "text": [
            "haze \n",
            "267\n",
            "rainy \n",
            "457\n",
            "snowy \n",
            "329\n",
            "sunny \n",
            "447\n"
          ],
          "name": "stdout"
        }
      ]
    }
  ]
}