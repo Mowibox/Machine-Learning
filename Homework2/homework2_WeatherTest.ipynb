{
  "nbformat": 4,
  "nbformat_minor": 0,
  "metadata": {
    "colab": {
      "name": "Homework2-WeatherTest.ipynb",
      "provenance": [],
      "collapsed_sections": [],
      "toc_visible": true
    },
    "kernelspec": {
      "name": "python3",
      "display_name": "Python 3"
    },
    "accelerator": "GPU"
  },
  "cells": [
    {
      "cell_type": "markdown",
      "metadata": {
        "id": "vO5yo7oSSmI-",
        "colab_type": "text"
      },
      "source": [
        "# Homework 2"
      ]
    },
    {
      "cell_type": "markdown",
      "metadata": {
        "id": "Ku6tq8ehSwn0",
        "colab_type": "text"
      },
      "source": [
        "## Import Libraries"
      ]
    },
    {
      "cell_type": "markdown",
      "metadata": {
        "id": "8Emax2sKS3_4",
        "colab_type": "text"
      },
      "source": [
        "Import some libraries"
      ]
    },
    {
      "cell_type": "code",
      "metadata": {
        "id": "lqvCIfE_RY0i",
        "colab_type": "code",
        "outputId": "bc686507-a6d4-4e90-ec72-a19fce1ff6a3",
        "colab": {
          "base_uri": "https://localhost:8080/",
          "height": 54
        }
      },
      "source": [
        "%tensorflow_version 1.x\n",
        "\n",
        "import pandas as pd\n",
        "import numpy as np\n",
        "import tensorflow as tf\n",
        "import keras\n",
        "from keras.preprocessing.image import ImageDataGenerator\n",
        "from sklearn.model_selection import train_test_split\n",
        "print(\"Tensorflow version %s\" %tf.__version__)\n",
        "\n",
        "device_name = tf.test.gpu_device_name()\n",
        "if device_name != '/device:GPU:0':\n",
        "  raise SystemError('GPU device not found')\n",
        "print('Found GPU at: {}'.format(device_name))"
      ],
      "execution_count": 0,
      "outputs": [
        {
          "output_type": "stream",
          "text": [
            "Tensorflow version 1.15.0\n",
            "Found GPU at: /device:GPU:0\n"
          ],
          "name": "stdout"
        }
      ]
    },
    {
      "cell_type": "markdown",
      "metadata": {
        "id": "yKmFDsgFY-Aj",
        "colab_type": "text"
      },
      "source": [
        "## Load data"
      ]
    },
    {
      "cell_type": "code",
      "metadata": {
        "id": "Rff_ObYzZrKk",
        "colab_type": "code",
        "outputId": "bd97fcb3-3029-4616-b768-37bd58a6ff99",
        "colab": {
          "base_uri": "https://localhost:8080/",
          "height": 243
        }
      },
      "source": [
        "import os\n",
        "from google.colab import drive\n",
        "from keras.preprocessing.image import ImageDataGenerator\n",
        "drive.mount('/content/drive')\n",
        "\n",
        "trainingset = '/content/drive/My Drive/MWI-Dataset1/MWI-Dataset1'\n",
        "testset='/content/drive/My Drive/Weather_Dataset'\n",
        "\n",
        "batch_size = 64\n",
        "input_shape = ()\n",
        "train_datagen = ImageDataGenerator(\n",
        "    rescale = 1. / 255,\\\n",
        "    zoom_range=0.1,\\\n",
        "    rotation_range=10,\\\n",
        "    width_shift_range=0.1,\\\n",
        "    height_shift_range=0.1,\\\n",
        "    horizontal_flip=True,\\\n",
        "    vertical_flip=False\n",
        "    )\n",
        "\n",
        "\n",
        "train_generator = train_datagen.flow_from_directory(\n",
        "    directory=trainingset,\n",
        "    target_size=(118, 224),\n",
        "    color_mode=\"rgb\",\n",
        "    batch_size=batch_size,\n",
        "    class_mode=\"categorical\",\n",
        "    shuffle=True\n",
        ")\n",
        "\n",
        "validation_generator = train_datagen.flow_from_directory(\n",
        "    directory=testset, # same directory as training data\n",
        "    target_size=(118, 224),\n",
        "    batch_size=batch_size,\n",
        "    shuffle=False,\n",
        "    class_mode='categorical') # set as validation data\n",
        "\n",
        "num_samples = train_generator.n\n",
        "num_classes = train_generator.num_classes\n",
        "input_shape = train_generator.image_shape\n",
        "\n",
        "classnames = [k for k,v in train_generator.class_indices.items()]\n",
        "img_h=input_shape[0]\n",
        "img_w=input_shape[1]\n",
        "print(\"Image input %s\" %str(input_shape))\n",
        "print(\"Classes: %r\" %classnames)\n",
        "print('Loaded %d training samples from %d classes.' %(num_samples,num_classes))\n",
        "print('Loaded %d test samples from %d classes.' %(validation_generator.n,validation_generator.num_classes))\n"
      ],
      "execution_count": 0,
      "outputs": [
        {
          "output_type": "stream",
          "text": [
            "Go to this URL in a browser: https://accounts.google.com/o/oauth2/auth?client_id=947318989803-6bn6qk8qdgf4n4g3pfee6491hc0brc4i.apps.googleusercontent.com&redirect_uri=urn%3aietf%3awg%3aoauth%3a2.0%3aoob&response_type=code&scope=email%20https%3a%2f%2fwww.googleapis.com%2fauth%2fdocs.test%20https%3a%2f%2fwww.googleapis.com%2fauth%2fdrive%20https%3a%2f%2fwww.googleapis.com%2fauth%2fdrive.photos.readonly%20https%3a%2f%2fwww.googleapis.com%2fauth%2fpeopleapi.readonly\n",
            "\n",
            "Enter your authorization code:\n",
            "··········\n",
            "Mounted at /content/drive\n",
            "Found 2005 images belonging to 4 classes.\n",
            "Found 2887 images belonging to 4 classes.\n",
            "Image input (118, 224, 3)\n",
            "Classes: ['HAZE', 'RAINY', 'SNOWY', 'SUNNY']\n",
            "Loaded 2005 training samples from 4 classes.\n",
            "Loaded 2887 test samples from 4 classes.\n"
          ],
          "name": "stdout"
        }
      ]
    },
    {
      "cell_type": "markdown",
      "metadata": {
        "id": "rI2fhp3ldPsy",
        "colab_type": "text"
      },
      "source": [
        "## Model"
      ]
    },
    {
      "cell_type": "markdown",
      "metadata": {
        "id": "5hj5AsQ_daRr",
        "colab_type": "text"
      },
      "source": [
        "### SvevaNet - MyCnn"
      ]
    },
    {
      "cell_type": "markdown",
      "metadata": {
        "id": "YC8-F6KHeyNz",
        "colab_type": "text"
      },
      "source": [
        "Libraries for Net"
      ]
    },
    {
      "cell_type": "code",
      "metadata": {
        "id": "pfGXMEpEehmp",
        "colab_type": "code",
        "outputId": "52274c7b-4180-4860-9190-44ac78f58cd4",
        "colab": {
          "base_uri": "https://localhost:8080/",
          "height": 1000
        }
      },
      "source": [
        "from keras.models import Sequential\n",
        "from keras.layers import Dense, Activation, Dropout, Flatten,\\\n",
        "                         Conv2D, MaxPooling2D\n",
        "from keras.layers.normalization import BatchNormalization\n",
        "from keras import regularizers\n",
        "from keras import optimizers\n",
        "\n",
        "def SvevaNet(input_shape, num_classes):\n",
        "\n",
        "    model = Sequential(name=\"SvevaNet\")\n",
        "\n",
        "    # C1 Convolutional Layer \n",
        "    model.add(Conv2D(filters=15, input_shape=input_shape, kernel_size=(5,5)))\n",
        "    model.add(Activation('relu'))\n",
        "\n",
        "    # C2 Convolutional Layer\n",
        "    model.add(Conv2D(filters=20, kernel_size=(5,5)))\n",
        "    model.add(Activation('relu'))\n",
        "    # Pooling\n",
        "    model.add(MaxPooling2D(pool_size=(2,2)))\n",
        "\n",
        "    # C3 Convolutional Layer\n",
        "    model.add(Conv2D(filters=30, kernel_size=(3,3)))\n",
        "    model.add(Activation('relu'))\n",
        "    # Pooling\n",
        "    model.add(MaxPooling2D(pool_size=(2,2)))\n",
        "\n",
        "    # Flatten\n",
        "    model.add(Flatten())\n",
        "\n",
        "\n",
        "    # D1 Dense Layer\n",
        "    model.add(Dense(128))\n",
        "    model.add(Activation('relu'))\n",
        "    # Dropout\n",
        "    model.add(Dropout(0.4))\n",
        "    # D2 Dense Layer\n",
        "    model.add(Dense(96))\n",
        "    model.add(Activation('relu'))\n",
        "    # Dropout\n",
        "    model.add(Dropout(0.4))\n",
        "\n",
        "    # Output Layer\n",
        "    model.add(Dense(num_classes))\n",
        "    model.add(Activation('softmax'))\n",
        "\n",
        "    # Compile\n",
        "\n",
        "    optimizer = optimizers.rmsprop(lr=0.0001)\n",
        "    model.compile(loss='categorical_crossentropy', optimizer=optimizer, metrics=['accuracy'])\n",
        "\n",
        "    return model\n",
        " \n",
        "# create the model\n",
        "model = SvevaNet(input_shape,num_classes)\n",
        "model.summary()"
      ],
      "execution_count": 0,
      "outputs": [
        {
          "output_type": "stream",
          "text": [
            "WARNING:tensorflow:From /usr/local/lib/python3.6/dist-packages/keras/backend/tensorflow_backend.py:66: The name tf.get_default_graph is deprecated. Please use tf.compat.v1.get_default_graph instead.\n",
            "\n",
            "WARNING:tensorflow:From /usr/local/lib/python3.6/dist-packages/keras/backend/tensorflow_backend.py:541: The name tf.placeholder is deprecated. Please use tf.compat.v1.placeholder instead.\n",
            "\n",
            "WARNING:tensorflow:From /usr/local/lib/python3.6/dist-packages/keras/backend/tensorflow_backend.py:4432: The name tf.random_uniform is deprecated. Please use tf.random.uniform instead.\n",
            "\n",
            "WARNING:tensorflow:From /usr/local/lib/python3.6/dist-packages/keras/backend/tensorflow_backend.py:4267: The name tf.nn.max_pool is deprecated. Please use tf.nn.max_pool2d instead.\n",
            "\n",
            "WARNING:tensorflow:From /usr/local/lib/python3.6/dist-packages/keras/backend/tensorflow_backend.py:148: The name tf.placeholder_with_default is deprecated. Please use tf.compat.v1.placeholder_with_default instead.\n",
            "\n",
            "WARNING:tensorflow:From /usr/local/lib/python3.6/dist-packages/keras/backend/tensorflow_backend.py:3733: calling dropout (from tensorflow.python.ops.nn_ops) with keep_prob is deprecated and will be removed in a future version.\n",
            "Instructions for updating:\n",
            "Please use `rate` instead of `keep_prob`. Rate should be set to `rate = 1 - keep_prob`.\n",
            "WARNING:tensorflow:From /usr/local/lib/python3.6/dist-packages/keras/optimizers.py:793: The name tf.train.Optimizer is deprecated. Please use tf.compat.v1.train.Optimizer instead.\n",
            "\n",
            "WARNING:tensorflow:From /usr/local/lib/python3.6/dist-packages/keras/backend/tensorflow_backend.py:3576: The name tf.log is deprecated. Please use tf.math.log instead.\n",
            "\n",
            "Model: \"SvevaNet\"\n",
            "_________________________________________________________________\n",
            "Layer (type)                 Output Shape              Param #   \n",
            "=================================================================\n",
            "conv2d_1 (Conv2D)            (None, 114, 220, 15)      1140      \n",
            "_________________________________________________________________\n",
            "activation_1 (Activation)    (None, 114, 220, 15)      0         \n",
            "_________________________________________________________________\n",
            "conv2d_2 (Conv2D)            (None, 110, 216, 20)      7520      \n",
            "_________________________________________________________________\n",
            "activation_2 (Activation)    (None, 110, 216, 20)      0         \n",
            "_________________________________________________________________\n",
            "max_pooling2d_1 (MaxPooling2 (None, 55, 108, 20)       0         \n",
            "_________________________________________________________________\n",
            "conv2d_3 (Conv2D)            (None, 53, 106, 30)       5430      \n",
            "_________________________________________________________________\n",
            "activation_3 (Activation)    (None, 53, 106, 30)       0         \n",
            "_________________________________________________________________\n",
            "max_pooling2d_2 (MaxPooling2 (None, 26, 53, 30)        0         \n",
            "_________________________________________________________________\n",
            "flatten_1 (Flatten)          (None, 41340)             0         \n",
            "_________________________________________________________________\n",
            "dense_1 (Dense)              (None, 128)               5291648   \n",
            "_________________________________________________________________\n",
            "activation_4 (Activation)    (None, 128)               0         \n",
            "_________________________________________________________________\n",
            "dropout_1 (Dropout)          (None, 128)               0         \n",
            "_________________________________________________________________\n",
            "dense_2 (Dense)              (None, 96)                12384     \n",
            "_________________________________________________________________\n",
            "activation_5 (Activation)    (None, 96)                0         \n",
            "_________________________________________________________________\n",
            "dropout_2 (Dropout)          (None, 96)                0         \n",
            "_________________________________________________________________\n",
            "dense_3 (Dense)              (None, 4)                 388       \n",
            "_________________________________________________________________\n",
            "activation_6 (Activation)    (None, 4)                 0         \n",
            "=================================================================\n",
            "Total params: 5,318,510\n",
            "Trainable params: 5,318,510\n",
            "Non-trainable params: 0\n",
            "_________________________________________________________________\n"
          ],
          "name": "stdout"
        }
      ]
    },
    {
      "cell_type": "markdown",
      "metadata": {
        "id": "YhxhRH8iOQ__",
        "colab_type": "text"
      },
      "source": [
        "Plot Model with layers and weights"
      ]
    },
    {
      "cell_type": "code",
      "metadata": {
        "id": "935WUJKQOJ3b",
        "colab_type": "code",
        "colab": {}
      },
      "source": [
        "from keras.utils.vis_utils import plot_model\n",
        "plot_model(model, to_file='model_plot.png', show_shapes=True, show_layer_names=True)"
      ],
      "execution_count": 0,
      "outputs": []
    },
    {
      "cell_type": "markdown",
      "metadata": {
        "id": "yrrKHwInJPbm",
        "colab_type": "text"
      },
      "source": [
        "### Pre-Trained Model - Transfer Learning"
      ]
    },
    {
      "cell_type": "code",
      "metadata": {
        "id": "ReVp1CxhJYoj",
        "colab_type": "code",
        "outputId": "f3e0bfe8-69c2-4211-c3a6-25cfda2f5a61",
        "colab": {
          "base_uri": "https://localhost:8080/",
          "height": 74
        }
      },
      "source": [
        "from keras import applications\n",
        "from keras.models import Model, Input\n",
        "from keras.models import Sequential\n",
        "from keras.layers import Dense, Activation, Dropout, Flatten,\\\n",
        "                         Conv2D, MaxPooling2D\n",
        "from keras.layers.normalization import BatchNormalization\n",
        "from keras import regularizers\n",
        "from keras import optimizers\n",
        "\n",
        "# Create the base model from the pre-trained model\n",
        "model_transfer = applications.ResNet101V2(weights = \"imagenet\", include_top=False, input_shape = input_shape)\n",
        "print(len(model_transfer.layers))\n",
        "not_trainable=len(model_transfer.layers)-1\n",
        "for layer in model_transfer.layers[:not_trainable]:\n",
        "  layer.trainable= False\n",
        "\n",
        "#Adding custom Layers \n",
        "x = model_transfer.output\n",
        "x = Flatten()(x)\n",
        "x = BatchNormalization()(x)\n",
        "x = Dropout(0.4)(x)\n",
        "x = Dense(100, activation=\"relu\")(x)\n",
        "x = BatchNormalization()(x)\n",
        "x = Dropout(0.4)(x)\n",
        "x = Dense(40, activation=\"relu\")(x)\n",
        "x = BatchNormalization()(x)\n",
        "predictions = Dense(num_classes, activation=\"softmax\")(x)\n",
        "\n",
        "# creating the final model \n",
        "model_final = Model(input = model_transfer.input, output = predictions, name=\"transferLearning\")\n",
        "\n",
        "# compile the model \n",
        "model_final.compile(loss = \"categorical_crossentropy\", optimizer = optimizers.SGD(lr=0.001, momentum=0.09), metrics=[\"accuracy\"])"
      ],
      "execution_count": 0,
      "outputs": [
        {
          "output_type": "stream",
          "text": [
            "377\n"
          ],
          "name": "stdout"
        },
        {
          "output_type": "stream",
          "text": [
            "/usr/local/lib/python3.6/dist-packages/ipykernel_launcher.py:29: UserWarning: Update your `Model` call to the Keras 2 API: `Model(name=\"transferLearning\", inputs=Tensor(\"in..., outputs=Tensor(\"de...)`\n"
          ],
          "name": "stderr"
        }
      ]
    },
    {
      "cell_type": "markdown",
      "metadata": {
        "id": "cKFEa_wLOYrr",
        "colab_type": "text"
      },
      "source": [
        "Plot Model with layers and weights"
      ]
    },
    {
      "cell_type": "code",
      "metadata": {
        "id": "izfHRTs8OX9J",
        "colab_type": "code",
        "colab": {}
      },
      "source": [
        "from keras.utils.vis_utils import plot_model\n",
        "plot_model(model, to_file='model_plot.png', show_shapes=True, show_layer_names=True"
      ],
      "execution_count": 0,
      "outputs": []
    },
    {
      "cell_type": "markdown",
      "metadata": {
        "id": "GSCQcMA5swwB",
        "colab_type": "text"
      },
      "source": [
        "## Train"
      ]
    },
    {
      "cell_type": "markdown",
      "metadata": {
        "id": "BvfIgX4dNmGJ",
        "colab_type": "text"
      },
      "source": [
        "#### Train of SvevaNet "
      ]
    },
    {
      "cell_type": "code",
      "metadata": {
        "id": "hMf51l0HtamH",
        "colab_type": "code",
        "outputId": "b2e9a7ad-acdc-49a4-8dd9-05f9d9305a1b",
        "colab": {
          "base_uri": "https://localhost:8080/",
          "height": 176
        }
      },
      "source": [
        "from keras import callbacks\n",
        "\n",
        "steps_per_epoch=train_generator.n//train_generator.batch_size\n",
        "val_steps=validation_generator.n//validation_generator.batch_size+1\n",
        "\n",
        "try:\n",
        "    history = model.fit_generator(train_generator, epochs=100, verbose=1,\\\n",
        "                    steps_per_epoch=steps_per_epoch,\\\n",
        "                    validation_data=validation_generator,\\\n",
        "                    validation_steps=val_steps)\n",
        "except KeyboardInterrupt:\n",
        "    pass"
      ],
      "execution_count": 0,
      "outputs": [
        {
          "output_type": "stream",
          "text": [
            "WARNING:tensorflow:From /usr/local/lib/python3.6/dist-packages/tensorflow_core/python/ops/math_grad.py:1424: where (from tensorflow.python.ops.array_ops) is deprecated and will be removed in a future version.\n",
            "Instructions for updating:\n",
            "Use tf.where in 2.0, which has the same broadcast rule as np.where\n",
            "WARNING:tensorflow:From /usr/local/lib/python3.6/dist-packages/keras/backend/tensorflow_backend.py:1033: The name tf.assign_add is deprecated. Please use tf.compat.v1.assign_add instead.\n",
            "\n",
            "WARNING:tensorflow:From /usr/local/lib/python3.6/dist-packages/keras/backend/tensorflow_backend.py:1020: The name tf.assign is deprecated. Please use tf.compat.v1.assign instead.\n",
            "\n",
            "Epoch 1/100\n"
          ],
          "name": "stdout"
        }
      ]
    },
    {
      "cell_type": "markdown",
      "metadata": {
        "id": "pwMJJzZ3Ns6v",
        "colab_type": "text"
      },
      "source": [
        "#### Train of pre-trained model"
      ]
    },
    {
      "cell_type": "code",
      "metadata": {
        "id": "7ZQXSAsPN591",
        "colab_type": "code",
        "outputId": "65dc6f5a-4fec-4107-89e8-3916e5bafda7",
        "colab": {
          "base_uri": "https://localhost:8080/",
          "height": 1000
        }
      },
      "source": [
        "from keras import callbacks\n",
        "\n",
        "stopping = callbacks.EarlyStopping(monitor='val_acc', patience=20)\n",
        "\n",
        "steps_per_epoch = train_generator.n//train_generator.batch_size\n",
        "val_steps = validation_generator.n//validation_generator.batch_size+1\n",
        "\n",
        "try:\n",
        "    history_transfer = model_final.fit_generator(train_generator, epochs=100, verbose=1, callbacks=[stopping],\\\n",
        "                    steps_per_epoch=steps_per_epoch,\\\n",
        "                    validation_data=validation_generator,\\\n",
        "                    validation_steps=val_steps)\n",
        "except KeyboardInterrupt:\n",
        "    pass"
      ],
      "execution_count": 0,
      "outputs": [
        {
          "output_type": "stream",
          "text": [
            "Epoch 1/100\n"
          ],
          "name": "stdout"
        },
        {
          "output_type": "stream",
          "text": [
            "/usr/local/lib/python3.6/dist-packages/PIL/TiffImagePlugin.py:725: UserWarning: Possibly corrupt EXIF data.  Expecting to read 8 bytes but only got 4. Skipping tag 41486\n",
            "  \" Skipping tag %s\" % (size, len(data), tag))\n",
            "/usr/local/lib/python3.6/dist-packages/PIL/TiffImagePlugin.py:725: UserWarning: Possibly corrupt EXIF data.  Expecting to read 8 bytes but only got 0. Skipping tag 41487\n",
            "  \" Skipping tag %s\" % (size, len(data), tag))\n"
          ],
          "name": "stderr"
        },
        {
          "output_type": "stream",
          "text": [
            "10/31 [========>.....................] - ETA: 46s - loss: 1.7903 - acc: 0.2641"
          ],
          "name": "stdout"
        },
        {
          "output_type": "stream",
          "text": [
            "/usr/local/lib/python3.6/dist-packages/PIL/TiffImagePlugin.py:742: UserWarning: Corrupt EXIF data.  Expecting to read 4 bytes but only got 0. \n",
            "  warnings.warn(str(msg))\n"
          ],
          "name": "stderr"
        },
        {
          "output_type": "stream",
          "text": [
            "17/31 [===============>..............] - ETA: 24s - loss: 1.7124 - acc: 0.2969"
          ],
          "name": "stdout"
        },
        {
          "output_type": "stream",
          "text": [
            "/usr/local/lib/python3.6/dist-packages/PIL/TiffImagePlugin.py:725: UserWarning: Possibly corrupt EXIF data.  Expecting to read 4718592 bytes but only got 0. Skipping tag 0\n",
            "  \" Skipping tag %s\" % (size, len(data), tag))\n",
            "/usr/local/lib/python3.6/dist-packages/PIL/TiffImagePlugin.py:725: UserWarning: Possibly corrupt EXIF data.  Expecting to read 131072 bytes but only got 0. Skipping tag 0\n",
            "  \" Skipping tag %s\" % (size, len(data), tag))\n",
            "/usr/local/lib/python3.6/dist-packages/PIL/TiffImagePlugin.py:725: UserWarning: Possibly corrupt EXIF data.  Expecting to read 1048576 bytes but only got 0. Skipping tag 0\n",
            "  \" Skipping tag %s\" % (size, len(data), tag))\n"
          ],
          "name": "stderr"
        },
        {
          "output_type": "stream",
          "text": [
            "29/31 [===========================>..] - ETA: 3s - loss: 1.6306 - acc: 0.3380"
          ],
          "name": "stdout"
        },
        {
          "output_type": "stream",
          "text": [
            "/usr/local/lib/python3.6/dist-packages/PIL/TiffImagePlugin.py:725: UserWarning: Possibly corrupt EXIF data.  Expecting to read 8 bytes but only got 2. Skipping tag 41486\n",
            "  \" Skipping tag %s\" % (size, len(data), tag))\n"
          ],
          "name": "stderr"
        },
        {
          "output_type": "stream",
          "text": [
            "31/31 [==============================] - 236s 8s/step - loss: 1.6238 - acc: 0.3409 - val_loss: 1.8521 - val_acc: 0.2324\n",
            "Epoch 2/100\n",
            "31/31 [==============================] - 74s 2s/step - loss: 1.2930 - acc: 0.4806 - val_loss: 1.9918 - val_acc: 0.2096\n",
            "Epoch 3/100\n",
            "31/31 [==============================] - 75s 2s/step - loss: 1.1309 - acc: 0.5552 - val_loss: 2.0443 - val_acc: 0.2224\n",
            "Epoch 4/100\n",
            "31/31 [==============================] - 75s 2s/step - loss: 1.0281 - acc: 0.5895 - val_loss: 2.0994 - val_acc: 0.2220\n",
            "Epoch 5/100\n",
            "31/31 [==============================] - 74s 2s/step - loss: 0.9646 - acc: 0.6066 - val_loss: 2.1222 - val_acc: 0.2283\n",
            "Epoch 6/100\n",
            "31/31 [==============================] - 72s 2s/step - loss: 0.8852 - acc: 0.6470 - val_loss: 2.1118 - val_acc: 0.2549\n",
            "Epoch 7/100\n",
            "31/31 [==============================] - 74s 2s/step - loss: 0.8665 - acc: 0.6667 - val_loss: 2.1537 - val_acc: 0.2563\n",
            "Epoch 8/100\n",
            "31/31 [==============================] - 74s 2s/step - loss: 0.8163 - acc: 0.6747 - val_loss: 2.2135 - val_acc: 0.2601\n",
            "Epoch 9/100\n",
            "31/31 [==============================] - 73s 2s/step - loss: 0.7698 - acc: 0.6924 - val_loss: 2.2094 - val_acc: 0.2574\n",
            "Epoch 10/100\n",
            "31/31 [==============================] - 73s 2s/step - loss: 0.7744 - acc: 0.7072 - val_loss: 2.2074 - val_acc: 0.2653\n",
            "Epoch 11/100\n",
            "31/31 [==============================] - 73s 2s/step - loss: 0.7468 - acc: 0.7146 - val_loss: 2.2151 - val_acc: 0.2598\n",
            "Epoch 12/100\n",
            "31/31 [==============================] - 72s 2s/step - loss: 0.7201 - acc: 0.7156 - val_loss: 2.1983 - val_acc: 0.2826\n",
            "Epoch 13/100\n",
            "31/31 [==============================] - 71s 2s/step - loss: 0.7071 - acc: 0.7423 - val_loss: 2.2174 - val_acc: 0.2840\n",
            "Epoch 14/100\n",
            "31/31 [==============================] - 71s 2s/step - loss: 0.6788 - acc: 0.7428 - val_loss: 2.1959 - val_acc: 0.2927\n",
            "Epoch 15/100\n",
            "31/31 [==============================] - 73s 2s/step - loss: 0.6666 - acc: 0.7549 - val_loss: 2.2354 - val_acc: 0.2962\n",
            "Epoch 16/100\n",
            "31/31 [==============================] - 72s 2s/step - loss: 0.6453 - acc: 0.7674 - val_loss: 2.2553 - val_acc: 0.2906\n",
            "Epoch 17/100\n",
            "31/31 [==============================] - 72s 2s/step - loss: 0.6701 - acc: 0.7403 - val_loss: 2.2087 - val_acc: 0.3031\n",
            "Epoch 18/100\n",
            "31/31 [==============================] - 72s 2s/step - loss: 0.6323 - acc: 0.7606 - val_loss: 2.2385 - val_acc: 0.3003\n",
            "Epoch 19/100\n",
            "31/31 [==============================] - 72s 2s/step - loss: 0.6424 - acc: 0.7618 - val_loss: 2.2103 - val_acc: 0.3069\n",
            "Epoch 20/100\n",
            "31/31 [==============================] - 74s 2s/step - loss: 0.6141 - acc: 0.7752 - val_loss: 2.2771 - val_acc: 0.3007\n",
            "Epoch 21/100\n",
            "31/31 [==============================] - 70s 2s/step - loss: 0.6145 - acc: 0.7680 - val_loss: 2.2334 - val_acc: 0.3014\n",
            "Epoch 22/100\n",
            "31/31 [==============================] - 71s 2s/step - loss: 0.5808 - acc: 0.7852 - val_loss: 2.2409 - val_acc: 0.3069\n",
            "Epoch 23/100\n",
            "31/31 [==============================] - 70s 2s/step - loss: 0.5974 - acc: 0.7701 - val_loss: 2.2561 - val_acc: 0.3180\n",
            "Epoch 24/100\n",
            "31/31 [==============================] - 71s 2s/step - loss: 0.5888 - acc: 0.7760 - val_loss: 2.2964 - val_acc: 0.3169\n",
            "Epoch 25/100\n",
            "31/31 [==============================] - 71s 2s/step - loss: 0.5596 - acc: 0.7912 - val_loss: 2.2754 - val_acc: 0.3169\n",
            "Epoch 26/100\n",
            "31/31 [==============================] - 72s 2s/step - loss: 0.5659 - acc: 0.7802 - val_loss: 2.2973 - val_acc: 0.3114\n",
            "Epoch 27/100\n",
            "31/31 [==============================] - 73s 2s/step - loss: 0.5567 - acc: 0.7887 - val_loss: 2.2770 - val_acc: 0.3201\n",
            "Epoch 28/100\n",
            "31/31 [==============================] - 71s 2s/step - loss: 0.5367 - acc: 0.7988 - val_loss: 2.2957 - val_acc: 0.3356\n",
            "Epoch 29/100\n",
            "31/31 [==============================] - 73s 2s/step - loss: 0.5464 - acc: 0.7988 - val_loss: 2.2570 - val_acc: 0.3204\n",
            "Epoch 30/100\n",
            "31/31 [==============================] - 72s 2s/step - loss: 0.5425 - acc: 0.7902 - val_loss: 2.3029 - val_acc: 0.3166\n",
            "Epoch 31/100\n",
            "31/31 [==============================] - 72s 2s/step - loss: 0.5786 - acc: 0.7781 - val_loss: 2.3219 - val_acc: 0.3104\n",
            "Epoch 32/100\n",
            "31/31 [==============================] - 73s 2s/step - loss: 0.5497 - acc: 0.7882 - val_loss: 2.3003 - val_acc: 0.3284\n",
            "Epoch 33/100\n",
            "31/31 [==============================] - 62s 2s/step - loss: 0.5603 - acc: 0.7912 - val_loss: 2.3017 - val_acc: 0.3298\n",
            "Epoch 34/100\n",
            "31/31 [==============================] - 73s 2s/step - loss: 0.5430 - acc: 0.7943 - val_loss: 2.3013 - val_acc: 0.3190\n",
            "Epoch 35/100\n",
            "31/31 [==============================] - 73s 2s/step - loss: 0.5061 - acc: 0.8043 - val_loss: 2.3092 - val_acc: 0.3363\n",
            "Epoch 36/100\n",
            "31/31 [==============================] - 73s 2s/step - loss: 0.5045 - acc: 0.8164 - val_loss: 2.3160 - val_acc: 0.3280\n",
            "Epoch 37/100\n",
            "31/31 [==============================] - 74s 2s/step - loss: 0.4857 - acc: 0.8250 - val_loss: 2.3283 - val_acc: 0.3256\n",
            "Epoch 38/100\n",
            "31/31 [==============================] - 73s 2s/step - loss: 0.5027 - acc: 0.8125 - val_loss: 2.3263 - val_acc: 0.3263\n",
            "Epoch 39/100\n",
            "31/31 [==============================] - 73s 2s/step - loss: 0.5126 - acc: 0.8013 - val_loss: 2.2724 - val_acc: 0.3360\n",
            "Epoch 40/100\n",
            "31/31 [==============================] - 73s 2s/step - loss: 0.5090 - acc: 0.8168 - val_loss: 2.3261 - val_acc: 0.3311\n",
            "Epoch 41/100\n",
            "31/31 [==============================] - 74s 2s/step - loss: 0.4799 - acc: 0.8159 - val_loss: 2.3203 - val_acc: 0.3412\n",
            "Epoch 42/100\n",
            "31/31 [==============================] - 73s 2s/step - loss: 0.5016 - acc: 0.8159 - val_loss: 2.3134 - val_acc: 0.3401\n",
            "Epoch 43/100\n",
            "31/31 [==============================] - 73s 2s/step - loss: 0.4601 - acc: 0.8327 - val_loss: 2.3432 - val_acc: 0.3377\n",
            "Epoch 44/100\n",
            "31/31 [==============================] - 72s 2s/step - loss: 0.4850 - acc: 0.8235 - val_loss: 2.3333 - val_acc: 0.3401\n",
            "Epoch 45/100\n",
            "31/31 [==============================] - 72s 2s/step - loss: 0.5031 - acc: 0.8099 - val_loss: 2.3229 - val_acc: 0.3412\n",
            "Epoch 46/100\n",
            "31/31 [==============================] - 72s 2s/step - loss: 0.4592 - acc: 0.8350 - val_loss: 2.3158 - val_acc: 0.3398\n",
            "Epoch 47/100\n",
            "31/31 [==============================] - 72s 2s/step - loss: 0.4794 - acc: 0.8250 - val_loss: 2.2969 - val_acc: 0.3346\n",
            "Epoch 48/100\n",
            "31/31 [==============================] - 73s 2s/step - loss: 0.4712 - acc: 0.8286 - val_loss: 2.2965 - val_acc: 0.3446\n",
            "Epoch 49/100\n",
            "31/31 [==============================] - 72s 2s/step - loss: 0.4913 - acc: 0.8194 - val_loss: 2.3001 - val_acc: 0.3450\n",
            "Epoch 50/100\n",
            "31/31 [==============================] - 75s 2s/step - loss: 0.4426 - acc: 0.8346 - val_loss: 2.3140 - val_acc: 0.3537\n",
            "Epoch 51/100\n",
            "31/31 [==============================] - 71s 2s/step - loss: 0.4662 - acc: 0.8249 - val_loss: 2.3062 - val_acc: 0.3474\n",
            "Epoch 52/100\n",
            "31/31 [==============================] - 72s 2s/step - loss: 0.4523 - acc: 0.8367 - val_loss: 2.3113 - val_acc: 0.3485\n",
            "Epoch 53/100\n",
            "31/31 [==============================] - 74s 2s/step - loss: 0.4378 - acc: 0.8417 - val_loss: 2.3136 - val_acc: 0.3502\n",
            "Epoch 54/100\n",
            "31/31 [==============================] - 74s 2s/step - loss: 0.4579 - acc: 0.8286 - val_loss: 2.3151 - val_acc: 0.3415\n",
            "Epoch 55/100\n",
            "31/31 [==============================] - 73s 2s/step - loss: 0.4326 - acc: 0.8442 - val_loss: 2.3045 - val_acc: 0.3495\n",
            "Epoch 56/100\n",
            "31/31 [==============================] - 72s 2s/step - loss: 0.4333 - acc: 0.8407 - val_loss: 2.2560 - val_acc: 0.3547\n",
            "Epoch 57/100\n",
            "31/31 [==============================] - 71s 2s/step - loss: 0.4204 - acc: 0.8548 - val_loss: 2.3147 - val_acc: 0.3474\n",
            "Epoch 58/100\n",
            "31/31 [==============================] - 71s 2s/step - loss: 0.4519 - acc: 0.8377 - val_loss: 2.2784 - val_acc: 0.3647\n",
            "Epoch 59/100\n",
            "31/31 [==============================] - 71s 2s/step - loss: 0.4680 - acc: 0.8261 - val_loss: 2.3091 - val_acc: 0.3540\n",
            "Epoch 60/100\n",
            "31/31 [==============================] - 70s 2s/step - loss: 0.4110 - acc: 0.8502 - val_loss: 2.3266 - val_acc: 0.3509\n",
            "Epoch 61/100\n",
            "31/31 [==============================] - 68s 2s/step - loss: 0.4331 - acc: 0.8462 - val_loss: 2.2957 - val_acc: 0.3561\n",
            "Epoch 62/100\n",
            "31/31 [==============================] - 68s 2s/step - loss: 0.4495 - acc: 0.8341 - val_loss: 2.3309 - val_acc: 0.3620\n",
            "Epoch 63/100\n",
            "31/31 [==============================] - 67s 2s/step - loss: 0.3967 - acc: 0.8563 - val_loss: 2.2993 - val_acc: 0.3537\n",
            "Epoch 64/100\n",
            "31/31 [==============================] - 67s 2s/step - loss: 0.4068 - acc: 0.8553 - val_loss: 2.3369 - val_acc: 0.3658\n",
            "Epoch 65/100\n",
            "31/31 [==============================] - 58s 2s/step - loss: 0.4167 - acc: 0.8563 - val_loss: 2.3514 - val_acc: 0.3481\n",
            "Epoch 66/100\n",
            "31/31 [==============================] - 72s 2s/step - loss: 0.4287 - acc: 0.8356 - val_loss: 2.3140 - val_acc: 0.3640\n",
            "Epoch 67/100\n",
            "31/31 [==============================] - 72s 2s/step - loss: 0.4272 - acc: 0.8492 - val_loss: 2.3187 - val_acc: 0.3595\n",
            "Epoch 68/100\n",
            "31/31 [==============================] - 71s 2s/step - loss: 0.4159 - acc: 0.8548 - val_loss: 2.3294 - val_acc: 0.3634\n",
            "Epoch 69/100\n",
            "31/31 [==============================] - 70s 2s/step - loss: 0.3992 - acc: 0.8527 - val_loss: 2.3648 - val_acc: 0.3533\n",
            "Epoch 70/100\n",
            "31/31 [==============================] - 70s 2s/step - loss: 0.4129 - acc: 0.8523 - val_loss: 2.3068 - val_acc: 0.3609\n",
            "Epoch 71/100\n",
            "31/31 [==============================] - 70s 2s/step - loss: 0.3960 - acc: 0.8497 - val_loss: 2.3361 - val_acc: 0.3568\n",
            "Epoch 72/100\n",
            "31/31 [==============================] - 69s 2s/step - loss: 0.4167 - acc: 0.8471 - val_loss: 2.3003 - val_acc: 0.3640\n",
            "Epoch 73/100\n",
            "31/31 [==============================] - 69s 2s/step - loss: 0.3979 - acc: 0.8502 - val_loss: 2.3202 - val_acc: 0.3613\n",
            "Epoch 74/100\n",
            "31/31 [==============================] - 69s 2s/step - loss: 0.3953 - acc: 0.8629 - val_loss: 2.3728 - val_acc: 0.3571\n",
            "Epoch 75/100\n",
            "31/31 [==============================] - 68s 2s/step - loss: 0.4549 - acc: 0.8336 - val_loss: 2.3659 - val_acc: 0.3609\n",
            "Epoch 76/100\n",
            "31/31 [==============================] - 67s 2s/step - loss: 0.3645 - acc: 0.8653 - val_loss: 2.3231 - val_acc: 0.3654\n",
            "Epoch 77/100\n",
            "31/31 [==============================] - 66s 2s/step - loss: 0.3991 - acc: 0.8583 - val_loss: 2.3166 - val_acc: 0.3644\n",
            "Epoch 78/100\n",
            "31/31 [==============================] - 67s 2s/step - loss: 0.3983 - acc: 0.8553 - val_loss: 2.3324 - val_acc: 0.3640\n",
            "Epoch 79/100\n",
            "31/31 [==============================] - 65s 2s/step - loss: 0.4043 - acc: 0.8481 - val_loss: 2.3084 - val_acc: 0.3668\n",
            "Epoch 80/100\n",
            "31/31 [==============================] - 66s 2s/step - loss: 0.3943 - acc: 0.8513 - val_loss: 2.3378 - val_acc: 0.3658\n",
            "Epoch 81/100\n",
            "31/31 [==============================] - 67s 2s/step - loss: 0.3834 - acc: 0.8604 - val_loss: 2.2584 - val_acc: 0.3703\n",
            "Epoch 82/100\n",
            "31/31 [==============================] - 65s 2s/step - loss: 0.4073 - acc: 0.8523 - val_loss: 2.3068 - val_acc: 0.3599\n",
            "Epoch 83/100\n",
            "31/31 [==============================] - 67s 2s/step - loss: 0.3734 - acc: 0.8623 - val_loss: 2.2755 - val_acc: 0.3654\n",
            "Epoch 84/100\n",
            "31/31 [==============================] - 66s 2s/step - loss: 0.3989 - acc: 0.8568 - val_loss: 2.2996 - val_acc: 0.3672\n",
            "Epoch 85/100\n",
            "31/31 [==============================] - 67s 2s/step - loss: 0.3679 - acc: 0.8664 - val_loss: 2.2926 - val_acc: 0.3661\n",
            "Epoch 86/100\n",
            "31/31 [==============================] - 67s 2s/step - loss: 0.3714 - acc: 0.8542 - val_loss: 2.3026 - val_acc: 0.3634\n",
            "Epoch 87/100\n",
            "31/31 [==============================] - 66s 2s/step - loss: 0.3491 - acc: 0.8815 - val_loss: 2.3232 - val_acc: 0.3630\n",
            "Epoch 88/100\n",
            "31/31 [==============================] - 67s 2s/step - loss: 0.3801 - acc: 0.8654 - val_loss: 2.3129 - val_acc: 0.3755\n",
            "Epoch 89/100\n",
            "31/31 [==============================] - 67s 2s/step - loss: 0.3796 - acc: 0.8543 - val_loss: 2.2827 - val_acc: 0.3776\n",
            "Epoch 90/100\n",
            "31/31 [==============================] - 66s 2s/step - loss: 0.3595 - acc: 0.8719 - val_loss: 2.2875 - val_acc: 0.3720\n",
            "Epoch 91/100\n",
            "31/31 [==============================] - 68s 2s/step - loss: 0.3623 - acc: 0.8720 - val_loss: 2.3032 - val_acc: 0.3734\n",
            "Epoch 92/100\n",
            "31/31 [==============================] - 66s 2s/step - loss: 0.3608 - acc: 0.8684 - val_loss: 2.2911 - val_acc: 0.3755\n",
            "Epoch 93/100\n",
            "31/31 [==============================] - 67s 2s/step - loss: 0.3516 - acc: 0.8734 - val_loss: 2.3031 - val_acc: 0.3672\n",
            "Epoch 94/100\n",
            "31/31 [==============================] - 66s 2s/step - loss: 0.3745 - acc: 0.8638 - val_loss: 2.2981 - val_acc: 0.3737\n",
            "Epoch 95/100\n",
            "31/31 [==============================] - 67s 2s/step - loss: 0.3472 - acc: 0.8775 - val_loss: 2.3056 - val_acc: 0.3672\n",
            "Epoch 96/100\n",
            "31/31 [==============================] - 66s 2s/step - loss: 0.3550 - acc: 0.8679 - val_loss: 2.2976 - val_acc: 0.3682\n",
            "Epoch 97/100\n",
            "31/31 [==============================] - 58s 2s/step - loss: 0.3555 - acc: 0.8754 - val_loss: 2.3218 - val_acc: 0.3692\n",
            "Epoch 98/100\n",
            "31/31 [==============================] - 71s 2s/step - loss: 0.3672 - acc: 0.8749 - val_loss: 2.3371 - val_acc: 0.3793\n",
            "Epoch 99/100\n",
            "31/31 [==============================] - 71s 2s/step - loss: 0.3541 - acc: 0.8709 - val_loss: 2.3358 - val_acc: 0.3699\n",
            "Epoch 100/100\n",
            "31/31 [==============================] - 70s 2s/step - loss: 0.3531 - acc: 0.8795 - val_loss: 2.3458 - val_acc: 0.3810\n"
          ],
          "name": "stdout"
        }
      ]
    },
    {
      "cell_type": "markdown",
      "metadata": {
        "id": "HzM2SZl5x4mr",
        "colab_type": "text"
      },
      "source": [
        "## Save the model"
      ]
    },
    {
      "cell_type": "code",
      "metadata": {
        "id": "WAFijfTwx782",
        "colab_type": "code",
        "outputId": "385d90ee-43ca-4808-f145-1179433b0dac",
        "colab": {
          "base_uri": "https://localhost:8080/",
          "height": 69
        }
      },
      "source": [
        "import os\n",
        "\n",
        "models_dir ='/content/drive/My Drive/MWI-Dataset1/models/'\n",
        "\n",
        "def savemodel(model,problem):\n",
        "    filename = os.path.join(models_dir, '%s.h5' %problem)\n",
        "    model.save(filename)\n",
        "    print(\"\\nModel saved successfully on file %s\\n\" %filename)\n",
        "\n",
        "# Save the model\n",
        "savemodel(model,'model_proof_tot2')"
      ],
      "execution_count": 0,
      "outputs": [
        {
          "output_type": "stream",
          "text": [
            "\n",
            "Model saved successfully on file /content/drive/My Drive/MWI-Dataset1/models/model_proof_tot2.h5\n",
            "\n"
          ],
          "name": "stdout"
        }
      ]
    },
    {
      "cell_type": "markdown",
      "metadata": {
        "id": "YPtbelKYHy4K",
        "colab_type": "text"
      },
      "source": [
        "##Evaluate the model"
      ]
    },
    {
      "cell_type": "markdown",
      "metadata": {
        "id": "IjcBSWbliSNg",
        "colab_type": "text"
      },
      "source": [
        "Accuracy on test set"
      ]
    },
    {
      "cell_type": "code",
      "metadata": {
        "id": "HhBI1_ZOiajn",
        "colab_type": "code",
        "outputId": "321a54b4-c419-4363-eabf-15136208190e",
        "colab": {
          "base_uri": "https://localhost:8080/",
          "height": 53
        }
      },
      "source": [
        "val_steps=validation_generator.n//validation_generator.batch_size+1\n",
        "loss, acc = model.evaluate_generator(validation_generator,steps=val_steps)\n",
        "print('Test loss: %f' %loss)\n",
        "print('Test accuracy: %f' %acc)\n",
        "\n"
      ],
      "execution_count": 0,
      "outputs": [
        {
          "output_type": "stream",
          "text": [
            "Test loss: 2.060323\n",
            "Test accuracy: 0.449255\n"
          ],
          "name": "stdout"
        }
      ]
    },
    {
      "cell_type": "markdown",
      "metadata": {
        "id": "85shO3Ntiqov",
        "colab_type": "text"
      },
      "source": [
        "Precision, recall, F-score"
      ]
    },
    {
      "cell_type": "code",
      "metadata": {
        "id": "aLfiWAMGHxkH",
        "colab_type": "code",
        "outputId": "ba8b7cce-40e2-4c41-87cd-357b110ab904",
        "colab": {
          "base_uri": "https://localhost:8080/",
          "height": 280
        }
      },
      "source": [
        "import sklearn.metrics \n",
        "from sklearn.metrics import classification_report, confusion_matrix\n",
        " \n",
        "preds = model_final.predict_generator(validation_generator,steps=val_steps)\n",
        "\n",
        "Ypred = np.argmax(preds, axis=1)\n",
        "Ytest = validation_generator.classes  # shuffle=False in test_generator\n",
        "\n",
        "print(classification_report(Ytest, Ypred, labels=None, target_names=classnames, digits=3))\n",
        "\n",
        "\n",
        "  "
      ],
      "execution_count": 0,
      "outputs": [
        {
          "output_type": "stream",
          "text": [
            "              precision    recall  f1-score   support\n",
            "\n",
            "        HAZE      0.000     0.000     0.000         0\n",
            "       RAINY      0.178     0.394     0.246       350\n",
            "       SNOWY      0.822     0.493     0.616      1429\n",
            "       SUNNY      0.541     0.209     0.302      1108\n",
            "\n",
            "    accuracy                          0.372      2887\n",
            "   macro avg      0.385     0.274     0.291      2887\n",
            "weighted avg      0.636     0.372     0.451      2887\n",
            "\n"
          ],
          "name": "stdout"
        },
        {
          "output_type": "stream",
          "text": [
            "/usr/local/lib/python3.6/dist-packages/sklearn/metrics/classification.py:1439: UndefinedMetricWarning: Recall and F-score are ill-defined and being set to 0.0 in labels with no true samples.\n",
            "  'recall', 'true', average, warn_for)\n"
          ],
          "name": "stderr"
        }
      ]
    },
    {
      "cell_type": "markdown",
      "metadata": {
        "id": "R1pDmZkxizx8",
        "colab_type": "text"
      },
      "source": [
        "Confusion matrix analysis"
      ]
    },
    {
      "cell_type": "code",
      "metadata": {
        "id": "BO7lVQiki3bh",
        "colab_type": "code",
        "outputId": "88540833-b45d-44ae-bbac-4451c265506f",
        "colab": {
          "base_uri": "https://localhost:8080/",
          "height": 332
        }
      },
      "source": [
        "import sklearn.metrics \n",
        "from sklearn.metrics import classification_report, confusion_matrix\n",
        "\n",
        "preds = model.predict_generator(validation_generator,verbose=1,steps=val_steps)\n",
        "\n",
        "Ypred = np.argmax(preds, axis=1)\n",
        "Ytest = validation_generator.classes  # shuffle=False in test_generator\n",
        "\n",
        "cm = confusion_matrix(Ytest, Ypred)\n",
        "\n",
        "conf = [] # data structure for confusions: list of (i,j,cm[i][j])\n",
        "for i in range(0,cm.shape[0]):\n",
        "  for j in range(0,cm.shape[1]):\n",
        "    if (i!=j and cm[i][j]>0):\n",
        "      conf.append([i,j,cm[i][j]])\n",
        "\n",
        "col=2\n",
        "conf = np.array(conf)\n",
        "conf = conf[np.argsort(-conf[:,col])]  # decreasing order by 3-rd column (i.e., cm[i][j])\n",
        "\n",
        "print('%-16s     %-16s  \\t%s \\t%s ' %('True','Predicted','errors','err %'))\n",
        "print('------------------------------------------------------------------')\n",
        "for k in conf:\n",
        "  print('%-16s ->  %-16s  \\t%d \\t%.2f %% ' %(classnames[k[0]],classnames[k[1]],k[2],k[2]*100.0/test_generator.n))\n",
        "  "
      ],
      "execution_count": 0,
      "outputs": [
        {
          "output_type": "stream",
          "text": [
            "4/7 [================>.............] - ETA: 3s"
          ],
          "name": "stdout"
        },
        {
          "output_type": "stream",
          "text": [
            "/usr/local/lib/python3.6/dist-packages/PIL/TiffImagePlugin.py:742: UserWarning: Corrupt EXIF data.  Expecting to read 4 bytes but only got 0. \n",
            "  warnings.warn(str(msg))\n"
          ],
          "name": "stderr"
        },
        {
          "output_type": "stream",
          "text": [
            "7/7 [==============================] - 6s 908ms/step\n",
            "True                 Predicted         \terrors \terr % \n",
            "------------------------------------------------------------------\n",
            "HAZE             ->  RAINY             \t34 \t1.18 % \n",
            "SNOWY            ->  SUNNY             \t31 \t1.07 % \n",
            "SUNNY            ->  HAZE              \t29 \t1.00 % \n",
            "RAINY            ->  SNOWY             \t27 \t0.94 % \n",
            "RAINY            ->  SUNNY             \t27 \t0.94 % \n",
            "HAZE             ->  SUNNY             \t26 \t0.90 % \n",
            "SNOWY            ->  RAINY             \t24 \t0.83 % \n",
            "SUNNY            ->  RAINY             \t22 \t0.76 % \n",
            "RAINY            ->  HAZE              \t21 \t0.73 % \n",
            "SNOWY            ->  HAZE              \t21 \t0.73 % \n",
            "HAZE             ->  SNOWY             \t17 \t0.59 % \n",
            "SUNNY            ->  SNOWY             \t14 \t0.48 % \n"
          ],
          "name": "stdout"
        }
      ]
    },
    {
      "cell_type": "markdown",
      "metadata": {
        "id": "PuLGrzKowgNO",
        "colab_type": "text"
      },
      "source": [
        "### Plot results"
      ]
    },
    {
      "cell_type": "code",
      "metadata": {
        "id": "Hq0h076yxIB3",
        "colab_type": "code",
        "outputId": "7ed96bee-7c93-4f7c-cbc1-4e0a0356db28",
        "colab": {
          "base_uri": "https://localhost:8080/",
          "height": 573
        }
      },
      "source": [
        "import matplotlib.pyplot as plt\n",
        "\n",
        "def plot_history(history,name):\n",
        "\n",
        "    # summarize history for accuracy\n",
        "    plt.plot(history.history['acc'])\n",
        "    plt.plot(history.history['val_acc'])\n",
        "    plt.title(name + ' accuracy')\n",
        "    plt.ylabel('accuracy')\n",
        "    plt.xlabel('epoch')\n",
        "    plt.legend(['train', 'test'], loc='upper left')\n",
        "    plt.show()\n",
        "    # summarize history for loss\n",
        "    plt.plot(history.history['loss'])\n",
        "    plt.plot(history.history['val_loss'])\n",
        "    plt.title(name + ' loss')\n",
        "    plt.ylabel('loss')\n",
        "    plt.xlabel('epoch')\n",
        "    plt.legend(['train', 'test'], loc='upper left')\n",
        "    plt.show()\n",
        "        \n",
        "#name=\"SvevaNet\"\n",
        "#plot_history(history, name)\n",
        "name=\"transferLearning\"\n",
        "plot_history(history_transfer, name)"
      ],
      "execution_count": 0,
      "outputs": [
        {
          "output_type": "display_data",
          "data": {
            "image/png": "[encoded data removed]",
            "text/plain": [
              "<Figure size 432x288 with 1 Axes>"
            ]
          },
          "metadata": {
            "tags": []
          }
        },
        {
          "output_type": "display_data",
          "data": {
            "image/png": "[encoded data removed]",
            "text/plain": [
              "<Figure size 432x288 with 1 Axes>"
            ]
          },
          "metadata": {
            "tags": []
          }
        }
      ]
    }
  ]
}