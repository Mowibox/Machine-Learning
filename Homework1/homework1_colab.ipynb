{
  "nbformat": 4,
  "nbformat_minor": 0,
  "metadata": {
    "colab": {
      "name": "Homework.ipynb",
      "provenance": [],
      "collapsed_sections": [],
      "toc_visible": true
    },
    "kernelspec": {
      "name": "python3",
      "display_name": "Python 3"
    }
  },
  "cells": [
    {
      "cell_type": "markdown",
      "metadata": {
        "id": "ro1_Bw3VfZLG",
        "colab_type": "text"
      },
      "source": [
        "# Import libraries"
      ]
    },
    {
      "cell_type": "code",
      "metadata": {
        "id": "IFBlVW-LFnGI",
        "colab_type": "code",
        "colab": {}
      },
      "source": [
        "import pandas as pd\n",
        "import numpy as np\n",
        "\n",
        "from sklearn import svm\n",
        "from sklearn.model_selection import train_test_split,cross_val_score, ShuffleSplit, GridSearchCV\n",
        "from sklearn.feature_extraction.text import *\n",
        "from sklearn.linear_model import LogisticRegression\n",
        "from sklearn.ensemble import RandomForestClassifier\n",
        "from sklearn.metrics import confusion_matrix, classification_report\n",
        "from sklearn.naive_bayes import *\n",
        "import matplotlib.pyplot as pl\n",
        "from mlxtend.plotting import plot_confusion_matrix\n",
        "from mlxtend.evaluate import confusion_matrix"
      ],
      "execution_count": 0,
      "outputs": []
    },
    {
      "cell_type": "markdown",
      "metadata": {
        "id": "5UVfyOQ-Ft24",
        "colab_type": "text"
      },
      "source": [
        "# Load Data\n",
        "\n",
        "Mounted Data"
      ]
    },
    {
      "cell_type": "code",
      "metadata": {
        "id": "73zSH0tKFsM4",
        "colab_type": "code",
        "outputId": "55f26526-8322-429c-935d-01adb2af78ce",
        "colab": {
          "base_uri": "https://localhost:8080/",
          "height": 56
        }
      },
      "source": [
        "from google.colab import drive\n",
        "drive.mount('/content/drive')"
      ],
      "execution_count": 2,
      "outputs": [
        {
          "output_type": "stream",
          "text": [
            "Drive already mounted at /content/drive; to attempt to forcibly remount, call drive.mount(\"/content/drive\", force_remount=True).\n"
          ],
          "name": "stdout"
        }
      ]
    },
    {
      "cell_type": "markdown",
      "metadata": {
        "id": "9pfV_vndF-Ge",
        "colab_type": "text"
      },
      "source": [
        "Read data from file that is in my google Drive"
      ]
    },
    {
      "cell_type": "code",
      "metadata": {
        "id": "GBwRhTwsF647",
        "colab_type": "code",
        "colab": {}
      },
      "source": [
        "filename= '/content/drive/My Drive/train_dataset.jsonl'\n",
        "data = pd.read_json(filename, lines=True)"
      ],
      "execution_count": 0,
      "outputs": []
    },
    {
      "cell_type": "markdown",
      "metadata": {
        "id": "i-gbLr5uF-7X",
        "colab_type": "text"
      },
      "source": [
        "X is a list that contains all istruction of programs in the dataset "
      ]
    },
    {
      "cell_type": "code",
      "metadata": {
        "id": "S8FVKIgNF50k",
        "colab_type": "code",
        "colab": {}
      },
      "source": [
        "X = [\"  \".join(x) for x in data.instructions]\n",
        "# for i in range (0, len(data.instructions)):\n",
        "#   new = \" \".join(data.instructions[i])\n",
        "#   data.instructions[i]=new"
      ],
      "execution_count": 0,
      "outputs": []
    },
    {
      "cell_type": "markdown",
      "metadata": {
        "id": "uhWZfEo5Dg3z",
        "colab_type": "text"
      },
      "source": [
        "X is a list that contains first word of each instruction of programs in the dataset"
      ]
    },
    {
      "cell_type": "code",
      "metadata": {
        "id": "M-vieoxSDoEk",
        "colab_type": "code",
        "colab": {}
      },
      "source": [
        "text=[]\n",
        "X=[]\n",
        "for row in data.instructions:\n",
        "  for string in row:\n",
        "    word= string.split()[0]\n",
        "    text.append(word)\n",
        "  row=\" \".join(text)\n",
        "  X.append(row)\n",
        "  text=[]"
      ],
      "execution_count": 0,
      "outputs": []
    },
    {
      "cell_type": "markdown",
      "metadata": {
        "id": "OnOQ1vPzF6Ev",
        "colab_type": "text"
      },
      "source": [
        "Compute Tfidf -  Transforms text to feature vectors that can be used as input to estimator\n",
        "\n",
        "TFIDF is a numerical statistic that is intended to reflect how important a word is to a document in a collection or corpus.  The tf–idf value increases proportionally to the number of times a word appears in the document and is offset by the number of documents in the corpus that contain the word, which helps to adjust for the fact that some words appear more frequently in general.\n",
        "In our case we have instructions that appear in X, list that we create from dataset.\n"
      ]
    },
    {
      "cell_type": "code",
      "metadata": {
        "id": "dzqYV1X5F7iK",
        "colab_type": "code",
        "colab": {}
      },
      "source": [
        "#vectorizer = HashingVectorizer(ngram_range=(1,3))\n",
        "#vectorizer = CountVectorizer()\n",
        "vectorizer = TfidfVectorizer(ngram_range=(1,3))"
      ],
      "execution_count": 0,
      "outputs": []
    },
    {
      "cell_type": "markdown",
      "metadata": {
        "id": "AnMTwUhXGZkH",
        "colab_type": "text"
      },
      "source": [
        "## Split Data\n"
      ]
    },
    {
      "cell_type": "markdown",
      "metadata": {
        "id": "BZag3i2i07p_",
        "colab_type": "text"
      },
      "source": [
        "With function *fit_trasform* the vectorizer learn vocabulary and idf, return term-document matrix."
      ]
    },
    {
      "cell_type": "code",
      "metadata": {
        "id": "s_Q4qcQ9Ycg3",
        "colab_type": "code",
        "colab": {}
      },
      "source": [
        "X_all=vectorizer.fit_transform(X)"
      ],
      "execution_count": 0,
      "outputs": []
    },
    {
      "cell_type": "markdown",
      "metadata": {
        "colab_type": "text",
        "id": "N0SUkNBs-oxp"
      },
      "source": [
        "### Split for exercise 1 "
      ]
    },
    {
      "cell_type": "markdown",
      "metadata": {
        "id": "_VR9-yDP1qA6",
        "colab_type": "text"
      },
      "source": [
        "For exercise 1 we want to consider the output as optimization,  *y_all1= data.opt*, so we take column of dataset labeled *opt* \n",
        "\n",
        "We use a function *train_test_split* to create 4 sets: 2 for training and 2 for test. We use it to choose the size of our training set, because with it we can predict new instances that we want to classify. "
      ]
    },
    {
      "cell_type": "code",
      "metadata": {
        "id": "043BsD-dGZzZ",
        "colab_type": "code",
        "colab": {}
      },
      "source": [
        "y_all1 = data.opt\n",
        "X_train1, X_test1, y_train1, y_test1 = train_test_split(X_all, y_all1, test_size=0.2, random_state=15)\n"
      ],
      "execution_count": 0,
      "outputs": []
    },
    {
      "cell_type": "markdown",
      "metadata": {
        "id": "e_tHFn3nY495",
        "colab_type": "text"
      },
      "source": [
        "### Split for exercise 2\n"
      ]
    },
    {
      "cell_type": "markdown",
      "metadata": {
        "id": "WFTNmVap22ya",
        "colab_type": "text"
      },
      "source": [
        "For exercise 2 we want to consider the output as compiler, *y_all2= data.compiler*, so we take column of dataset labeled compiler\n",
        "\n",
        "We use a function *train_test_split*  same as exercise 1."
      ]
    },
    {
      "cell_type": "code",
      "metadata": {
        "id": "h5-ma50uYsIk",
        "colab_type": "code",
        "colab": {}
      },
      "source": [
        "y_all2 = data.compiler\n",
        "X_train2, X_test2, y_train2, y_test2 = train_test_split(X_all, y_all2, test_size=0.2, random_state=15)\n"
      ],
      "execution_count": 0,
      "outputs": []
    },
    {
      "cell_type": "markdown",
      "metadata": {
        "id": "OUHL4WTJGZ77",
        "colab_type": "text"
      },
      "source": [
        "## Create a Model"
      ]
    },
    {
      "cell_type": "markdown",
      "metadata": {
        "id": "PbYV9CBb7keZ",
        "colab_type": "text"
      },
      "source": [
        "Find a model for exercise 1 that can represent you set "
      ]
    },
    {
      "cell_type": "markdown",
      "metadata": {
        "id": "vDOHBxD2gnXG",
        "colab_type": "text"
      },
      "source": [
        "### Model for exercise 1"
      ]
    },
    {
      "cell_type": "markdown",
      "metadata": {
        "id": "lTP0xFs6brU-",
        "colab_type": "text"
      },
      "source": [
        "#### Bernoulli Model"
      ]
    },
    {
      "cell_type": "code",
      "metadata": {
        "colab_type": "code",
        "id": "HnF1o26t_mxC",
        "colab": {}
      },
      "source": [
        "model1 =BernoulliNB()\n",
        "model1.fit(X_train1, y_train1)\n",
        "print('Bernoulli Model created')"
      ],
      "execution_count": 0,
      "outputs": []
    },
    {
      "cell_type": "markdown",
      "metadata": {
        "colab_type": "text",
        "id": "AaPvIsF4_mmq"
      },
      "source": [
        "#### LogisticRegression Model"
      ]
    },
    {
      "cell_type": "code",
      "metadata": {
        "id": "4lwFLv0wbrwi",
        "colab_type": "code",
        "outputId": "04362d97-113c-4767-d096-23d6bcdd2d69",
        "colab": {
          "base_uri": "https://localhost:8080/",
          "height": 93
        }
      },
      "source": [
        "model1=LogisticRegression(penalty='l1', solver='saga')\n",
        "model1.fit(X_train1, y_train1)\n",
        "print('LogisticRegression Model created')"
      ],
      "execution_count": 11,
      "outputs": [
        {
          "output_type": "stream",
          "text": [
            "LogisticRegression Model created\n"
          ],
          "name": "stdout"
        },
        {
          "output_type": "stream",
          "text": [
            "/usr/local/lib/python3.6/dist-packages/sklearn/linear_model/sag.py:337: ConvergenceWarning: The max_iter was reached which means the coef_ did not converge\n",
            "  \"the coef_ did not converge\", ConvergenceWarning)\n"
          ],
          "name": "stderr"
        }
      ]
    },
    {
      "cell_type": "markdown",
      "metadata": {
        "id": "PNktDzegCxsM",
        "colab_type": "text"
      },
      "source": [
        "#### SVM Model"
      ]
    },
    {
      "cell_type": "code",
      "metadata": {
        "id": "nZRcpBhmCuF9",
        "colab_type": "code",
        "colab": {}
      },
      "source": [
        "model1 = svm.SVC(kernel='linear', gamma='scale')\n",
        "model1.fit(X_train1, y_train1)\n",
        "print('SVM Model created')"
      ],
      "execution_count": 0,
      "outputs": []
    },
    {
      "cell_type": "markdown",
      "metadata": {
        "id": "6nl_E08RhHoQ",
        "colab_type": "text"
      },
      "source": [
        "### Model for exercise 2"
      ]
    },
    {
      "cell_type": "markdown",
      "metadata": {
        "id": "zrUgMOy79Ofp",
        "colab_type": "text"
      },
      "source": [
        "Find a model for exercise 2 that can represent you set "
      ]
    },
    {
      "cell_type": "markdown",
      "metadata": {
        "id": "izgnz4p4hKlH",
        "colab_type": "text"
      },
      "source": [
        "#### Multinomial Model"
      ]
    },
    {
      "cell_type": "code",
      "metadata": {
        "id": "noJcGTJ6hKO7",
        "colab_type": "code",
        "colab": {}
      },
      "source": [
        "model2 = MultinomialNB()\n",
        "model2.fit(X_train2, y_train2)\n",
        "print('Multinomial Model created')"
      ],
      "execution_count": 0,
      "outputs": []
    },
    {
      "cell_type": "markdown",
      "metadata": {
        "id": "Ao20hMhKhO4p",
        "colab_type": "text"
      },
      "source": [
        "#### Logistic Regression Model"
      ]
    },
    {
      "cell_type": "code",
      "metadata": {
        "id": "m2ojmJe-hKFI",
        "colab_type": "code",
        "outputId": "0fdaea3c-a08f-46f3-f098-1c418f791f57",
        "colab": {
          "base_uri": "https://localhost:8080/",
          "height": 93
        }
      },
      "source": [
        "model2=LogisticRegression(penalty='l1', solver='saga', multi_class='multinomial')\n",
        "model2.fit(X_train2, y_train2)\n",
        "print('LogisticRegression Model created')\n"
      ],
      "execution_count": 12,
      "outputs": [
        {
          "output_type": "stream",
          "text": [
            "/usr/local/lib/python3.6/dist-packages/sklearn/linear_model/sag.py:337: ConvergenceWarning: The max_iter was reached which means the coef_ did not converge\n",
            "  \"the coef_ did not converge\", ConvergenceWarning)\n"
          ],
          "name": "stderr"
        },
        {
          "output_type": "stream",
          "text": [
            "LogisticRegression Model created\n"
          ],
          "name": "stdout"
        }
      ]
    },
    {
      "cell_type": "markdown",
      "metadata": {
        "id": "WElMIx2tGwo0",
        "colab_type": "text"
      },
      "source": [
        "## Evaluation"
      ]
    },
    {
      "cell_type": "markdown",
      "metadata": {
        "id": "6Pu-UbahA4jz",
        "colab_type": "text"
      },
      "source": [
        "To evaluate the performance of a classification model such as the one that you just trained, you can use evaluation such as the confusion matrix and classification report."
      ]
    },
    {
      "cell_type": "markdown",
      "metadata": {
        "colab_type": "text",
        "id": "UTSpb-ovySDc"
      },
      "source": [
        "### Evaluation for esercise 1"
      ]
    },
    {
      "cell_type": "markdown",
      "metadata": {
        "id": "GdF3v1hXuFxJ",
        "colab_type": "text"
      },
      "source": [
        "#### Evaluation test set"
      ]
    },
    {
      "cell_type": "code",
      "metadata": {
        "id": "512ONF2A7bmH",
        "colab_type": "code",
        "colab": {}
      },
      "source": [
        "y_pred1 = model1.predict(X_test1)"
      ],
      "execution_count": 0,
      "outputs": []
    },
    {
      "cell_type": "markdown",
      "metadata": {
        "id": "EXdBR6X_7fNN",
        "colab_type": "text"
      },
      "source": [
        "Confusion Matrix"
      ]
    },
    {
      "cell_type": "code",
      "metadata": {
        "id": "0LNEiKHy7gob",
        "colab_type": "code",
        "outputId": "d7d982bc-518f-4498-836e-08e116f18b4e",
        "colab": {
          "base_uri": "https://localhost:8080/",
          "height": 279
        }
      },
      "source": [
        "cm1= confusion_matrix(y_test1,y_pred1)\n",
        "fig1, ax1 = plot_confusion_matrix(conf_mat=cm1,\n",
        "                                colorbar=True,\n",
        "                                show_absolute=True,\n",
        "                                show_normed=True\n",
        "                                )"
      ],
      "execution_count": 14,
      "outputs": [
        {
          "output_type": "display_data",
          "data": {
            "image/png": "[encoded data removed]",
            "text/plain": [
              "<Figure size 432x288 with 2 Axes>"
            ]
          },
          "metadata": {
            "tags": []
          }
        }
      ]
    },
    {
      "cell_type": "markdown",
      "metadata": {
        "id": "HmiABPCZ7ab9",
        "colab_type": "text"
      },
      "source": [
        "Classification Report"
      ]
    },
    {
      "cell_type": "code",
      "metadata": {
        "colab_type": "code",
        "id": "Fl5OtZC8ySD_",
        "outputId": "f3ebc696-7de9-46eb-8be8-591e32eae7d1",
        "colab": {
          "base_uri": "https://localhost:8080/",
          "height": 184
        }
      },
      "source": [
        "print(classification_report(y_test1, y_pred1))"
      ],
      "execution_count": 15,
      "outputs": [
        {
          "output_type": "stream",
          "text": [
            "              precision    recall  f1-score   support\n",
            "\n",
            "           H       0.81      0.81      0.81      2388\n",
            "           L       0.87      0.87      0.87      3612\n",
            "\n",
            "    accuracy                           0.85      6000\n",
            "   macro avg       0.84      0.84      0.84      6000\n",
            "weighted avg       0.85      0.85      0.85      6000\n",
            "\n"
          ],
          "name": "stdout"
        }
      ]
    },
    {
      "cell_type": "markdown",
      "metadata": {
        "id": "Q1ZWXvgIuKxX",
        "colab_type": "text"
      },
      "source": [
        "#### Evaluation Train Set"
      ]
    },
    {
      "cell_type": "markdown",
      "metadata": {
        "id": "CJRGw5mtVF1j",
        "colab_type": "text"
      },
      "source": [
        "Classification report"
      ]
    },
    {
      "cell_type": "code",
      "metadata": {
        "id": "d5uTjzmkuJ13",
        "colab_type": "code",
        "outputId": "e68c4496-1d5f-4a90-b6ba-4326699246c4",
        "colab": {
          "base_uri": "https://localhost:8080/",
          "height": 184
        }
      },
      "source": [
        "y_pred11 = model1.predict(X_train1)\n",
        "print(classification_report(y_train1, y_pred11))"
      ],
      "execution_count": 16,
      "outputs": [
        {
          "output_type": "stream",
          "text": [
            "              precision    recall  f1-score   support\n",
            "\n",
            "           H       0.83      0.83      0.83      9688\n",
            "           L       0.88      0.88      0.88     14312\n",
            "\n",
            "    accuracy                           0.86     24000\n",
            "   macro avg       0.86      0.86      0.86     24000\n",
            "weighted avg       0.86      0.86      0.86     24000\n",
            "\n"
          ],
          "name": "stdout"
        }
      ]
    },
    {
      "cell_type": "markdown",
      "metadata": {
        "colab_type": "text",
        "id": "fXDsduM9yYIQ"
      },
      "source": [
        "### Evaluation for esercise 2"
      ]
    },
    {
      "cell_type": "markdown",
      "metadata": {
        "colab_type": "text",
        "id": "UgN8Idbh-j3e"
      },
      "source": [
        "#### Evaluation test set"
      ]
    },
    {
      "cell_type": "code",
      "metadata": {
        "colab_type": "code",
        "id": "WgM5YXdl-j3h",
        "colab": {}
      },
      "source": [
        "y_pred2 = model2.predict(X_test2)"
      ],
      "execution_count": 0,
      "outputs": []
    },
    {
      "cell_type": "markdown",
      "metadata": {
        "colab_type": "text",
        "id": "udAzZerd-j3p"
      },
      "source": [
        "Confusion Matrix"
      ]
    },
    {
      "cell_type": "code",
      "metadata": {
        "colab_type": "code",
        "id": "fHbOh6Za-j3r",
        "outputId": "4eac9039-10e9-4d91-fc16-27224c6b2959",
        "colab": {
          "base_uri": "https://localhost:8080/",
          "height": 335
        }
      },
      "source": [
        "cm = confusion_matrix(y_target=y_test2, \n",
        "                      y_predicted=y_pred2, \n",
        "                      binary=False)\n",
        "print(cm)\n",
        "fig, ax = plot_confusion_matrix(conf_mat=cm,\n",
        "                                colorbar=True,\n",
        "                                show_absolute=True,\n",
        "                                show_normed=True\n",
        "                                )"
      ],
      "execution_count": 18,
      "outputs": [
        {
          "output_type": "stream",
          "text": [
            "[[1903   68   38]\n",
            " [  78 1870   46]\n",
            " [  63   41 1893]]\n"
          ],
          "name": "stdout"
        },
        {
          "output_type": "display_data",
          "data": {
            "image/png": "[encoded data removed]",
            "text/plain": [
              "<Figure size 432x288 with 2 Axes>"
            ]
          },
          "metadata": {
            "tags": []
          }
        }
      ]
    },
    {
      "cell_type": "markdown",
      "metadata": {
        "colab_type": "text",
        "id": "43xnd-O_-j3w"
      },
      "source": [
        "Classification Report"
      ]
    },
    {
      "cell_type": "code",
      "metadata": {
        "colab_type": "code",
        "id": "e26OUfCp-j3y",
        "outputId": "f2a89e56-ef10-4d6c-f7de-a1c486240dac",
        "colab": {
          "base_uri": "https://localhost:8080/",
          "height": 203
        }
      },
      "source": [
        "print(classification_report(y_test2, y_pred2))"
      ],
      "execution_count": 19,
      "outputs": [
        {
          "output_type": "stream",
          "text": [
            "              precision    recall  f1-score   support\n",
            "\n",
            "       clang       0.93      0.95      0.94      2009\n",
            "         gcc       0.94      0.94      0.94      1994\n",
            "         icc       0.96      0.95      0.95      1997\n",
            "\n",
            "    accuracy                           0.94      6000\n",
            "   macro avg       0.94      0.94      0.94      6000\n",
            "weighted avg       0.94      0.94      0.94      6000\n",
            "\n"
          ],
          "name": "stdout"
        }
      ]
    },
    {
      "cell_type": "markdown",
      "metadata": {
        "colab_type": "text",
        "id": "G5DESfNp-j33"
      },
      "source": [
        "#### Evaluation Train Set"
      ]
    },
    {
      "cell_type": "code",
      "metadata": {
        "colab_type": "code",
        "id": "HETSUkpK-j35",
        "outputId": "e8878604-a7b4-4c8f-e84c-9768c58ad88f",
        "colab": {
          "base_uri": "https://localhost:8080/",
          "height": 203
        }
      },
      "source": [
        "y_pred22 = model2.predict(X_train2)\n",
        "print(classification_report(y_train2, y_pred22))"
      ],
      "execution_count": 20,
      "outputs": [
        {
          "output_type": "stream",
          "text": [
            "              precision    recall  f1-score   support\n",
            "\n",
            "       clang       0.94      0.95      0.94      7991\n",
            "         gcc       0.94      0.94      0.94      8006\n",
            "         icc       0.96      0.95      0.96      8003\n",
            "\n",
            "    accuracy                           0.95     24000\n",
            "   macro avg       0.95      0.95      0.95     24000\n",
            "weighted avg       0.95      0.95      0.95     24000\n",
            "\n"
          ],
          "name": "stdout"
        }
      ]
    },
    {
      "cell_type": "markdown",
      "metadata": {
        "id": "wacyCULCmUNH",
        "colab_type": "text"
      },
      "source": [
        "## Blind Test"
      ]
    },
    {
      "cell_type": "markdown",
      "metadata": {
        "id": "i7lJCiPtHfH5",
        "colab_type": "text"
      },
      "source": [
        "The blind test contains only input data to classify with 2 models that i have choose for opt and for compiler"
      ]
    },
    {
      "cell_type": "code",
      "metadata": {
        "id": "aufMJKNWmUAg",
        "colab_type": "code",
        "colab": {}
      },
      "source": [
        "filename_new= '/content/drive/My Drive/test_dataset_blind.jsonl'\n",
        "data_new = pd.read_json(filename_new, lines=True)"
      ],
      "execution_count": 0,
      "outputs": []
    },
    {
      "cell_type": "markdown",
      "metadata": {
        "id": "2LZnHYGBIp53",
        "colab_type": "text"
      },
      "source": [
        "We need to take again instructions of blind test"
      ]
    },
    {
      "cell_type": "code",
      "metadata": {
        "id": "50N6tm4Msl94",
        "colab_type": "code",
        "colab": {}
      },
      "source": [
        "for i in range (0, len(data_new.instructions)):\n",
        "    new = \" \".join(data_new.instructions[i])\n",
        "    data_new.instructions[i]=new"
      ],
      "execution_count": 0,
      "outputs": []
    },
    {
      "cell_type": "markdown",
      "metadata": {
        "id": "YLCENv4vIvT5",
        "colab_type": "text"
      },
      "source": [
        "In this case we use *trasform* instruction of vectorizer,that we use for two models, because we don't want it learn vocabulary but because it already knows the vocabulary. We want only that it transforms instructions.\n",
        "\n",
        "And after make predictions using model1 and model2, respectively model used fro ot and model used for compiler."
      ]
    },
    {
      "cell_type": "code",
      "metadata": {
        "id": "LApNV2JJspVO",
        "colab_type": "code",
        "colab": {}
      },
      "source": [
        "X_all_new=vectorizer.transform(data_new.instructions)\n",
        "y_pred_new1= model1.predict(X_all_new)\n",
        "y_pred_new2= model2.predict(X_all_new)"
      ],
      "execution_count": 0,
      "outputs": []
    },
    {
      "cell_type": "markdown",
      "metadata": {
        "id": "Fiby0fp4Jf_9",
        "colab_type": "text"
      },
      "source": [
        "Now we wanto to creare CSV file, so we write in cvs in such way we can obtain < compiler >, < opt >"
      ]
    },
    {
      "cell_type": "code",
      "metadata": {
        "id": "Hrm_uyyBsreQ",
        "colab_type": "code",
        "outputId": "0a7c3e32-d595-4d80-ad97-885d03d4a769",
        "colab": {
          "base_uri": "https://localhost:8080/",
          "height": 54
        }
      },
      "source": [
        "countH=0\n",
        "countL=0\n",
        "with open('/content/drive/My Drive/1743997.csv','w') as file:\n",
        "    for index in range (0, len(y_pred_new2)):\n",
        "        if(y_pred_new1[index]=='H'): countH = countH+1\n",
        "        else: countL = countL+1\n",
        "        file.write(y_pred_new2[index]+ \",\" + y_pred_new1[index])\n",
        "        file.write('\\n')\n",
        "file.close()\n",
        "\n",
        "print(\"H\", countH)\n",
        "print(\"L\", countL)"
      ],
      "execution_count": 24,
      "outputs": [
        {
          "output_type": "stream",
          "text": [
            "H 1294\n",
            "L 1706\n"
          ],
          "name": "stdout"
        }
      ]
    }
  ]
}